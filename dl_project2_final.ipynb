{
  "metadata": {
    "kernelspec": {
      "name": "python3",
      "display_name": "Python 3"
    },
    "language_info": {
      "name": "python",
      "version": "3.11.11",
      "mimetype": "text/x-python",
      "codemirror_mode": {
        "name": "ipython",
        "version": 3
      },
      "pygments_lexer": "ipython3",
      "nbconvert_exporter": "python",
      "file_extension": ".py"
    },
    "colab": {
      "gpuType": "T4",
      "provenance": []
    },
    "accelerator": "GPU",
    "kaggle": {
      "accelerator": "gpu",
      "dataSources": [],
      "dockerImageVersionId": 31011,
      "isInternetEnabled": true,
      "language": "python",
      "sourceType": "notebook",
      "isGpuEnabled": true
    },
    "widgets": {
      "application/vnd.jupyter.widget-state+json": {
        "aca36fc2ed0740afb06b2d32ad283206": {
          "model_module": "@jupyter-widgets/controls",
          "model_name": "HBoxModel",
          "model_module_version": "1.5.0",
          "state": {
            "_dom_classes": [],
            "_model_module": "@jupyter-widgets/controls",
            "_model_module_version": "1.5.0",
            "_model_name": "HBoxModel",
            "_view_count": null,
            "_view_module": "@jupyter-widgets/controls",
            "_view_module_version": "1.5.0",
            "_view_name": "HBoxView",
            "box_style": "",
            "children": [
              "IPY_MODEL_3f0dcd5c898541888b611b111a805fd7",
              "IPY_MODEL_410498a05d64417e8512275c65b29be9",
              "IPY_MODEL_5aefd5b4c919485383a47f9c01fefe51"
            ],
            "layout": "IPY_MODEL_e24a0b5ca76a47809477caeec39ed81b"
          }
        },
        "3f0dcd5c898541888b611b111a805fd7": {
          "model_module": "@jupyter-widgets/controls",
          "model_name": "HTMLModel",
          "model_module_version": "1.5.0",
          "state": {
            "_dom_classes": [],
            "_model_module": "@jupyter-widgets/controls",
            "_model_module_version": "1.5.0",
            "_model_name": "HTMLModel",
            "_view_count": null,
            "_view_module": "@jupyter-widgets/controls",
            "_view_module_version": "1.5.0",
            "_view_name": "HTMLView",
            "description": "",
            "description_tooltip": null,
            "layout": "IPY_MODEL_f6dc8d07bed24ae19aac955dbcc83dbb",
            "placeholder": "​",
            "style": "IPY_MODEL_1b7d85f4da0447579c451ea8e167b1c2",
            "value": "Downloading builder script: 100%"
          }
        },
        "410498a05d64417e8512275c65b29be9": {
          "model_module": "@jupyter-widgets/controls",
          "model_name": "FloatProgressModel",
          "model_module_version": "1.5.0",
          "state": {
            "_dom_classes": [],
            "_model_module": "@jupyter-widgets/controls",
            "_model_module_version": "1.5.0",
            "_model_name": "FloatProgressModel",
            "_view_count": null,
            "_view_module": "@jupyter-widgets/controls",
            "_view_module_version": "1.5.0",
            "_view_name": "ProgressView",
            "bar_style": "success",
            "description": "",
            "description_tooltip": null,
            "layout": "IPY_MODEL_92415134e6d445e2839e6008a6fa6e58",
            "max": 4203,
            "min": 0,
            "orientation": "horizontal",
            "style": "IPY_MODEL_6ef11b1d8ec4404f857f417696852cf3",
            "value": 4203
          }
        },
        "5aefd5b4c919485383a47f9c01fefe51": {
          "model_module": "@jupyter-widgets/controls",
          "model_name": "HTMLModel",
          "model_module_version": "1.5.0",
          "state": {
            "_dom_classes": [],
            "_model_module": "@jupyter-widgets/controls",
            "_model_module_version": "1.5.0",
            "_model_name": "HTMLModel",
            "_view_count": null,
            "_view_module": "@jupyter-widgets/controls",
            "_view_module_version": "1.5.0",
            "_view_name": "HTMLView",
            "description": "",
            "description_tooltip": null,
            "layout": "IPY_MODEL_fe2599676b3241a384dda948cc2cc4a9",
            "placeholder": "​",
            "style": "IPY_MODEL_f583a29968fd4431b1e5dbd3c9d48a20",
            "value": " 4.20k/4.20k [00:00&lt;00:00, 419kB/s]"
          }
        },
        "e24a0b5ca76a47809477caeec39ed81b": {
          "model_module": "@jupyter-widgets/base",
          "model_name": "LayoutModel",
          "model_module_version": "1.2.0",
          "state": {
            "_model_module": "@jupyter-widgets/base",
            "_model_module_version": "1.2.0",
            "_model_name": "LayoutModel",
            "_view_count": null,
            "_view_module": "@jupyter-widgets/base",
            "_view_module_version": "1.2.0",
            "_view_name": "LayoutView",
            "align_content": null,
            "align_items": null,
            "align_self": null,
            "border": null,
            "bottom": null,
            "display": null,
            "flex": null,
            "flex_flow": null,
            "grid_area": null,
            "grid_auto_columns": null,
            "grid_auto_flow": null,
            "grid_auto_rows": null,
            "grid_column": null,
            "grid_gap": null,
            "grid_row": null,
            "grid_template_areas": null,
            "grid_template_columns": null,
            "grid_template_rows": null,
            "height": null,
            "justify_content": null,
            "justify_items": null,
            "left": null,
            "margin": null,
            "max_height": null,
            "max_width": null,
            "min_height": null,
            "min_width": null,
            "object_fit": null,
            "object_position": null,
            "order": null,
            "overflow": null,
            "overflow_x": null,
            "overflow_y": null,
            "padding": null,
            "right": null,
            "top": null,
            "visibility": null,
            "width": null
          }
        },
        "f6dc8d07bed24ae19aac955dbcc83dbb": {
          "model_module": "@jupyter-widgets/base",
          "model_name": "LayoutModel",
          "model_module_version": "1.2.0",
          "state": {
            "_model_module": "@jupyter-widgets/base",
            "_model_module_version": "1.2.0",
            "_model_name": "LayoutModel",
            "_view_count": null,
            "_view_module": "@jupyter-widgets/base",
            "_view_module_version": "1.2.0",
            "_view_name": "LayoutView",
            "align_content": null,
            "align_items": null,
            "align_self": null,
            "border": null,
            "bottom": null,
            "display": null,
            "flex": null,
            "flex_flow": null,
            "grid_area": null,
            "grid_auto_columns": null,
            "grid_auto_flow": null,
            "grid_auto_rows": null,
            "grid_column": null,
            "grid_gap": null,
            "grid_row": null,
            "grid_template_areas": null,
            "grid_template_columns": null,
            "grid_template_rows": null,
            "height": null,
            "justify_content": null,
            "justify_items": null,
            "left": null,
            "margin": null,
            "max_height": null,
            "max_width": null,
            "min_height": null,
            "min_width": null,
            "object_fit": null,
            "object_position": null,
            "order": null,
            "overflow": null,
            "overflow_x": null,
            "overflow_y": null,
            "padding": null,
            "right": null,
            "top": null,
            "visibility": null,
            "width": null
          }
        },
        "1b7d85f4da0447579c451ea8e167b1c2": {
          "model_module": "@jupyter-widgets/controls",
          "model_name": "DescriptionStyleModel",
          "model_module_version": "1.5.0",
          "state": {
            "_model_module": "@jupyter-widgets/controls",
            "_model_module_version": "1.5.0",
            "_model_name": "DescriptionStyleModel",
            "_view_count": null,
            "_view_module": "@jupyter-widgets/base",
            "_view_module_version": "1.2.0",
            "_view_name": "StyleView",
            "description_width": ""
          }
        },
        "92415134e6d445e2839e6008a6fa6e58": {
          "model_module": "@jupyter-widgets/base",
          "model_name": "LayoutModel",
          "model_module_version": "1.2.0",
          "state": {
            "_model_module": "@jupyter-widgets/base",
            "_model_module_version": "1.2.0",
            "_model_name": "LayoutModel",
            "_view_count": null,
            "_view_module": "@jupyter-widgets/base",
            "_view_module_version": "1.2.0",
            "_view_name": "LayoutView",
            "align_content": null,
            "align_items": null,
            "align_self": null,
            "border": null,
            "bottom": null,
            "display": null,
            "flex": null,
            "flex_flow": null,
            "grid_area": null,
            "grid_auto_columns": null,
            "grid_auto_flow": null,
            "grid_auto_rows": null,
            "grid_column": null,
            "grid_gap": null,
            "grid_row": null,
            "grid_template_areas": null,
            "grid_template_columns": null,
            "grid_template_rows": null,
            "height": null,
            "justify_content": null,
            "justify_items": null,
            "left": null,
            "margin": null,
            "max_height": null,
            "max_width": null,
            "min_height": null,
            "min_width": null,
            "object_fit": null,
            "object_position": null,
            "order": null,
            "overflow": null,
            "overflow_x": null,
            "overflow_y": null,
            "padding": null,
            "right": null,
            "top": null,
            "visibility": null,
            "width": null
          }
        },
        "6ef11b1d8ec4404f857f417696852cf3": {
          "model_module": "@jupyter-widgets/controls",
          "model_name": "ProgressStyleModel",
          "model_module_version": "1.5.0",
          "state": {
            "_model_module": "@jupyter-widgets/controls",
            "_model_module_version": "1.5.0",
            "_model_name": "ProgressStyleModel",
            "_view_count": null,
            "_view_module": "@jupyter-widgets/base",
            "_view_module_version": "1.2.0",
            "_view_name": "StyleView",
            "bar_color": null,
            "description_width": ""
          }
        },
        "fe2599676b3241a384dda948cc2cc4a9": {
          "model_module": "@jupyter-widgets/base",
          "model_name": "LayoutModel",
          "model_module_version": "1.2.0",
          "state": {
            "_model_module": "@jupyter-widgets/base",
            "_model_module_version": "1.2.0",
            "_model_name": "LayoutModel",
            "_view_count": null,
            "_view_module": "@jupyter-widgets/base",
            "_view_module_version": "1.2.0",
            "_view_name": "LayoutView",
            "align_content": null,
            "align_items": null,
            "align_self": null,
            "border": null,
            "bottom": null,
            "display": null,
            "flex": null,
            "flex_flow": null,
            "grid_area": null,
            "grid_auto_columns": null,
            "grid_auto_flow": null,
            "grid_auto_rows": null,
            "grid_column": null,
            "grid_gap": null,
            "grid_row": null,
            "grid_template_areas": null,
            "grid_template_columns": null,
            "grid_template_rows": null,
            "height": null,
            "justify_content": null,
            "justify_items": null,
            "left": null,
            "margin": null,
            "max_height": null,
            "max_width": null,
            "min_height": null,
            "min_width": null,
            "object_fit": null,
            "object_position": null,
            "order": null,
            "overflow": null,
            "overflow_x": null,
            "overflow_y": null,
            "padding": null,
            "right": null,
            "top": null,
            "visibility": null,
            "width": null
          }
        },
        "f583a29968fd4431b1e5dbd3c9d48a20": {
          "model_module": "@jupyter-widgets/controls",
          "model_name": "DescriptionStyleModel",
          "model_module_version": "1.5.0",
          "state": {
            "_model_module": "@jupyter-widgets/controls",
            "_model_module_version": "1.5.0",
            "_model_name": "DescriptionStyleModel",
            "_view_count": null,
            "_view_module": "@jupyter-widgets/base",
            "_view_module_version": "1.2.0",
            "_view_name": "StyleView",
            "description_width": ""
          }
        },
        "03abc77243dd4fc09c5cd9b2dcd8f522": {
          "model_module": "@jupyter-widgets/controls",
          "model_name": "HBoxModel",
          "model_module_version": "1.5.0",
          "state": {
            "_dom_classes": [],
            "_model_module": "@jupyter-widgets/controls",
            "_model_module_version": "1.5.0",
            "_model_name": "HBoxModel",
            "_view_count": null,
            "_view_module": "@jupyter-widgets/controls",
            "_view_module_version": "1.5.0",
            "_view_name": "HBoxView",
            "box_style": "",
            "children": [
              "IPY_MODEL_d3d3ee3c3ff84b1e8af2ecc080f56837",
              "IPY_MODEL_2ec09d6c8b63423d8121514f85159fc3",
              "IPY_MODEL_095cbabdcd92413382f2729483c5d4ca"
            ],
            "layout": "IPY_MODEL_55181ab1710d4ad4a038776378d80311"
          }
        },
        "d3d3ee3c3ff84b1e8af2ecc080f56837": {
          "model_module": "@jupyter-widgets/controls",
          "model_name": "HTMLModel",
          "model_module_version": "1.5.0",
          "state": {
            "_dom_classes": [],
            "_model_module": "@jupyter-widgets/controls",
            "_model_module_version": "1.5.0",
            "_model_name": "HTMLModel",
            "_view_count": null,
            "_view_module": "@jupyter-widgets/controls",
            "_view_module_version": "1.5.0",
            "_view_name": "HTMLView",
            "description": "",
            "description_tooltip": null,
            "layout": "IPY_MODEL_98c2f9cb1c574470b1bb5d32ec40fa7c",
            "placeholder": "​",
            "style": "IPY_MODEL_5533b60c479c4938b6069b0f5b7b9de6",
            "value": "Map: 100%"
          }
        },
        "2ec09d6c8b63423d8121514f85159fc3": {
          "model_module": "@jupyter-widgets/controls",
          "model_name": "FloatProgressModel",
          "model_module_version": "1.5.0",
          "state": {
            "_dom_classes": [],
            "_model_module": "@jupyter-widgets/controls",
            "_model_module_version": "1.5.0",
            "_model_name": "FloatProgressModel",
            "_view_count": null,
            "_view_module": "@jupyter-widgets/controls",
            "_view_module_version": "1.5.0",
            "_view_name": "ProgressView",
            "bar_style": "success",
            "description": "",
            "description_tooltip": null,
            "layout": "IPY_MODEL_8efddf0b20624d0cb75f84bc3fe0c921",
            "max": 8000,
            "min": 0,
            "orientation": "horizontal",
            "style": "IPY_MODEL_e282b0990b9a430c809e1cb5fe76b300",
            "value": 8000
          }
        },
        "095cbabdcd92413382f2729483c5d4ca": {
          "model_module": "@jupyter-widgets/controls",
          "model_name": "HTMLModel",
          "model_module_version": "1.5.0",
          "state": {
            "_dom_classes": [],
            "_model_module": "@jupyter-widgets/controls",
            "_model_module_version": "1.5.0",
            "_model_name": "HTMLModel",
            "_view_count": null,
            "_view_module": "@jupyter-widgets/controls",
            "_view_module_version": "1.5.0",
            "_view_name": "HTMLView",
            "description": "",
            "description_tooltip": null,
            "layout": "IPY_MODEL_dcfd800dd9994a11aebf82580920ec86",
            "placeholder": "​",
            "style": "IPY_MODEL_826e0d6937d64ce5b9de5657e5cb60f0",
            "value": " 8000/8000 [00:05&lt;00:00, 1605.96 examples/s]"
          }
        },
        "55181ab1710d4ad4a038776378d80311": {
          "model_module": "@jupyter-widgets/base",
          "model_name": "LayoutModel",
          "model_module_version": "1.2.0",
          "state": {
            "_model_module": "@jupyter-widgets/base",
            "_model_module_version": "1.2.0",
            "_model_name": "LayoutModel",
            "_view_count": null,
            "_view_module": "@jupyter-widgets/base",
            "_view_module_version": "1.2.0",
            "_view_name": "LayoutView",
            "align_content": null,
            "align_items": null,
            "align_self": null,
            "border": null,
            "bottom": null,
            "display": null,
            "flex": null,
            "flex_flow": null,
            "grid_area": null,
            "grid_auto_columns": null,
            "grid_auto_flow": null,
            "grid_auto_rows": null,
            "grid_column": null,
            "grid_gap": null,
            "grid_row": null,
            "grid_template_areas": null,
            "grid_template_columns": null,
            "grid_template_rows": null,
            "height": null,
            "justify_content": null,
            "justify_items": null,
            "left": null,
            "margin": null,
            "max_height": null,
            "max_width": null,
            "min_height": null,
            "min_width": null,
            "object_fit": null,
            "object_position": null,
            "order": null,
            "overflow": null,
            "overflow_x": null,
            "overflow_y": null,
            "padding": null,
            "right": null,
            "top": null,
            "visibility": null,
            "width": null
          }
        },
        "98c2f9cb1c574470b1bb5d32ec40fa7c": {
          "model_module": "@jupyter-widgets/base",
          "model_name": "LayoutModel",
          "model_module_version": "1.2.0",
          "state": {
            "_model_module": "@jupyter-widgets/base",
            "_model_module_version": "1.2.0",
            "_model_name": "LayoutModel",
            "_view_count": null,
            "_view_module": "@jupyter-widgets/base",
            "_view_module_version": "1.2.0",
            "_view_name": "LayoutView",
            "align_content": null,
            "align_items": null,
            "align_self": null,
            "border": null,
            "bottom": null,
            "display": null,
            "flex": null,
            "flex_flow": null,
            "grid_area": null,
            "grid_auto_columns": null,
            "grid_auto_flow": null,
            "grid_auto_rows": null,
            "grid_column": null,
            "grid_gap": null,
            "grid_row": null,
            "grid_template_areas": null,
            "grid_template_columns": null,
            "grid_template_rows": null,
            "height": null,
            "justify_content": null,
            "justify_items": null,
            "left": null,
            "margin": null,
            "max_height": null,
            "max_width": null,
            "min_height": null,
            "min_width": null,
            "object_fit": null,
            "object_position": null,
            "order": null,
            "overflow": null,
            "overflow_x": null,
            "overflow_y": null,
            "padding": null,
            "right": null,
            "top": null,
            "visibility": null,
            "width": null
          }
        },
        "5533b60c479c4938b6069b0f5b7b9de6": {
          "model_module": "@jupyter-widgets/controls",
          "model_name": "DescriptionStyleModel",
          "model_module_version": "1.5.0",
          "state": {
            "_model_module": "@jupyter-widgets/controls",
            "_model_module_version": "1.5.0",
            "_model_name": "DescriptionStyleModel",
            "_view_count": null,
            "_view_module": "@jupyter-widgets/base",
            "_view_module_version": "1.2.0",
            "_view_name": "StyleView",
            "description_width": ""
          }
        },
        "8efddf0b20624d0cb75f84bc3fe0c921": {
          "model_module": "@jupyter-widgets/base",
          "model_name": "LayoutModel",
          "model_module_version": "1.2.0",
          "state": {
            "_model_module": "@jupyter-widgets/base",
            "_model_module_version": "1.2.0",
            "_model_name": "LayoutModel",
            "_view_count": null,
            "_view_module": "@jupyter-widgets/base",
            "_view_module_version": "1.2.0",
            "_view_name": "LayoutView",
            "align_content": null,
            "align_items": null,
            "align_self": null,
            "border": null,
            "bottom": null,
            "display": null,
            "flex": null,
            "flex_flow": null,
            "grid_area": null,
            "grid_auto_columns": null,
            "grid_auto_flow": null,
            "grid_auto_rows": null,
            "grid_column": null,
            "grid_gap": null,
            "grid_row": null,
            "grid_template_areas": null,
            "grid_template_columns": null,
            "grid_template_rows": null,
            "height": null,
            "justify_content": null,
            "justify_items": null,
            "left": null,
            "margin": null,
            "max_height": null,
            "max_width": null,
            "min_height": null,
            "min_width": null,
            "object_fit": null,
            "object_position": null,
            "order": null,
            "overflow": null,
            "overflow_x": null,
            "overflow_y": null,
            "padding": null,
            "right": null,
            "top": null,
            "visibility": null,
            "width": null
          }
        },
        "e282b0990b9a430c809e1cb5fe76b300": {
          "model_module": "@jupyter-widgets/controls",
          "model_name": "ProgressStyleModel",
          "model_module_version": "1.5.0",
          "state": {
            "_model_module": "@jupyter-widgets/controls",
            "_model_module_version": "1.5.0",
            "_model_name": "ProgressStyleModel",
            "_view_count": null,
            "_view_module": "@jupyter-widgets/base",
            "_view_module_version": "1.2.0",
            "_view_name": "StyleView",
            "bar_color": null,
            "description_width": ""
          }
        },
        "dcfd800dd9994a11aebf82580920ec86": {
          "model_module": "@jupyter-widgets/base",
          "model_name": "LayoutModel",
          "model_module_version": "1.2.0",
          "state": {
            "_model_module": "@jupyter-widgets/base",
            "_model_module_version": "1.2.0",
            "_model_name": "LayoutModel",
            "_view_count": null,
            "_view_module": "@jupyter-widgets/base",
            "_view_module_version": "1.2.0",
            "_view_name": "LayoutView",
            "align_content": null,
            "align_items": null,
            "align_self": null,
            "border": null,
            "bottom": null,
            "display": null,
            "flex": null,
            "flex_flow": null,
            "grid_area": null,
            "grid_auto_columns": null,
            "grid_auto_flow": null,
            "grid_auto_rows": null,
            "grid_column": null,
            "grid_gap": null,
            "grid_row": null,
            "grid_template_areas": null,
            "grid_template_columns": null,
            "grid_template_rows": null,
            "height": null,
            "justify_content": null,
            "justify_items": null,
            "left": null,
            "margin": null,
            "max_height": null,
            "max_width": null,
            "min_height": null,
            "min_width": null,
            "object_fit": null,
            "object_position": null,
            "order": null,
            "overflow": null,
            "overflow_x": null,
            "overflow_y": null,
            "padding": null,
            "right": null,
            "top": null,
            "visibility": null,
            "width": null
          }
        },
        "826e0d6937d64ce5b9de5657e5cb60f0": {
          "model_module": "@jupyter-widgets/controls",
          "model_name": "DescriptionStyleModel",
          "model_module_version": "1.5.0",
          "state": {
            "_model_module": "@jupyter-widgets/controls",
            "_model_module_version": "1.5.0",
            "_model_name": "DescriptionStyleModel",
            "_view_count": null,
            "_view_module": "@jupyter-widgets/base",
            "_view_module_version": "1.2.0",
            "_view_name": "StyleView",
            "description_width": ""
          }
        }
      }
    }
  },
  "nbformat_minor": 5,
  "nbformat": 4,
  "cells": [
    {
      "id": "a02285e6",
      "cell_type": "markdown",
      "source": [
        "# Starter Notebook"
      ],
      "metadata": {
        "id": "a02285e6"
      }
    },
    {
      "id": "bdcc5329",
      "cell_type": "markdown",
      "source": [
        "Install and import required libraries"
      ],
      "metadata": {
        "id": "bdcc5329"
      }
    },
    {
      "id": "348ceed6-b684-46c3-8a32-9bb640c9a9d7",
      "cell_type": "code",
      "source": [
        "!pip install transformers datasets evaluate accelerate peft trl bitsandbytes\n",
        "!pip install nvidia-ml-py3\n",
        "! pip install optuna # U"
      ],
      "metadata": {
        "id": "348ceed6-b684-46c3-8a32-9bb640c9a9d7",
        "colab": {
          "base_uri": "https://localhost:8080/"
        },
        "outputId": "d47aae76-06e8-455b-e17a-cfba3b971085",
        "trusted": true,
        "execution": {
          "iopub.status.busy": "2025-04-17T21:41:28.132909Z",
          "iopub.execute_input": "2025-04-17T21:41:28.133392Z",
          "iopub.status.idle": "2025-04-17T21:42:53.461163Z",
          "shell.execute_reply.started": "2025-04-17T21:41:28.133366Z",
          "shell.execute_reply": "2025-04-17T21:42:53.460461Z"
        }
      },
      "outputs": [
        {
          "output_type": "stream",
          "name": "stdout",
          "text": [
            "Requirement already satisfied: transformers in /usr/local/lib/python3.11/dist-packages (4.51.3)\n",
            "Requirement already satisfied: datasets in /usr/local/lib/python3.11/dist-packages (3.5.0)\n",
            "Requirement already satisfied: evaluate in /usr/local/lib/python3.11/dist-packages (0.4.3)\n",
            "Requirement already satisfied: accelerate in /usr/local/lib/python3.11/dist-packages (1.5.2)\n",
            "Requirement already satisfied: peft in /usr/local/lib/python3.11/dist-packages (0.14.0)\n",
            "Requirement already satisfied: trl in /usr/local/lib/python3.11/dist-packages (0.16.1)\n",
            "Requirement already satisfied: bitsandbytes in /usr/local/lib/python3.11/dist-packages (0.45.5)\n",
            "Requirement already satisfied: filelock in /usr/local/lib/python3.11/dist-packages (from transformers) (3.18.0)\n",
            "Requirement already satisfied: huggingface-hub<1.0,>=0.30.0 in /usr/local/lib/python3.11/dist-packages (from transformers) (0.30.2)\n",
            "Requirement already satisfied: numpy>=1.17 in /usr/local/lib/python3.11/dist-packages (from transformers) (2.0.2)\n",
            "Requirement already satisfied: packaging>=20.0 in /usr/local/lib/python3.11/dist-packages (from transformers) (24.2)\n",
            "Requirement already satisfied: pyyaml>=5.1 in /usr/local/lib/python3.11/dist-packages (from transformers) (6.0.2)\n",
            "Requirement already satisfied: regex!=2019.12.17 in /usr/local/lib/python3.11/dist-packages (from transformers) (2024.11.6)\n",
            "Requirement already satisfied: requests in /usr/local/lib/python3.11/dist-packages (from transformers) (2.32.3)\n",
            "Requirement already satisfied: tokenizers<0.22,>=0.21 in /usr/local/lib/python3.11/dist-packages (from transformers) (0.21.1)\n",
            "Requirement already satisfied: safetensors>=0.4.3 in /usr/local/lib/python3.11/dist-packages (from transformers) (0.5.3)\n",
            "Requirement already satisfied: tqdm>=4.27 in /usr/local/lib/python3.11/dist-packages (from transformers) (4.67.1)\n",
            "Requirement already satisfied: pyarrow>=15.0.0 in /usr/local/lib/python3.11/dist-packages (from datasets) (18.1.0)\n",
            "Requirement already satisfied: dill<0.3.9,>=0.3.0 in /usr/local/lib/python3.11/dist-packages (from datasets) (0.3.8)\n",
            "Requirement already satisfied: pandas in /usr/local/lib/python3.11/dist-packages (from datasets) (2.2.2)\n",
            "Requirement already satisfied: xxhash in /usr/local/lib/python3.11/dist-packages (from datasets) (3.5.0)\n",
            "Requirement already satisfied: multiprocess<0.70.17 in /usr/local/lib/python3.11/dist-packages (from datasets) (0.70.16)\n",
            "Requirement already satisfied: fsspec<=2024.12.0,>=2023.1.0 in /usr/local/lib/python3.11/dist-packages (from fsspec[http]<=2024.12.0,>=2023.1.0->datasets) (2024.12.0)\n",
            "Requirement already satisfied: aiohttp in /usr/local/lib/python3.11/dist-packages (from datasets) (3.11.15)\n",
            "Requirement already satisfied: psutil in /usr/local/lib/python3.11/dist-packages (from accelerate) (5.9.5)\n",
            "Requirement already satisfied: torch>=2.0.0 in /usr/local/lib/python3.11/dist-packages (from accelerate) (2.6.0+cu124)\n",
            "Requirement already satisfied: rich in /usr/local/lib/python3.11/dist-packages (from trl) (13.9.4)\n",
            "Requirement already satisfied: aiohappyeyeballs>=2.3.0 in /usr/local/lib/python3.11/dist-packages (from aiohttp->datasets) (2.6.1)\n",
            "Requirement already satisfied: aiosignal>=1.1.2 in /usr/local/lib/python3.11/dist-packages (from aiohttp->datasets) (1.3.2)\n",
            "Requirement already satisfied: attrs>=17.3.0 in /usr/local/lib/python3.11/dist-packages (from aiohttp->datasets) (25.3.0)\n",
            "Requirement already satisfied: frozenlist>=1.1.1 in /usr/local/lib/python3.11/dist-packages (from aiohttp->datasets) (1.5.0)\n",
            "Requirement already satisfied: multidict<7.0,>=4.5 in /usr/local/lib/python3.11/dist-packages (from aiohttp->datasets) (6.4.3)\n",
            "Requirement already satisfied: propcache>=0.2.0 in /usr/local/lib/python3.11/dist-packages (from aiohttp->datasets) (0.3.1)\n",
            "Requirement already satisfied: yarl<2.0,>=1.17.0 in /usr/local/lib/python3.11/dist-packages (from aiohttp->datasets) (1.19.0)\n",
            "Requirement already satisfied: typing-extensions>=3.7.4.3 in /usr/local/lib/python3.11/dist-packages (from huggingface-hub<1.0,>=0.30.0->transformers) (4.13.2)\n",
            "Requirement already satisfied: charset-normalizer<4,>=2 in /usr/local/lib/python3.11/dist-packages (from requests->transformers) (3.4.1)\n",
            "Requirement already satisfied: idna<4,>=2.5 in /usr/local/lib/python3.11/dist-packages (from requests->transformers) (3.10)\n",
            "Requirement already satisfied: urllib3<3,>=1.21.1 in /usr/local/lib/python3.11/dist-packages (from requests->transformers) (2.3.0)\n",
            "Requirement already satisfied: certifi>=2017.4.17 in /usr/local/lib/python3.11/dist-packages (from requests->transformers) (2025.1.31)\n",
            "Requirement already satisfied: networkx in /usr/local/lib/python3.11/dist-packages (from torch>=2.0.0->accelerate) (3.4.2)\n",
            "Requirement already satisfied: jinja2 in /usr/local/lib/python3.11/dist-packages (from torch>=2.0.0->accelerate) (3.1.6)\n",
            "Requirement already satisfied: nvidia-cuda-nvrtc-cu12==12.4.127 in /usr/local/lib/python3.11/dist-packages (from torch>=2.0.0->accelerate) (12.4.127)\n",
            "Requirement already satisfied: nvidia-cuda-runtime-cu12==12.4.127 in /usr/local/lib/python3.11/dist-packages (from torch>=2.0.0->accelerate) (12.4.127)\n",
            "Requirement already satisfied: nvidia-cuda-cupti-cu12==12.4.127 in /usr/local/lib/python3.11/dist-packages (from torch>=2.0.0->accelerate) (12.4.127)\n",
            "Requirement already satisfied: nvidia-cudnn-cu12==9.1.0.70 in /usr/local/lib/python3.11/dist-packages (from torch>=2.0.0->accelerate) (9.1.0.70)\n",
            "Requirement already satisfied: nvidia-cublas-cu12==12.4.5.8 in /usr/local/lib/python3.11/dist-packages (from torch>=2.0.0->accelerate) (12.4.5.8)\n",
            "Requirement already satisfied: nvidia-cufft-cu12==11.2.1.3 in /usr/local/lib/python3.11/dist-packages (from torch>=2.0.0->accelerate) (11.2.1.3)\n",
            "Requirement already satisfied: nvidia-curand-cu12==10.3.5.147 in /usr/local/lib/python3.11/dist-packages (from torch>=2.0.0->accelerate) (10.3.5.147)\n",
            "Requirement already satisfied: nvidia-cusolver-cu12==11.6.1.9 in /usr/local/lib/python3.11/dist-packages (from torch>=2.0.0->accelerate) (11.6.1.9)\n",
            "Requirement already satisfied: nvidia-cusparse-cu12==12.3.1.170 in /usr/local/lib/python3.11/dist-packages (from torch>=2.0.0->accelerate) (12.3.1.170)\n",
            "Requirement already satisfied: nvidia-cusparselt-cu12==0.6.2 in /usr/local/lib/python3.11/dist-packages (from torch>=2.0.0->accelerate) (0.6.2)\n",
            "Requirement already satisfied: nvidia-nccl-cu12==2.21.5 in /usr/local/lib/python3.11/dist-packages (from torch>=2.0.0->accelerate) (2.21.5)\n",
            "Requirement already satisfied: nvidia-nvtx-cu12==12.4.127 in /usr/local/lib/python3.11/dist-packages (from torch>=2.0.0->accelerate) (12.4.127)\n",
            "Requirement already satisfied: nvidia-nvjitlink-cu12==12.4.127 in /usr/local/lib/python3.11/dist-packages (from torch>=2.0.0->accelerate) (12.4.127)\n",
            "Requirement already satisfied: triton==3.2.0 in /usr/local/lib/python3.11/dist-packages (from torch>=2.0.0->accelerate) (3.2.0)\n",
            "Requirement already satisfied: sympy==1.13.1 in /usr/local/lib/python3.11/dist-packages (from torch>=2.0.0->accelerate) (1.13.1)\n",
            "Requirement already satisfied: mpmath<1.4,>=1.1.0 in /usr/local/lib/python3.11/dist-packages (from sympy==1.13.1->torch>=2.0.0->accelerate) (1.3.0)\n",
            "Requirement already satisfied: python-dateutil>=2.8.2 in /usr/local/lib/python3.11/dist-packages (from pandas->datasets) (2.8.2)\n",
            "Requirement already satisfied: pytz>=2020.1 in /usr/local/lib/python3.11/dist-packages (from pandas->datasets) (2025.2)\n",
            "Requirement already satisfied: tzdata>=2022.7 in /usr/local/lib/python3.11/dist-packages (from pandas->datasets) (2025.2)\n",
            "Requirement already satisfied: markdown-it-py>=2.2.0 in /usr/local/lib/python3.11/dist-packages (from rich->trl) (3.0.0)\n",
            "Requirement already satisfied: pygments<3.0.0,>=2.13.0 in /usr/local/lib/python3.11/dist-packages (from rich->trl) (2.18.0)\n",
            "Requirement already satisfied: mdurl~=0.1 in /usr/local/lib/python3.11/dist-packages (from markdown-it-py>=2.2.0->rich->trl) (0.1.2)\n",
            "Requirement already satisfied: six>=1.5 in /usr/local/lib/python3.11/dist-packages (from python-dateutil>=2.8.2->pandas->datasets) (1.17.0)\n",
            "Requirement already satisfied: MarkupSafe>=2.0 in /usr/local/lib/python3.11/dist-packages (from jinja2->torch>=2.0.0->accelerate) (3.0.2)\n",
            "Requirement already satisfied: nvidia-ml-py3 in /usr/local/lib/python3.11/dist-packages (7.352.0)\n",
            "Requirement already satisfied: optuna in /usr/local/lib/python3.11/dist-packages (4.3.0)\n",
            "Requirement already satisfied: alembic>=1.5.0 in /usr/local/lib/python3.11/dist-packages (from optuna) (1.15.2)\n",
            "Requirement already satisfied: colorlog in /usr/local/lib/python3.11/dist-packages (from optuna) (6.9.0)\n",
            "Requirement already satisfied: numpy in /usr/local/lib/python3.11/dist-packages (from optuna) (2.0.2)\n",
            "Requirement already satisfied: packaging>=20.0 in /usr/local/lib/python3.11/dist-packages (from optuna) (24.2)\n",
            "Requirement already satisfied: sqlalchemy>=1.4.2 in /usr/local/lib/python3.11/dist-packages (from optuna) (2.0.40)\n",
            "Requirement already satisfied: tqdm in /usr/local/lib/python3.11/dist-packages (from optuna) (4.67.1)\n",
            "Requirement already satisfied: PyYAML in /usr/local/lib/python3.11/dist-packages (from optuna) (6.0.2)\n",
            "Requirement already satisfied: Mako in /usr/lib/python3/dist-packages (from alembic>=1.5.0->optuna) (1.1.3)\n",
            "Requirement already satisfied: typing-extensions>=4.12 in /usr/local/lib/python3.11/dist-packages (from alembic>=1.5.0->optuna) (4.13.2)\n",
            "Requirement already satisfied: greenlet>=1 in /usr/local/lib/python3.11/dist-packages (from sqlalchemy>=1.4.2->optuna) (3.2.0)\n"
          ]
        }
      ],
      "execution_count": 1
    },
    {
      "id": "MMBHY354Hage",
      "cell_type": "code",
      "source": [
        "! pip install hf_xet"
      ],
      "metadata": {
        "colab": {
          "base_uri": "https://localhost:8080/"
        },
        "id": "MMBHY354Hage",
        "outputId": "5a5c8444-8b0c-44f5-de88-f150fb605a00",
        "trusted": true,
        "execution": {
          "iopub.status.busy": "2025-04-17T21:42:53.462655Z",
          "iopub.execute_input": "2025-04-17T21:42:53.462865Z",
          "iopub.status.idle": "2025-04-17T21:42:58.370206Z",
          "shell.execute_reply.started": "2025-04-17T21:42:53.462847Z",
          "shell.execute_reply": "2025-04-17T21:42:58.369363Z"
        }
      },
      "outputs": [
        {
          "output_type": "stream",
          "name": "stdout",
          "text": [
            "Requirement already satisfied: hf_xet in /usr/local/lib/python3.11/dist-packages (1.0.3)\n"
          ]
        }
      ],
      "execution_count": 2
    },
    {
      "id": "mQGGGQL8olM5",
      "cell_type": "code",
      "source": [
        "import os\n",
        "import pandas as pd\n",
        "import torch\n",
        "from transformers import RobertaModel, RobertaTokenizer, TrainingArguments, Trainer, DataCollatorWithPadding, RobertaForSequenceClassification, BitsAndBytesConfig, EarlyStoppingCallback # U\n",
        "from peft import LoraConfig, get_peft_model, PeftModel\n",
        "from datasets import load_dataset, Dataset, ClassLabel\n",
        "import pickle\n",
        "from optuna.trial import Trial"
      ],
      "metadata": {
        "id": "mQGGGQL8olM5",
        "trusted": true,
        "execution": {
          "iopub.status.busy": "2025-04-17T21:42:58.371305Z",
          "iopub.execute_input": "2025-04-17T21:42:58.371608Z",
          "iopub.status.idle": "2025-04-17T21:43:24.198319Z",
          "shell.execute_reply.started": "2025-04-17T21:42:58.371578Z",
          "shell.execute_reply": "2025-04-17T21:43:24.197553Z"
        }
      },
      "outputs": [],
      "execution_count": 3
    },
    {
      "id": "cmr8-qrymZ5H",
      "cell_type": "code",
      "source": [
        "quantization_config = BitsAndBytesConfig(\n",
        "    load_in_4bit = True, # loading the model weights in 4-bit precision\n",
        "    bnb_4bit_use_double_quant= True, # using double quantization for 4-bit weights\n",
        "    # nf4: non-uniform quantization scheme (a form of adaptive quantization) that tends to capture a wider range of weights more effectively!\n",
        "    bnb_4bit_quant_type = \"nf4\", # using nf4 quantization type for 4-bit weights, another opt I know id fp4!\n",
        "    bnb_4bit_compute_dtype= torch.bfloat16, # performing computations in bfloat16 format\n",
        "    llm_int8_skip_modules= [\"classifier\"]\n",
        ")"
      ],
      "metadata": {
        "id": "cmr8-qrymZ5H",
        "trusted": true,
        "execution": {
          "iopub.status.busy": "2025-04-17T21:43:24.199120Z",
          "iopub.execute_input": "2025-04-17T21:43:24.199875Z",
          "iopub.status.idle": "2025-04-17T21:43:24.205938Z",
          "shell.execute_reply.started": "2025-04-17T21:43:24.199853Z",
          "shell.execute_reply": "2025-04-17T21:43:24.204814Z"
        }
      },
      "outputs": [],
      "execution_count": 4
    },
    {
      "id": "59d6e377",
      "cell_type": "markdown",
      "source": [
        "## Load Tokenizer and Preprocess Data"
      ],
      "metadata": {
        "id": "59d6e377"
      }
    },
    {
      "id": "LQ59oCu_ovV9",
      "cell_type": "code",
      "source": [
        "dataset = load_dataset('ag_news', split = 'train')\n",
        "dataset[0]"
      ],
      "metadata": {
        "colab": {
          "base_uri": "https://localhost:8080/"
        },
        "id": "LQ59oCu_ovV9",
        "outputId": "15ffd455-3c65-42dc-de18-c659971370bf",
        "trusted": true,
        "execution": {
          "iopub.status.busy": "2025-04-17T21:43:24.208320Z",
          "iopub.execute_input": "2025-04-17T21:43:24.208570Z",
          "iopub.status.idle": "2025-04-17T21:43:28.061648Z",
          "shell.execute_reply.started": "2025-04-17T21:43:24.208554Z",
          "shell.execute_reply": "2025-04-17T21:43:28.060838Z"
        }
      },
      "outputs": [
        {
          "output_type": "stream",
          "name": "stderr",
          "text": [
            "/usr/local/lib/python3.11/dist-packages/huggingface_hub/utils/_auth.py:94: UserWarning: \n",
            "The secret `HF_TOKEN` does not exist in your Colab secrets.\n",
            "To authenticate with the Hugging Face Hub, create a token in your settings tab (https://huggingface.co/settings/tokens), set it as secret in your Google Colab and restart your session.\n",
            "You will be able to reuse this secret in all of your notebooks.\n",
            "Please note that authentication is recommended but still optional to access public models or datasets.\n",
            "  warnings.warn(\n"
          ]
        },
        {
          "output_type": "execute_result",
          "data": {
            "text/plain": [
              "{'text': \"Wall St. Bears Claw Back Into the Black (Reuters) Reuters - Short-sellers, Wall Street's dwindling\\\\band of ultra-cynics, are seeing green again.\",\n",
              " 'label': 2}"
            ]
          },
          "metadata": {},
          "execution_count": 5
        }
      ],
      "execution_count": 5
    },
    {
      "id": "HGbjqi2zpMOc",
      "cell_type": "code",
      "source": [
        "base_model = 'roberta-base'\n",
        "\n",
        "tokenizer = RobertaTokenizer.from_pretrained(base_model)\n",
        "\n",
        "def preprocess(examples):\n",
        "  # examples['text'] access the text content (text from the 'text' column) within current batch of examples\n",
        "  # truncation = True: Ensures consistent input sizes\n",
        "  # padding = True: pad tokens with special tokens to match the longest sequence in the batch\n",
        "  tokenized = tokenizer(examples['text'], truncation = True, padding = True)\n",
        "  return tokenized\n",
        "\n",
        "tokenized_dataset = dataset.map(preprocess, batched = True, remove_columns = ['text']) # remove_columns = ['text']: this is a good practice as we would not need original 'text' column after tokenization!\n",
        "tokenized_dataset = tokenized_dataset.rename_column('label', 'labels') # HuggingFace works well with 'labels' as a feature-name!"
      ],
      "metadata": {
        "id": "HGbjqi2zpMOc",
        "trusted": true,
        "execution": {
          "iopub.status.busy": "2025-04-17T21:43:28.062461Z",
          "iopub.execute_input": "2025-04-17T21:43:28.063212Z",
          "iopub.status.idle": "2025-04-17T21:44:26.105266Z",
          "shell.execute_reply.started": "2025-04-17T21:43:28.063170Z",
          "shell.execute_reply": "2025-04-17T21:44:26.104750Z"
        }
      },
      "outputs": [],
      "execution_count": 6
    },
    {
      "id": "XRMVyb4VyHH0",
      "cell_type": "code",
      "source": [
        "# print(dataset[0])\n",
        "print(len(dataset))\n",
        "print(len(tokenized_dataset))"
      ],
      "metadata": {
        "colab": {
          "base_uri": "https://localhost:8080/"
        },
        "id": "XRMVyb4VyHH0",
        "outputId": "c73e2d48-fab6-47dc-83cc-a32f22459765",
        "trusted": true,
        "execution": {
          "iopub.status.busy": "2025-04-17T21:44:26.106177Z",
          "iopub.execute_input": "2025-04-17T21:44:26.106479Z",
          "iopub.status.idle": "2025-04-17T21:44:26.110639Z",
          "shell.execute_reply.started": "2025-04-17T21:44:26.106453Z",
          "shell.execute_reply": "2025-04-17T21:44:26.109941Z"
        }
      },
      "outputs": [
        {
          "output_type": "stream",
          "name": "stdout",
          "text": [
            "120000\n",
            "120000\n"
          ]
        }
      ],
      "execution_count": 7
    },
    {
      "id": "RLkDMBzTt6vf",
      "cell_type": "code",
      "source": [
        "# Extracting the number of classes and their names\n",
        "num_labels = dataset.features['label'].num_classes # number of labels\n",
        "class_names = dataset.features['label'].names # name of the corresponding classes\n",
        "print(f\"number of classes: {num_labels}\")\n",
        "print(f\"label names: {class_names}\")\n",
        "\n",
        "# Creatig id2label mapping, needing for our classifier\n",
        "id2label = {i: label for i, label in enumerate(class_names)}\n",
        "\n",
        "# This pads each batch to the maximum length (within that batch) significantly reducing computational overhead and memory usage.\n",
        "datacollator = DataCollatorWithPadding(tokenizer=tokenizer, return_tensors=\"pt\")"
      ],
      "metadata": {
        "colab": {
          "base_uri": "https://localhost:8080/"
        },
        "id": "RLkDMBzTt6vf",
        "outputId": "8bbce6e6-5de4-493e-a81d-6c1aa193b881",
        "trusted": true,
        "execution": {
          "iopub.status.busy": "2025-04-17T21:44:26.111393Z",
          "iopub.execute_input": "2025-04-17T21:44:26.111671Z",
          "iopub.status.idle": "2025-04-17T21:44:26.240087Z",
          "shell.execute_reply.started": "2025-04-17T21:44:26.111640Z",
          "shell.execute_reply": "2025-04-17T21:44:26.239367Z"
        }
      },
      "outputs": [
        {
          "output_type": "stream",
          "name": "stdout",
          "text": [
            "number of classes: 4\n",
            "label names: ['World', 'Sports', 'Business', 'Sci/Tech']\n"
          ]
        }
      ],
      "execution_count": 8
    },
    {
      "id": "c9e24afd",
      "cell_type": "markdown",
      "source": [
        "## Load Pre-trained Model\n",
        "Set up config for pretrained model and download it from hugging face"
      ],
      "metadata": {
        "id": "c9e24afd"
      }
    },
    {
      "id": "Ln-4vvExySjy",
      "cell_type": "code",
      "source": [
        "base = RobertaForSequenceClassification.from_pretrained(\n",
        "    base_model, id2label = id2label\n",
        ")"
      ],
      "metadata": {
        "colab": {
          "base_uri": "https://localhost:8080/"
        },
        "id": "Ln-4vvExySjy",
        "outputId": "e3150786-98aa-4ef8-9cc1-ce16f810da7e",
        "trusted": true,
        "execution": {
          "iopub.status.busy": "2025-04-17T21:44:26.240870Z",
          "iopub.execute_input": "2025-04-17T21:44:26.241106Z",
          "iopub.status.idle": "2025-04-17T21:44:28.967594Z",
          "shell.execute_reply.started": "2025-04-17T21:44:26.241080Z",
          "shell.execute_reply": "2025-04-17T21:44:28.966805Z"
        }
      },
      "outputs": [
        {
          "output_type": "stream",
          "name": "stderr",
          "text": [
            "Some weights of RobertaForSequenceClassification were not initialized from the model checkpoint at roberta-base and are newly initialized: ['classifier.dense.bias', 'classifier.dense.weight', 'classifier.out_proj.bias', 'classifier.out_proj.weight']\n",
            "You should probably TRAIN this model on a down-stream task to be able to use it for predictions and inference.\n"
          ]
        }
      ],
      "execution_count": 9
    },
    {
      "id": "f265839d-a088-4693-8474-862641de11ed",
      "cell_type": "markdown",
      "source": [
        "## Anything from here on can be modified"
      ],
      "metadata": {
        "id": "f265839d-a088-4693-8474-862641de11ed"
      }
    },
    {
      "id": "zAMIRI86yoSZ",
      "cell_type": "code",
      "source": [
        "# Splitting the original training set\n",
        "split_datasets = tokenized_dataset.train_test_split(test_size = 640, seed = 42, stratify_by_column = 'labels') # (U)\n",
        "train_set = split_datasets['train']\n",
        "train_set = train_set.shuffle(seed = 42) # U\n",
        "test_set = split_datasets['test']\n",
        "test_set = test_set.shuffle(seed = 42) # U\n",
        "\n",
        "# print(len(train_set))\n",
        "# print(len(test_set))\n",
        "\n",
        "# print(train_set[0])"
      ],
      "metadata": {
        "id": "zAMIRI86yoSZ",
        "trusted": true,
        "execution": {
          "iopub.status.busy": "2025-04-17T21:44:28.968404Z",
          "iopub.execute_input": "2025-04-17T21:44:28.968749Z",
          "iopub.status.idle": "2025-04-17T21:44:29.104779Z",
          "shell.execute_reply.started": "2025-04-17T21:44:28.968721Z",
          "shell.execute_reply": "2025-04-17T21:44:29.104020Z"
        }
      },
      "outputs": [],
      "execution_count": 10
    },
    {
      "id": "652452e3",
      "cell_type": "markdown",
      "source": [
        "## Setup LoRA Config\n",
        "Setup PEFT config and get peft model for finetuning"
      ],
      "metadata": {
        "id": "652452e3"
      }
    },
    {
      "id": "NBSuYSad314O",
      "cell_type": "code",
      "source": [
        "# Static code\n",
        "# Peft Config (PEFT: Parameter Efficient Fine-Tuning!)\n",
        "static_peft = LoraConfig(\n",
        "    r = 10, # rank of updated matrices! (U)\n",
        "    lora_alpha = 64, # scaling factor for learned updates controlling the strength of LORA adaption (U)\n",
        "    lora_dropout = 0.1, # prob for the dropping LORA layers (helps in regularization)\n",
        "    bias = 'none', # specifies if we want to apply bias to LORA updates\n",
        "    target_modules = ['query', 'value'], # specifies which target modules do I need to apply LORA to, in our case (query and value modules of the pre-trained RobertaModel!)\n",
        "    task_type = \"SEQ_CLS\", # determines what type of task are we performing and acc applies LORA!\n",
        ")"
      ],
      "metadata": {
        "id": "NBSuYSad314O",
        "trusted": true,
        "execution": {
          "iopub.status.busy": "2025-04-17T21:44:29.105647Z",
          "iopub.execute_input": "2025-04-17T21:44:29.105923Z",
          "iopub.status.idle": "2025-04-17T21:44:29.109709Z",
          "shell.execute_reply.started": "2025-04-17T21:44:29.105899Z",
          "shell.execute_reply": "2025-04-17T21:44:29.109034Z"
        }
      },
      "outputs": [],
      "execution_count": 16
    },
    {
      "id": "IO_YyjhAstDr",
      "cell_type": "code",
      "source": [
        "device = torch.device(\"cuda\" if torch.cuda.is_available() else \"cpu\")"
      ],
      "metadata": {
        "id": "IO_YyjhAstDr",
        "trusted": true,
        "execution": {
          "iopub.status.busy": "2025-04-17T21:44:29.110510Z",
          "iopub.execute_input": "2025-04-17T21:44:29.110683Z",
          "iopub.status.idle": "2025-04-17T21:44:29.133254Z",
          "shell.execute_reply.started": "2025-04-17T21:44:29.110669Z",
          "shell.execute_reply": "2025-04-17T21:44:29.132506Z"
        }
      },
      "outputs": [],
      "execution_count": 17
    },
    {
      "id": "lJEU8pQ26pfE",
      "cell_type": "code",
      "source": [
        "static_model = get_peft_model(base, static_peft).to(device)\n",
        "static_model"
      ],
      "metadata": {
        "colab": {
          "base_uri": "https://localhost:8080/"
        },
        "id": "lJEU8pQ26pfE",
        "outputId": "da78b756-2483-406c-aed1-b18f74e55e45",
        "trusted": true,
        "execution": {
          "iopub.status.busy": "2025-04-17T21:44:29.133989Z",
          "iopub.execute_input": "2025-04-17T21:44:29.134183Z",
          "iopub.status.idle": "2025-04-17T21:44:29.539908Z",
          "shell.execute_reply.started": "2025-04-17T21:44:29.134168Z",
          "shell.execute_reply": "2025-04-17T21:44:29.539280Z"
        }
      },
      "outputs": [
        {
          "output_type": "execute_result",
          "data": {
            "text/plain": [
              "PeftModelForSequenceClassification(\n",
              "  (base_model): LoraModel(\n",
              "    (model): RobertaForSequenceClassification(\n",
              "      (roberta): RobertaModel(\n",
              "        (embeddings): RobertaEmbeddings(\n",
              "          (word_embeddings): Embedding(50265, 768, padding_idx=1)\n",
              "          (position_embeddings): Embedding(514, 768, padding_idx=1)\n",
              "          (token_type_embeddings): Embedding(1, 768)\n",
              "          (LayerNorm): LayerNorm((768,), eps=1e-05, elementwise_affine=True)\n",
              "          (dropout): Dropout(p=0.1, inplace=False)\n",
              "        )\n",
              "        (encoder): RobertaEncoder(\n",
              "          (layer): ModuleList(\n",
              "            (0-11): 12 x RobertaLayer(\n",
              "              (attention): RobertaAttention(\n",
              "                (self): RobertaSdpaSelfAttention(\n",
              "                  (query): lora.Linear(\n",
              "                    (base_layer): Linear(in_features=768, out_features=768, bias=True)\n",
              "                    (lora_dropout): ModuleDict(\n",
              "                      (default): Dropout(p=0.1, inplace=False)\n",
              "                    )\n",
              "                    (lora_A): ModuleDict(\n",
              "                      (default): Linear(in_features=768, out_features=10, bias=False)\n",
              "                    )\n",
              "                    (lora_B): ModuleDict(\n",
              "                      (default): Linear(in_features=10, out_features=768, bias=False)\n",
              "                    )\n",
              "                    (lora_embedding_A): ParameterDict()\n",
              "                    (lora_embedding_B): ParameterDict()\n",
              "                    (lora_magnitude_vector): ModuleDict()\n",
              "                  )\n",
              "                  (key): Linear(in_features=768, out_features=768, bias=True)\n",
              "                  (value): lora.Linear(\n",
              "                    (base_layer): Linear(in_features=768, out_features=768, bias=True)\n",
              "                    (lora_dropout): ModuleDict(\n",
              "                      (default): Dropout(p=0.1, inplace=False)\n",
              "                    )\n",
              "                    (lora_A): ModuleDict(\n",
              "                      (default): Linear(in_features=768, out_features=10, bias=False)\n",
              "                    )\n",
              "                    (lora_B): ModuleDict(\n",
              "                      (default): Linear(in_features=10, out_features=768, bias=False)\n",
              "                    )\n",
              "                    (lora_embedding_A): ParameterDict()\n",
              "                    (lora_embedding_B): ParameterDict()\n",
              "                    (lora_magnitude_vector): ModuleDict()\n",
              "                  )\n",
              "                  (dropout): Dropout(p=0.1, inplace=False)\n",
              "                )\n",
              "                (output): RobertaSelfOutput(\n",
              "                  (dense): Linear(in_features=768, out_features=768, bias=True)\n",
              "                  (LayerNorm): LayerNorm((768,), eps=1e-05, elementwise_affine=True)\n",
              "                  (dropout): Dropout(p=0.1, inplace=False)\n",
              "                )\n",
              "              )\n",
              "              (intermediate): RobertaIntermediate(\n",
              "                (dense): Linear(in_features=768, out_features=3072, bias=True)\n",
              "                (intermediate_act_fn): GELUActivation()\n",
              "              )\n",
              "              (output): RobertaOutput(\n",
              "                (dense): Linear(in_features=3072, out_features=768, bias=True)\n",
              "                (LayerNorm): LayerNorm((768,), eps=1e-05, elementwise_affine=True)\n",
              "                (dropout): Dropout(p=0.1, inplace=False)\n",
              "              )\n",
              "            )\n",
              "          )\n",
              "        )\n",
              "      )\n",
              "      (classifier): ModulesToSaveWrapper(\n",
              "        (original_module): RobertaClassificationHead(\n",
              "          (dense): Linear(in_features=768, out_features=768, bias=True)\n",
              "          (dropout): Dropout(p=0.1, inplace=False)\n",
              "          (out_proj): Linear(in_features=768, out_features=4, bias=True)\n",
              "        )\n",
              "        (modules_to_save): ModuleDict(\n",
              "          (default): RobertaClassificationHead(\n",
              "            (dense): Linear(in_features=768, out_features=768, bias=True)\n",
              "            (dropout): Dropout(p=0.1, inplace=False)\n",
              "            (out_proj): Linear(in_features=768, out_features=4, bias=True)\n",
              "          )\n",
              "        )\n",
              "      )\n",
              "    )\n",
              "  )\n",
              ")"
            ]
          },
          "metadata": {},
          "execution_count": 18
        }
      ],
      "execution_count": 18
    },
    {
      "id": "z0boXD-u7O3z",
      "cell_type": "code",
      "source": [
        "# Determining the number of trainable parameters within the peft_model!\n",
        "print(\"Trainable parameters:\")\n",
        "for name, param in static_model.named_parameters(): # named_parameters(): It is an iterator, a method in pytorch, yielding the name and parameter tensor for each parameter in the model\n",
        "  if param.requires_grad: # requires_grad: boolean value (only the parameters that need to be updated during fine-tuning will have `requires_grad=True`.  All other parameters of the pre-trained model will be frozen (i.e., their values won't change).\n",
        "    print(name)\n",
        "    # print(len(param))"
      ],
      "metadata": {
        "id": "z0boXD-u7O3z",
        "colab": {
          "base_uri": "https://localhost:8080/"
        },
        "outputId": "c26a8878-59b4-40ba-8431-08a09e706266",
        "trusted": true,
        "execution": {
          "iopub.status.busy": "2025-04-17T21:44:29.542765Z",
          "iopub.execute_input": "2025-04-17T21:44:29.543063Z",
          "iopub.status.idle": "2025-04-17T21:44:29.548964Z",
          "shell.execute_reply.started": "2025-04-17T21:44:29.543046Z",
          "shell.execute_reply": "2025-04-17T21:44:29.548366Z"
        }
      },
      "outputs": [
        {
          "output_type": "stream",
          "name": "stdout",
          "text": [
            "Trainable parameters:\n",
            "base_model.model.roberta.encoder.layer.0.attention.self.query.lora_A.default.weight\n",
            "base_model.model.roberta.encoder.layer.0.attention.self.query.lora_B.default.weight\n",
            "base_model.model.roberta.encoder.layer.0.attention.self.value.lora_A.default.weight\n",
            "base_model.model.roberta.encoder.layer.0.attention.self.value.lora_B.default.weight\n",
            "base_model.model.roberta.encoder.layer.1.attention.self.query.lora_A.default.weight\n",
            "base_model.model.roberta.encoder.layer.1.attention.self.query.lora_B.default.weight\n",
            "base_model.model.roberta.encoder.layer.1.attention.self.value.lora_A.default.weight\n",
            "base_model.model.roberta.encoder.layer.1.attention.self.value.lora_B.default.weight\n",
            "base_model.model.roberta.encoder.layer.2.attention.self.query.lora_A.default.weight\n",
            "base_model.model.roberta.encoder.layer.2.attention.self.query.lora_B.default.weight\n",
            "base_model.model.roberta.encoder.layer.2.attention.self.value.lora_A.default.weight\n",
            "base_model.model.roberta.encoder.layer.2.attention.self.value.lora_B.default.weight\n",
            "base_model.model.roberta.encoder.layer.3.attention.self.query.lora_A.default.weight\n",
            "base_model.model.roberta.encoder.layer.3.attention.self.query.lora_B.default.weight\n",
            "base_model.model.roberta.encoder.layer.3.attention.self.value.lora_A.default.weight\n",
            "base_model.model.roberta.encoder.layer.3.attention.self.value.lora_B.default.weight\n",
            "base_model.model.roberta.encoder.layer.4.attention.self.query.lora_A.default.weight\n",
            "base_model.model.roberta.encoder.layer.4.attention.self.query.lora_B.default.weight\n",
            "base_model.model.roberta.encoder.layer.4.attention.self.value.lora_A.default.weight\n",
            "base_model.model.roberta.encoder.layer.4.attention.self.value.lora_B.default.weight\n",
            "base_model.model.roberta.encoder.layer.5.attention.self.query.lora_A.default.weight\n",
            "base_model.model.roberta.encoder.layer.5.attention.self.query.lora_B.default.weight\n",
            "base_model.model.roberta.encoder.layer.5.attention.self.value.lora_A.default.weight\n",
            "base_model.model.roberta.encoder.layer.5.attention.self.value.lora_B.default.weight\n",
            "base_model.model.roberta.encoder.layer.6.attention.self.query.lora_A.default.weight\n",
            "base_model.model.roberta.encoder.layer.6.attention.self.query.lora_B.default.weight\n",
            "base_model.model.roberta.encoder.layer.6.attention.self.value.lora_A.default.weight\n",
            "base_model.model.roberta.encoder.layer.6.attention.self.value.lora_B.default.weight\n",
            "base_model.model.roberta.encoder.layer.7.attention.self.query.lora_A.default.weight\n",
            "base_model.model.roberta.encoder.layer.7.attention.self.query.lora_B.default.weight\n",
            "base_model.model.roberta.encoder.layer.7.attention.self.value.lora_A.default.weight\n",
            "base_model.model.roberta.encoder.layer.7.attention.self.value.lora_B.default.weight\n",
            "base_model.model.roberta.encoder.layer.8.attention.self.query.lora_A.default.weight\n",
            "base_model.model.roberta.encoder.layer.8.attention.self.query.lora_B.default.weight\n",
            "base_model.model.roberta.encoder.layer.8.attention.self.value.lora_A.default.weight\n",
            "base_model.model.roberta.encoder.layer.8.attention.self.value.lora_B.default.weight\n",
            "base_model.model.roberta.encoder.layer.9.attention.self.query.lora_A.default.weight\n",
            "base_model.model.roberta.encoder.layer.9.attention.self.query.lora_B.default.weight\n",
            "base_model.model.roberta.encoder.layer.9.attention.self.value.lora_A.default.weight\n",
            "base_model.model.roberta.encoder.layer.9.attention.self.value.lora_B.default.weight\n",
            "base_model.model.roberta.encoder.layer.10.attention.self.query.lora_A.default.weight\n",
            "base_model.model.roberta.encoder.layer.10.attention.self.query.lora_B.default.weight\n",
            "base_model.model.roberta.encoder.layer.10.attention.self.value.lora_A.default.weight\n",
            "base_model.model.roberta.encoder.layer.10.attention.self.value.lora_B.default.weight\n",
            "base_model.model.roberta.encoder.layer.11.attention.self.query.lora_A.default.weight\n",
            "base_model.model.roberta.encoder.layer.11.attention.self.query.lora_B.default.weight\n",
            "base_model.model.roberta.encoder.layer.11.attention.self.value.lora_A.default.weight\n",
            "base_model.model.roberta.encoder.layer.11.attention.self.value.lora_B.default.weight\n",
            "base_model.model.classifier.modules_to_save.default.dense.weight\n",
            "base_model.model.classifier.modules_to_save.default.dense.bias\n",
            "base_model.model.classifier.modules_to_save.default.out_proj.weight\n",
            "base_model.model.classifier.modules_to_save.default.out_proj.bias\n"
          ]
        }
      ],
      "execution_count": 19
    },
    {
      "id": "FtX4O1aB9bEy",
      "cell_type": "code",
      "source": [
        "print('PEFT Model!')\n",
        "static_model.print_trainable_parameters() # will print the total number of trainable parameters!"
      ],
      "metadata": {
        "id": "FtX4O1aB9bEy",
        "colab": {
          "base_uri": "https://localhost:8080/"
        },
        "outputId": "cf55ef2f-1bad-43a1-9cb5-12682d3dbe3e",
        "trusted": true,
        "execution": {
          "iopub.status.busy": "2025-04-17T21:44:29.549567Z",
          "iopub.execute_input": "2025-04-17T21:44:29.549818Z",
          "iopub.status.idle": "2025-04-17T21:44:29.565225Z",
          "shell.execute_reply.started": "2025-04-17T21:44:29.549793Z",
          "shell.execute_reply": "2025-04-17T21:44:29.564515Z"
        }
      },
      "outputs": [
        {
          "output_type": "stream",
          "name": "stdout",
          "text": [
            "PEFT Model!\n",
            "trainable params: 962,308 || all params: 125,611,016 || trainable%: 0.7661\n"
          ]
        }
      ],
      "execution_count": 20
    },
    {
      "id": "12284b58",
      "cell_type": "markdown",
      "source": [
        "## Training Setup"
      ],
      "metadata": {
        "id": "12284b58"
      }
    },
    {
      "id": "VilWwZ5ZVytI",
      "cell_type": "code",
      "source": [
        "# This will track evaluation accuracy during training\n",
        "from sklearn.metrics import accuracy_score, precision_score, recall_score, f1_score\n",
        "\n",
        "def compute_metrics(pred):\n",
        "  labels = pred.label_ids\n",
        "  preds = pred.predictions.argmax(-1) # will contain output probabilities of each class and argmax(-1) will help find out max val over each determining the class which it belongs to!\n",
        "  accuracy = accuracy_score(labels, preds)\n",
        "  precision = precision_score(labels, preds, average=\"weighted\")\n",
        "  recall = recall_score(labels, preds, average = \"weighted\")\n",
        "  f1 = f1_score(labels, preds, average=\"weighted\")\n",
        "  return {\n",
        "      'accuracy' : accuracy,\n",
        "      'precision' : precision,\n",
        "      'recall' : recall,\n",
        "      'f1' : f1\n",
        "  }"
      ],
      "metadata": {
        "id": "VilWwZ5ZVytI",
        "trusted": true,
        "execution": {
          "iopub.status.busy": "2025-04-17T21:44:29.565993Z",
          "iopub.execute_input": "2025-04-17T21:44:29.566325Z",
          "iopub.status.idle": "2025-04-17T21:44:29.579968Z",
          "shell.execute_reply.started": "2025-04-17T21:44:29.566287Z",
          "shell.execute_reply": "2025-04-17T21:44:29.579446Z"
        }
      },
      "outputs": [],
      "execution_count": 21
    },
    {
      "id": "768b4917-65de-4e55-ae7f-698e287535d4",
      "cell_type": "code",
      "source": [
        "# Setup Training args\n",
        "# training_args = TrainingArguments(\n",
        "#     output_dir=\"hpo_results\",\n",
        "#     # eval_strategy=\"steps\",\n",
        "#     eval_steps=50,\n",
        "#     # save_strategy=\"steps\",\n",
        "#     # save_steps = 50,\n",
        "#     logging_steps=20,\n",
        "#     max_steps=200,\n",
        "#     warmup_ratio=0.1,\n",
        "#     optim=\"adamw_torch\",\n",
        "#     fp16=False,\n",
        "#     bf16=True,\n",
        "#     per_device_eval_batch_size=64,\n",
        "#     dataloader_num_workers=4,\n",
        "#     dataloader_prefetch_factor=2,\n",
        "#     load_best_model_at_end=True,\n",
        "#     metric_for_best_model=\"eval_accuracy\",\n",
        "#     gradient_accumulation_steps = 2,\n",
        "#     greater_is_better=True,\n",
        "#     report_to=None,\n",
        "# )\n",
        "\n",
        "training_args = TrainingArguments(\n",
        "    output_dir=\"hpo_results\",\n",
        "    max_steps=200,  # Shorter trials\n",
        "    eval_steps=50,\n",
        "    per_device_train_batch_size=32,  # Larger batches\n",
        "    fp16=True,  # Use mixed precision\n",
        "    dataloader_num_workers=4,\n",
        "    report_to=None,\n",
        "    metric_for_best_model=\"eval_accuracy\",\n",
        "    eval_strategy = \"steps\",\n",
        "    greater_is_better=True\n",
        ")\n"
      ],
      "metadata": {
        "id": "768b4917-65de-4e55-ae7f-698e287535d4",
        "trusted": true,
        "execution": {
          "iopub.status.busy": "2025-04-17T21:44:29.580640Z",
          "iopub.execute_input": "2025-04-17T21:44:29.580873Z",
          "iopub.status.idle": "2025-04-17T21:44:29.621870Z",
          "shell.execute_reply.started": "2025-04-17T21:44:29.580852Z",
          "shell.execute_reply": "2025-04-17T21:44:29.621349Z"
        }
      },
      "outputs": [],
      "execution_count": 22
    },
    {
      "id": "Vtkx2YPtm8rA",
      "cell_type": "markdown",
      "source": [
        "# Hyperparameter Fine-tuning using HyperOpt"
      ],
      "metadata": {
        "id": "Vtkx2YPtm8rA"
      }
    },
    {
      "id": "d92721e5-c72c-49cc-8c9b-7f80ec1a4535",
      "cell_type": "code",
      "source": [
        "from optuna.pruners import MedianPruner"
      ],
      "metadata": {
        "trusted": true,
        "execution": {
          "iopub.status.busy": "2025-04-17T21:44:29.622569Z",
          "iopub.execute_input": "2025-04-17T21:44:29.622801Z",
          "iopub.status.idle": "2025-04-17T21:44:29.626003Z",
          "shell.execute_reply.started": "2025-04-17T21:44:29.622777Z",
          "shell.execute_reply": "2025-04-17T21:44:29.625478Z"
        },
        "id": "d92721e5-c72c-49cc-8c9b-7f80ec1a4535"
      },
      "outputs": [],
      "execution_count": 23
    },
    {
      "id": "2W8JFgicm3a5",
      "cell_type": "code",
      "source": [
        "# Initializing the model hyperparam-tuning fucntion\n",
        "def model_init(trial: Trial = None):\n",
        "      if trial is None:\n",
        "        return static_model\n",
        "\n",
        "      base = RobertaForSequenceClassification.from_pretrained(\n",
        "          base_model, id2label = id2label\n",
        "      )\n",
        "\n",
        "      peft_config = LoraConfig(\n",
        "        r = 10,\n",
        "        lora_alpha = 64,\n",
        "        lora_dropout = 0.1,\n",
        "        bias = \"none\",\n",
        "        target_modules= [\"query\", \"value\"],\n",
        "        task_type = \"SEQ_CLS\"\n",
        "      )\n",
        "      peft_model = get_peft_model(base, peft_config).to(device)\n",
        "      return peft_model"
      ],
      "metadata": {
        "id": "2W8JFgicm3a5",
        "trusted": true,
        "execution": {
          "iopub.status.busy": "2025-04-17T21:44:29.626588Z",
          "iopub.execute_input": "2025-04-17T21:44:29.626817Z",
          "iopub.status.idle": "2025-04-17T21:44:29.640248Z",
          "shell.execute_reply.started": "2025-04-17T21:44:29.626798Z",
          "shell.execute_reply": "2025-04-17T21:44:29.639647Z"
        }
      },
      "outputs": [],
      "execution_count": 24
    },
    {
      "id": "c7yAKmBdWx9N",
      "cell_type": "code",
      "source": [
        "# Taking small subset of data for performing hyperparameter fine-tuning!\n",
        "small_dataset = tokenized_dataset.train_test_split(train_size = 0.1, test_size = 0.05, seed = 42, stratify_by_column = \"labels\")\n",
        "small_train_set = small_dataset[\"train\"]\n",
        "small_test_set = small_dataset[\"test\"]"
      ],
      "metadata": {
        "id": "c7yAKmBdWx9N",
        "trusted": true,
        "execution": {
          "iopub.status.busy": "2025-04-17T21:44:29.640941Z",
          "iopub.execute_input": "2025-04-17T21:44:29.641184Z",
          "iopub.status.idle": "2025-04-17T21:44:29.711845Z",
          "shell.execute_reply.started": "2025-04-17T21:44:29.641163Z",
          "shell.execute_reply": "2025-04-17T21:44:29.711331Z"
        }
      },
      "outputs": [],
      "execution_count": 25
    },
    {
      "id": "b_0MckGdXo9U",
      "cell_type": "code",
      "source": [
        "print(f\"Small set training examples: {len(small_train_set)}\")\n",
        "print(f\"Small set testing examples: {len(small_test_set)}\")"
      ],
      "metadata": {
        "colab": {
          "base_uri": "https://localhost:8080/"
        },
        "id": "b_0MckGdXo9U",
        "outputId": "c5bccdc4-6a00-4cc9-9d63-0079ba001311",
        "trusted": true,
        "execution": {
          "iopub.status.busy": "2025-04-17T21:44:29.712563Z",
          "iopub.execute_input": "2025-04-17T21:44:29.712782Z",
          "iopub.status.idle": "2025-04-17T21:44:29.716980Z",
          "shell.execute_reply.started": "2025-04-17T21:44:29.712759Z",
          "shell.execute_reply": "2025-04-17T21:44:29.716170Z"
        }
      },
      "outputs": [
        {
          "output_type": "stream",
          "name": "stdout",
          "text": [
            "Small set training examples: 12000\n",
            "Small set testing examples: 6000\n"
          ]
        }
      ],
      "execution_count": 26
    },
    {
      "id": "dQcQn5I-y0p4",
      "cell_type": "code",
      "source": [
        "trainer = Trainer(\n",
        "      # model = peft_model,\n",
        "      model_init = model_init,\n",
        "      args = training_args,\n",
        "      compute_metrics = compute_metrics,\n",
        "      train_dataset= small_train_set,\n",
        "      eval_dataset= small_test_set,\n",
        "      data_collator = datacollator,\n",
        "      callbacks = [EarlyStoppingCallback(early_stopping_patience= 3)]\n",
        "  )"
      ],
      "metadata": {
        "id": "dQcQn5I-y0p4",
        "trusted": true,
        "execution": {
          "iopub.status.busy": "2025-04-17T21:44:29.717788Z",
          "iopub.execute_input": "2025-04-17T21:44:29.718026Z",
          "iopub.status.idle": "2025-04-17T21:44:32.515597Z",
          "shell.execute_reply.started": "2025-04-17T21:44:29.718005Z",
          "shell.execute_reply": "2025-04-17T21:44:32.514692Z"
        },
        "colab": {
          "base_uri": "https://localhost:8080/"
        },
        "outputId": "aeca6f22-7d62-46d8-ae72-0655e995f7ef"
      },
      "outputs": [
        {
          "output_type": "stream",
          "name": "stderr",
          "text": [
            "No label_names provided for model class `PeftModelForSequenceClassification`. Since `PeftModel` hides base models input arguments, if label_names is not given, label_names can't be set automatically within `Trainer`. Note that empty label_names list will be used instead.\n"
          ]
        }
      ],
      "execution_count": 27
    },
    {
      "id": "9h4xDYkjb-3J",
      "cell_type": "code",
      "source": [
        "best_run = trainer.hyperparameter_search(\n",
        "    direction = \"maximize\", # maximize eval_acc\n",
        "    backend = \"optuna\",\n",
        "    n_trials = 20,\n",
        "    pruner=MedianPruner(n_startup_trials=5, n_warmup_steps=100),\n",
        "    hp_space = lambda trial:{\n",
        "        \"learning_rate\":               trial.suggest_loguniform(\"learning_rate\", 1e-5, 5e-4),\n",
        "        \"per_device_train_batch_size\": trial.suggest_categorical(\"batch_size\", [8, 16, 32]),\n",
        "        \"gradient_accumulation_steps\": trial.suggest_categorical(\"grad_accum\", [1, 2, 4]),\n",
        "        \"weight_decay\":                trial.suggest_categorical(\"weight_decay\", [0.0, 0.01])\n",
        "    },\n",
        ")\n",
        "\n",
        "print(\"Best hyperparameters:\", best_run.hyperparameters)"
      ],
      "metadata": {
        "id": "9h4xDYkjb-3J",
        "colab": {
          "base_uri": "https://localhost:8080/",
          "height": 1000
        },
        "outputId": "f0ff8bec-1961-4c59-d384-9731e7c79aff",
        "trusted": true,
        "execution": {
          "iopub.status.busy": "2025-04-17T21:44:32.516384Z",
          "iopub.execute_input": "2025-04-17T21:44:32.516603Z"
        }
      },
      "outputs": [
        {
          "output_type": "stream",
          "name": "stderr",
          "text": [
            "[I 2025-04-18 22:37:55,752] A new study created in memory with name: no-name-a8248a7c-c896-4dc7-84e0-4f68e6be3f13\n",
            "<ipython-input-28-b45aaca4fadf>:7: FutureWarning: suggest_loguniform has been deprecated in v3.0.0. This feature will be removed in v6.0.0. See https://github.com/optuna/optuna/releases/tag/v3.0.0. Use suggest_float(..., log=True) instead.\n",
            "  \"learning_rate\":               trial.suggest_loguniform(\"learning_rate\", 1e-5, 5e-4),\n",
            "Some weights of RobertaForSequenceClassification were not initialized from the model checkpoint at roberta-base and are newly initialized: ['classifier.dense.bias', 'classifier.dense.weight', 'classifier.out_proj.bias', 'classifier.out_proj.weight']\n",
            "You should probably TRAIN this model on a down-stream task to be able to use it for predictions and inference.\n",
            "/usr/local/lib/python3.11/dist-packages/torch/utils/data/dataloader.py:624: UserWarning: This DataLoader will create 4 worker processes in total. Our suggested max number of worker in current system is 2, which is smaller than what this DataLoader is going to create. Please be aware that excessive worker creation might get DataLoader running slow or even freeze, lower the worker number to avoid potential slowness/freeze if necessary.\n",
            "  warnings.warn(\n",
            "\u001b[34m\u001b[1mwandb\u001b[0m: Using wandb-core as the SDK backend.  Please refer to https://wandb.me/wandb-core for more information.\n"
          ]
        },
        {
          "output_type": "display_data",
          "data": {
            "text/plain": [
              "<IPython.core.display.Javascript object>"
            ],
            "application/javascript": [
              "\n",
              "        window._wandbApiKey = new Promise((resolve, reject) => {\n",
              "            function loadScript(url) {\n",
              "            return new Promise(function(resolve, reject) {\n",
              "                let newScript = document.createElement(\"script\");\n",
              "                newScript.onerror = reject;\n",
              "                newScript.onload = resolve;\n",
              "                document.body.appendChild(newScript);\n",
              "                newScript.src = url;\n",
              "            });\n",
              "            }\n",
              "            loadScript(\"https://cdn.jsdelivr.net/npm/postmate/build/postmate.min.js\").then(() => {\n",
              "            const iframe = document.createElement('iframe')\n",
              "            iframe.style.cssText = \"width:0;height:0;border:none\"\n",
              "            document.body.appendChild(iframe)\n",
              "            const handshake = new Postmate({\n",
              "                container: iframe,\n",
              "                url: 'https://wandb.ai/authorize'\n",
              "            });\n",
              "            const timeout = setTimeout(() => reject(\"Couldn't auto authenticate\"), 5000)\n",
              "            handshake.then(function(child) {\n",
              "                child.on('authorize', data => {\n",
              "                    clearTimeout(timeout)\n",
              "                    resolve(data)\n",
              "                });\n",
              "            });\n",
              "            })\n",
              "        });\n",
              "    "
            ]
          },
          "metadata": {}
        },
        {
          "output_type": "stream",
          "name": "stderr",
          "text": [
            "\u001b[34m\u001b[1mwandb\u001b[0m: Logging into wandb.ai. (Learn how to deploy a W&B server locally: https://wandb.me/wandb-server)\n",
            "\u001b[34m\u001b[1mwandb\u001b[0m: You can find your API key in your browser here: https://wandb.ai/authorize\n",
            "wandb: Paste an API key from your profile and hit enter:"
          ]
        },
        {
          "name": "stdout",
          "output_type": "stream",
          "text": [
            " ··········\n"
          ]
        },
        {
          "output_type": "stream",
          "name": "stderr",
          "text": [
            "\u001b[34m\u001b[1mwandb\u001b[0m: \u001b[33mWARNING\u001b[0m If you're specifying your api key in code, ensure this code is not shared publicly.\n",
            "\u001b[34m\u001b[1mwandb\u001b[0m: \u001b[33mWARNING\u001b[0m Consider setting the WANDB_API_KEY environment variable, or running `wandb login` from the command line.\n",
            "\u001b[34m\u001b[1mwandb\u001b[0m: No netrc file found, creating one.\n",
            "\u001b[34m\u001b[1mwandb\u001b[0m: Appending key for api.wandb.ai to your netrc file: /root/.netrc\n",
            "\u001b[34m\u001b[1mwandb\u001b[0m: Currently logged in as: \u001b[33msk11634\u001b[0m (\u001b[33msk11634-new-york-university\u001b[0m) to \u001b[32mhttps://api.wandb.ai\u001b[0m. Use \u001b[1m`wandb login --relogin`\u001b[0m to force relogin\n"
          ]
        },
        {
          "output_type": "display_data",
          "data": {
            "text/plain": [
              "<IPython.core.display.HTML object>"
            ],
            "text/html": [
              "Tracking run with wandb version 0.19.9"
            ]
          },
          "metadata": {}
        },
        {
          "output_type": "display_data",
          "data": {
            "text/plain": [
              "<IPython.core.display.HTML object>"
            ],
            "text/html": [
              "Run data is saved locally in <code>/content/wandb/run-20250418_223820-2b5md44s</code>"
            ]
          },
          "metadata": {}
        },
        {
          "output_type": "display_data",
          "data": {
            "text/plain": [
              "<IPython.core.display.HTML object>"
            ],
            "text/html": [
              "Syncing run <strong><a href='https://wandb.ai/sk11634-new-york-university/huggingface/runs/2b5md44s' target=\"_blank\">misty-glade-89</a></strong> to <a href='https://wandb.ai/sk11634-new-york-university/huggingface' target=\"_blank\">Weights & Biases</a> (<a href='https://wandb.me/developer-guide' target=\"_blank\">docs</a>)<br>"
            ]
          },
          "metadata": {}
        },
        {
          "output_type": "display_data",
          "data": {
            "text/plain": [
              "<IPython.core.display.HTML object>"
            ],
            "text/html": [
              " View project at <a href='https://wandb.ai/sk11634-new-york-university/huggingface' target=\"_blank\">https://wandb.ai/sk11634-new-york-university/huggingface</a>"
            ]
          },
          "metadata": {}
        },
        {
          "output_type": "display_data",
          "data": {
            "text/plain": [
              "<IPython.core.display.HTML object>"
            ],
            "text/html": [
              " View run at <a href='https://wandb.ai/sk11634-new-york-university/huggingface/runs/2b5md44s' target=\"_blank\">https://wandb.ai/sk11634-new-york-university/huggingface/runs/2b5md44s</a>"
            ]
          },
          "metadata": {}
        },
        {
          "output_type": "stream",
          "name": "stderr",
          "text": [
            "Using EarlyStoppingCallback without load_best_model_at_end=True. Once training is finished, the best model will not be loaded automatically.\n",
            "/usr/local/lib/python3.11/dist-packages/torch/utils/data/dataloader.py:624: UserWarning: This DataLoader will create 4 worker processes in total. Our suggested max number of worker in current system is 2, which is smaller than what this DataLoader is going to create. Please be aware that excessive worker creation might get DataLoader running slow or even freeze, lower the worker number to avoid potential slowness/freeze if necessary.\n",
            "  warnings.warn(\n"
          ]
        },
        {
          "output_type": "display_data",
          "data": {
            "text/plain": [
              "<IPython.core.display.HTML object>"
            ],
            "text/html": [
              "\n",
              "    <div>\n",
              "      \n",
              "      <progress value='200' max='200' style='width:300px; height:20px; vertical-align: middle;'></progress>\n",
              "      [200/200 04:37, Epoch 1/2]\n",
              "    </div>\n",
              "    <table border=\"1\" class=\"dataframe\">\n",
              "  <thead>\n",
              " <tr style=\"text-align: left;\">\n",
              "      <th>Step</th>\n",
              "      <th>Training Loss</th>\n",
              "      <th>Validation Loss</th>\n",
              "      <th>Accuracy</th>\n",
              "      <th>Precision</th>\n",
              "      <th>Recall</th>\n",
              "      <th>F1</th>\n",
              "    </tr>\n",
              "  </thead>\n",
              "  <tbody>\n",
              "    <tr>\n",
              "      <td>50</td>\n",
              "      <td>No log</td>\n",
              "      <td>0.334733</td>\n",
              "      <td>0.891000</td>\n",
              "      <td>0.890435</td>\n",
              "      <td>0.891000</td>\n",
              "      <td>0.890592</td>\n",
              "    </tr>\n",
              "    <tr>\n",
              "      <td>100</td>\n",
              "      <td>No log</td>\n",
              "      <td>0.290616</td>\n",
              "      <td>0.903000</td>\n",
              "      <td>0.902867</td>\n",
              "      <td>0.903000</td>\n",
              "      <td>0.902649</td>\n",
              "    </tr>\n",
              "    <tr>\n",
              "      <td>150</td>\n",
              "      <td>No log</td>\n",
              "      <td>0.289045</td>\n",
              "      <td>0.902000</td>\n",
              "      <td>0.904382</td>\n",
              "      <td>0.902000</td>\n",
              "      <td>0.901905</td>\n",
              "    </tr>\n",
              "    <tr>\n",
              "      <td>200</td>\n",
              "      <td>No log</td>\n",
              "      <td>0.278706</td>\n",
              "      <td>0.907833</td>\n",
              "      <td>0.907642</td>\n",
              "      <td>0.907833</td>\n",
              "      <td>0.907611</td>\n",
              "    </tr>\n",
              "  </tbody>\n",
              "</table><p>"
            ]
          },
          "metadata": {}
        },
        {
          "output_type": "stream",
          "name": "stderr",
          "text": [
            "/usr/local/lib/python3.11/dist-packages/torch/utils/data/dataloader.py:624: UserWarning: This DataLoader will create 4 worker processes in total. Our suggested max number of worker in current system is 2, which is smaller than what this DataLoader is going to create. Please be aware that excessive worker creation might get DataLoader running slow or even freeze, lower the worker number to avoid potential slowness/freeze if necessary.\n",
            "  warnings.warn(\n",
            "/usr/local/lib/python3.11/dist-packages/torch/utils/data/dataloader.py:624: UserWarning: This DataLoader will create 4 worker processes in total. Our suggested max number of worker in current system is 2, which is smaller than what this DataLoader is going to create. Please be aware that excessive worker creation might get DataLoader running slow or even freeze, lower the worker number to avoid potential slowness/freeze if necessary.\n",
            "  warnings.warn(\n",
            "/usr/local/lib/python3.11/dist-packages/torch/utils/data/dataloader.py:624: UserWarning: This DataLoader will create 4 worker processes in total. Our suggested max number of worker in current system is 2, which is smaller than what this DataLoader is going to create. Please be aware that excessive worker creation might get DataLoader running slow or even freeze, lower the worker number to avoid potential slowness/freeze if necessary.\n",
            "  warnings.warn(\n",
            "[I 2025-04-18 22:43:02,941] Trial 0 finished with value: 3.6309200032274225 and parameters: {'learning_rate': 0.00011428245504741135, 'batch_size': 16, 'grad_accum': 4, 'weight_decay': 0.0}. Best is trial 0 with value: 3.6309200032274225.\n",
            "<ipython-input-28-b45aaca4fadf>:7: FutureWarning: suggest_loguniform has been deprecated in v3.0.0. This feature will be removed in v6.0.0. See https://github.com/optuna/optuna/releases/tag/v3.0.0. Use suggest_float(..., log=True) instead.\n",
            "  \"learning_rate\":               trial.suggest_loguniform(\"learning_rate\", 1e-5, 5e-4),\n",
            "Some weights of RobertaForSequenceClassification were not initialized from the model checkpoint at roberta-base and are newly initialized: ['classifier.dense.bias', 'classifier.dense.weight', 'classifier.out_proj.bias', 'classifier.out_proj.weight']\n",
            "You should probably TRAIN this model on a down-stream task to be able to use it for predictions and inference.\n",
            "/usr/local/lib/python3.11/dist-packages/torch/utils/data/dataloader.py:624: UserWarning: This DataLoader will create 4 worker processes in total. Our suggested max number of worker in current system is 2, which is smaller than what this DataLoader is going to create. Please be aware that excessive worker creation might get DataLoader running slow or even freeze, lower the worker number to avoid potential slowness/freeze if necessary.\n",
            "  warnings.warn(\n"
          ]
        },
        {
          "output_type": "display_data",
          "data": {
            "text/plain": [
              "<IPython.core.display.HTML object>"
            ],
            "text/html": []
          },
          "metadata": {}
        },
        {
          "output_type": "display_data",
          "data": {
            "text/plain": [
              "<IPython.core.display.HTML object>"
            ],
            "text/html": [
              "<br>    <style><br>        .wandb-row {<br>            display: flex;<br>            flex-direction: row;<br>            flex-wrap: wrap;<br>            justify-content: flex-start;<br>            width: 100%;<br>        }<br>        .wandb-col {<br>            display: flex;<br>            flex-direction: column;<br>            flex-basis: 100%;<br>            flex: 1;<br>            padding: 10px;<br>        }<br>    </style><br><div class=\"wandb-row\"><div class=\"wandb-col\"><h3>Run history:</h3><br/><table class=\"wandb\"><tr><td>eval/accuracy</td><td>▁▆▆█</td></tr><tr><td>eval/f1</td><td>▁▆▆█</td></tr><tr><td>eval/loss</td><td>█▂▂▁</td></tr><tr><td>eval/precision</td><td>▁▆▇█</td></tr><tr><td>eval/recall</td><td>▁▆▆█</td></tr><tr><td>eval/runtime</td><td>▁▅▅█</td></tr><tr><td>eval/samples_per_second</td><td>█▄▄▁</td></tr><tr><td>eval/steps_per_second</td><td>█▄▄▁</td></tr><tr><td>train/epoch</td><td>▁▃▆██</td></tr><tr><td>train/global_step</td><td>▁▃▆██</td></tr></table><br/></div><div class=\"wandb-col\"><h3>Run summary:</h3><br/><table class=\"wandb\"><tr><td>eval/accuracy</td><td>0.90783</td></tr><tr><td>eval/f1</td><td>0.90761</td></tr><tr><td>eval/loss</td><td>0.27871</td></tr><tr><td>eval/precision</td><td>0.90764</td></tr><tr><td>eval/recall</td><td>0.90783</td></tr><tr><td>eval/runtime</td><td>30.3586</td></tr><tr><td>eval/samples_per_second</td><td>197.637</td></tr><tr><td>eval/steps_per_second</td><td>24.705</td></tr><tr><td>total_flos</td><td>2186521412807424.0</td></tr><tr><td>train/epoch</td><td>1.064</td></tr><tr><td>train/global_step</td><td>200</td></tr><tr><td>train_loss</td><td>0.48274</td></tr><tr><td>train_runtime</td><td>305.2075</td></tr><tr><td>train_samples_per_second</td><td>41.939</td></tr><tr><td>train_steps_per_second</td><td>0.655</td></tr></table><br/></div></div>"
            ]
          },
          "metadata": {}
        },
        {
          "output_type": "display_data",
          "data": {
            "text/plain": [
              "<IPython.core.display.HTML object>"
            ],
            "text/html": [
              " View run <strong style=\"color:#cdcd00\">misty-glade-89</strong> at: <a href='https://wandb.ai/sk11634-new-york-university/huggingface/runs/2b5md44s' target=\"_blank\">https://wandb.ai/sk11634-new-york-university/huggingface/runs/2b5md44s</a><br> View project at: <a href='https://wandb.ai/sk11634-new-york-university/huggingface' target=\"_blank\">https://wandb.ai/sk11634-new-york-university/huggingface</a><br>Synced 5 W&B file(s), 0 media file(s), 0 artifact file(s) and 0 other file(s)"
            ]
          },
          "metadata": {}
        },
        {
          "output_type": "display_data",
          "data": {
            "text/plain": [
              "<IPython.core.display.HTML object>"
            ],
            "text/html": [
              "Find logs at: <code>./wandb/run-20250418_223820-2b5md44s/logs</code>"
            ]
          },
          "metadata": {}
        },
        {
          "output_type": "display_data",
          "data": {
            "text/plain": [
              "<IPython.core.display.HTML object>"
            ],
            "text/html": [
              "Tracking run with wandb version 0.19.9"
            ]
          },
          "metadata": {}
        },
        {
          "output_type": "display_data",
          "data": {
            "text/plain": [
              "<IPython.core.display.HTML object>"
            ],
            "text/html": [
              "Run data is saved locally in <code>/content/wandb/run-20250418_224305-3rwn5rmd</code>"
            ]
          },
          "metadata": {}
        },
        {
          "output_type": "display_data",
          "data": {
            "text/plain": [
              "<IPython.core.display.HTML object>"
            ],
            "text/html": [
              "Syncing run <strong><a href='https://wandb.ai/sk11634-new-york-university/huggingface/runs/3rwn5rmd' target=\"_blank\">genial-pond-90</a></strong> to <a href='https://wandb.ai/sk11634-new-york-university/huggingface' target=\"_blank\">Weights & Biases</a> (<a href='https://wandb.me/developer-guide' target=\"_blank\">docs</a>)<br>"
            ]
          },
          "metadata": {}
        },
        {
          "output_type": "display_data",
          "data": {
            "text/plain": [
              "<IPython.core.display.HTML object>"
            ],
            "text/html": [
              " View project at <a href='https://wandb.ai/sk11634-new-york-university/huggingface' target=\"_blank\">https://wandb.ai/sk11634-new-york-university/huggingface</a>"
            ]
          },
          "metadata": {}
        },
        {
          "output_type": "display_data",
          "data": {
            "text/plain": [
              "<IPython.core.display.HTML object>"
            ],
            "text/html": [
              " View run at <a href='https://wandb.ai/sk11634-new-york-university/huggingface/runs/3rwn5rmd' target=\"_blank\">https://wandb.ai/sk11634-new-york-university/huggingface/runs/3rwn5rmd</a>"
            ]
          },
          "metadata": {}
        },
        {
          "output_type": "stream",
          "name": "stderr",
          "text": [
            "Using EarlyStoppingCallback without load_best_model_at_end=True. Once training is finished, the best model will not be loaded automatically.\n"
          ]
        },
        {
          "output_type": "display_data",
          "data": {
            "text/plain": [
              "<IPython.core.display.HTML object>"
            ],
            "text/html": [
              "\n",
              "    <div>\n",
              "      \n",
              "      <progress value='200' max='200' style='width:300px; height:20px; vertical-align: middle;'></progress>\n",
              "      [200/200 02:22, Epoch 0/1]\n",
              "    </div>\n",
              "    <table border=\"1\" class=\"dataframe\">\n",
              "  <thead>\n",
              " <tr style=\"text-align: left;\">\n",
              "      <th>Step</th>\n",
              "      <th>Training Loss</th>\n",
              "      <th>Validation Loss</th>\n",
              "      <th>Accuracy</th>\n",
              "      <th>Precision</th>\n",
              "      <th>Recall</th>\n",
              "      <th>F1</th>\n",
              "    </tr>\n",
              "  </thead>\n",
              "  <tbody>\n",
              "    <tr>\n",
              "      <td>50</td>\n",
              "      <td>No log</td>\n",
              "      <td>1.373929</td>\n",
              "      <td>0.250000</td>\n",
              "      <td>0.062500</td>\n",
              "      <td>0.250000</td>\n",
              "      <td>0.100000</td>\n",
              "    </tr>\n",
              "    <tr>\n",
              "      <td>100</td>\n",
              "      <td>No log</td>\n",
              "      <td>1.288226</td>\n",
              "      <td>0.701167</td>\n",
              "      <td>0.789629</td>\n",
              "      <td>0.701167</td>\n",
              "      <td>0.652266</td>\n",
              "    </tr>\n",
              "    <tr>\n",
              "      <td>150</td>\n",
              "      <td>No log</td>\n",
              "      <td>0.857535</td>\n",
              "      <td>0.859667</td>\n",
              "      <td>0.877117</td>\n",
              "      <td>0.859667</td>\n",
              "      <td>0.859686</td>\n",
              "    </tr>\n",
              "    <tr>\n",
              "      <td>200</td>\n",
              "      <td>No log</td>\n",
              "      <td>0.694530</td>\n",
              "      <td>0.876667</td>\n",
              "      <td>0.878540</td>\n",
              "      <td>0.876667</td>\n",
              "      <td>0.876295</td>\n",
              "    </tr>\n",
              "  </tbody>\n",
              "</table><p>"
            ]
          },
          "metadata": {}
        },
        {
          "output_type": "stream",
          "name": "stderr",
          "text": [
            "/usr/local/lib/python3.11/dist-packages/sklearn/metrics/_classification.py:1565: UndefinedMetricWarning: Precision is ill-defined and being set to 0.0 in labels with no predicted samples. Use `zero_division` parameter to control this behavior.\n",
            "  _warn_prf(average, modifier, f\"{metric.capitalize()} is\", len(result))\n",
            "/usr/local/lib/python3.11/dist-packages/torch/utils/data/dataloader.py:624: UserWarning: This DataLoader will create 4 worker processes in total. Our suggested max number of worker in current system is 2, which is smaller than what this DataLoader is going to create. Please be aware that excessive worker creation might get DataLoader running slow or even freeze, lower the worker number to avoid potential slowness/freeze if necessary.\n",
            "  warnings.warn(\n",
            "/usr/local/lib/python3.11/dist-packages/torch/utils/data/dataloader.py:624: UserWarning: This DataLoader will create 4 worker processes in total. Our suggested max number of worker in current system is 2, which is smaller than what this DataLoader is going to create. Please be aware that excessive worker creation might get DataLoader running slow or even freeze, lower the worker number to avoid potential slowness/freeze if necessary.\n",
            "  warnings.warn(\n",
            "/usr/local/lib/python3.11/dist-packages/torch/utils/data/dataloader.py:624: UserWarning: This DataLoader will create 4 worker processes in total. Our suggested max number of worker in current system is 2, which is smaller than what this DataLoader is going to create. Please be aware that excessive worker creation might get DataLoader running slow or even freeze, lower the worker number to avoid potential slowness/freeze if necessary.\n",
            "  warnings.warn(\n",
            "[I 2025-04-18 22:45:30,221] Trial 1 finished with value: 3.508168992888026 and parameters: {'learning_rate': 4.786443078322559e-05, 'batch_size': 8, 'grad_accum': 1, 'weight_decay': 0.0}. Best is trial 0 with value: 3.6309200032274225.\n",
            "<ipython-input-28-b45aaca4fadf>:7: FutureWarning: suggest_loguniform has been deprecated in v3.0.0. This feature will be removed in v6.0.0. See https://github.com/optuna/optuna/releases/tag/v3.0.0. Use suggest_float(..., log=True) instead.\n",
            "  \"learning_rate\":               trial.suggest_loguniform(\"learning_rate\", 1e-5, 5e-4),\n",
            "Some weights of RobertaForSequenceClassification were not initialized from the model checkpoint at roberta-base and are newly initialized: ['classifier.dense.bias', 'classifier.dense.weight', 'classifier.out_proj.bias', 'classifier.out_proj.weight']\n",
            "You should probably TRAIN this model on a down-stream task to be able to use it for predictions and inference.\n",
            "/usr/local/lib/python3.11/dist-packages/torch/utils/data/dataloader.py:624: UserWarning: This DataLoader will create 4 worker processes in total. Our suggested max number of worker in current system is 2, which is smaller than what this DataLoader is going to create. Please be aware that excessive worker creation might get DataLoader running slow or even freeze, lower the worker number to avoid potential slowness/freeze if necessary.\n",
            "  warnings.warn(\n"
          ]
        },
        {
          "output_type": "display_data",
          "data": {
            "text/plain": [
              "<IPython.core.display.HTML object>"
            ],
            "text/html": []
          },
          "metadata": {}
        },
        {
          "output_type": "display_data",
          "data": {
            "text/plain": [
              "<IPython.core.display.HTML object>"
            ],
            "text/html": [
              "<br>    <style><br>        .wandb-row {<br>            display: flex;<br>            flex-direction: row;<br>            flex-wrap: wrap;<br>            justify-content: flex-start;<br>            width: 100%;<br>        }<br>        .wandb-col {<br>            display: flex;<br>            flex-direction: column;<br>            flex-basis: 100%;<br>            flex: 1;<br>            padding: 10px;<br>        }<br>    </style><br><div class=\"wandb-row\"><div class=\"wandb-col\"><h3>Run history:</h3><br/><table class=\"wandb\"><tr><td>eval/accuracy</td><td>▁▆██</td></tr><tr><td>eval/f1</td><td>▁▆██</td></tr><tr><td>eval/loss</td><td>█▇▃▁</td></tr><tr><td>eval/precision</td><td>▁▇██</td></tr><tr><td>eval/recall</td><td>▁▆██</td></tr><tr><td>eval/runtime</td><td>█▁▁▄</td></tr><tr><td>eval/samples_per_second</td><td>▁██▅</td></tr><tr><td>eval/steps_per_second</td><td>▁██▅</td></tr><tr><td>train/epoch</td><td>▁▃▆██</td></tr><tr><td>train/global_step</td><td>▁▃▆██</td></tr></table><br/></div><div class=\"wandb-col\"><h3>Run summary:</h3><br/><table class=\"wandb\"><tr><td>eval/accuracy</td><td>0.87667</td></tr><tr><td>eval/f1</td><td>0.8763</td></tr><tr><td>eval/loss</td><td>0.69453</td></tr><tr><td>eval/precision</td><td>0.87854</td></tr><tr><td>eval/recall</td><td>0.87667</td></tr><tr><td>eval/runtime</td><td>30.3384</td></tr><tr><td>eval/samples_per_second</td><td>197.769</td></tr><tr><td>eval/steps_per_second</td><td>24.721</td></tr><tr><td>total_flos</td><td>259727836253952.0</td></tr><tr><td>train/epoch</td><td>0.13333</td></tr><tr><td>train/global_step</td><td>200</td></tr><tr><td>train_loss</td><td>1.15202</td></tr><tr><td>train_runtime</td><td>145.3864</td></tr><tr><td>train_samples_per_second</td><td>11.005</td></tr><tr><td>train_steps_per_second</td><td>1.376</td></tr></table><br/></div></div>"
            ]
          },
          "metadata": {}
        },
        {
          "output_type": "display_data",
          "data": {
            "text/plain": [
              "<IPython.core.display.HTML object>"
            ],
            "text/html": [
              " View run <strong style=\"color:#cdcd00\">genial-pond-90</strong> at: <a href='https://wandb.ai/sk11634-new-york-university/huggingface/runs/3rwn5rmd' target=\"_blank\">https://wandb.ai/sk11634-new-york-university/huggingface/runs/3rwn5rmd</a><br> View project at: <a href='https://wandb.ai/sk11634-new-york-university/huggingface' target=\"_blank\">https://wandb.ai/sk11634-new-york-university/huggingface</a><br>Synced 5 W&B file(s), 0 media file(s), 0 artifact file(s) and 0 other file(s)"
            ]
          },
          "metadata": {}
        },
        {
          "output_type": "display_data",
          "data": {
            "text/plain": [
              "<IPython.core.display.HTML object>"
            ],
            "text/html": [
              "Find logs at: <code>./wandb/run-20250418_224305-3rwn5rmd/logs</code>"
            ]
          },
          "metadata": {}
        },
        {
          "output_type": "display_data",
          "data": {
            "text/plain": [
              "<IPython.core.display.HTML object>"
            ],
            "text/html": [
              "Tracking run with wandb version 0.19.9"
            ]
          },
          "metadata": {}
        },
        {
          "output_type": "display_data",
          "data": {
            "text/plain": [
              "<IPython.core.display.HTML object>"
            ],
            "text/html": [
              "Run data is saved locally in <code>/content/wandb/run-20250418_224532-8dz7118a</code>"
            ]
          },
          "metadata": {}
        },
        {
          "output_type": "display_data",
          "data": {
            "text/plain": [
              "<IPython.core.display.HTML object>"
            ],
            "text/html": [
              "Syncing run <strong><a href='https://wandb.ai/sk11634-new-york-university/huggingface/runs/8dz7118a' target=\"_blank\">peach-glitter-91</a></strong> to <a href='https://wandb.ai/sk11634-new-york-university/huggingface' target=\"_blank\">Weights & Biases</a> (<a href='https://wandb.me/developer-guide' target=\"_blank\">docs</a>)<br>"
            ]
          },
          "metadata": {}
        },
        {
          "output_type": "display_data",
          "data": {
            "text/plain": [
              "<IPython.core.display.HTML object>"
            ],
            "text/html": [
              " View project at <a href='https://wandb.ai/sk11634-new-york-university/huggingface' target=\"_blank\">https://wandb.ai/sk11634-new-york-university/huggingface</a>"
            ]
          },
          "metadata": {}
        },
        {
          "output_type": "display_data",
          "data": {
            "text/plain": [
              "<IPython.core.display.HTML object>"
            ],
            "text/html": [
              " View run at <a href='https://wandb.ai/sk11634-new-york-university/huggingface/runs/8dz7118a' target=\"_blank\">https://wandb.ai/sk11634-new-york-university/huggingface/runs/8dz7118a</a>"
            ]
          },
          "metadata": {}
        },
        {
          "output_type": "stream",
          "name": "stderr",
          "text": [
            "Using EarlyStoppingCallback without load_best_model_at_end=True. Once training is finished, the best model will not be loaded automatically.\n"
          ]
        },
        {
          "output_type": "display_data",
          "data": {
            "text/plain": [
              "<IPython.core.display.HTML object>"
            ],
            "text/html": [
              "\n",
              "    <div>\n",
              "      \n",
              "      <progress value='200' max='200' style='width:300px; height:20px; vertical-align: middle;'></progress>\n",
              "      [200/200 03:22, Epoch 0/1]\n",
              "    </div>\n",
              "    <table border=\"1\" class=\"dataframe\">\n",
              "  <thead>\n",
              " <tr style=\"text-align: left;\">\n",
              "      <th>Step</th>\n",
              "      <th>Training Loss</th>\n",
              "      <th>Validation Loss</th>\n",
              "      <th>Accuracy</th>\n",
              "      <th>Precision</th>\n",
              "      <th>Recall</th>\n",
              "      <th>F1</th>\n",
              "    </tr>\n",
              "  </thead>\n",
              "  <tbody>\n",
              "    <tr>\n",
              "      <td>50</td>\n",
              "      <td>No log</td>\n",
              "      <td>1.080948</td>\n",
              "      <td>0.766667</td>\n",
              "      <td>0.842049</td>\n",
              "      <td>0.766667</td>\n",
              "      <td>0.760291</td>\n",
              "    </tr>\n",
              "    <tr>\n",
              "      <td>100</td>\n",
              "      <td>No log</td>\n",
              "      <td>0.334220</td>\n",
              "      <td>0.892667</td>\n",
              "      <td>0.892516</td>\n",
              "      <td>0.892667</td>\n",
              "      <td>0.892521</td>\n",
              "    </tr>\n",
              "    <tr>\n",
              "      <td>150</td>\n",
              "      <td>No log</td>\n",
              "      <td>0.313202</td>\n",
              "      <td>0.899333</td>\n",
              "      <td>0.900133</td>\n",
              "      <td>0.899333</td>\n",
              "      <td>0.899374</td>\n",
              "    </tr>\n",
              "    <tr>\n",
              "      <td>200</td>\n",
              "      <td>No log</td>\n",
              "      <td>0.305739</td>\n",
              "      <td>0.899167</td>\n",
              "      <td>0.898986</td>\n",
              "      <td>0.899167</td>\n",
              "      <td>0.899010</td>\n",
              "    </tr>\n",
              "  </tbody>\n",
              "</table><p>"
            ]
          },
          "metadata": {}
        },
        {
          "output_type": "stream",
          "name": "stderr",
          "text": [
            "/usr/local/lib/python3.11/dist-packages/torch/utils/data/dataloader.py:624: UserWarning: This DataLoader will create 4 worker processes in total. Our suggested max number of worker in current system is 2, which is smaller than what this DataLoader is going to create. Please be aware that excessive worker creation might get DataLoader running slow or even freeze, lower the worker number to avoid potential slowness/freeze if necessary.\n",
            "  warnings.warn(\n",
            "/usr/local/lib/python3.11/dist-packages/torch/utils/data/dataloader.py:624: UserWarning: This DataLoader will create 4 worker processes in total. Our suggested max number of worker in current system is 2, which is smaller than what this DataLoader is going to create. Please be aware that excessive worker creation might get DataLoader running slow or even freeze, lower the worker number to avoid potential slowness/freeze if necessary.\n",
            "  warnings.warn(\n",
            "/usr/local/lib/python3.11/dist-packages/torch/utils/data/dataloader.py:624: UserWarning: This DataLoader will create 4 worker processes in total. Our suggested max number of worker in current system is 2, which is smaller than what this DataLoader is going to create. Please be aware that excessive worker creation might get DataLoader running slow or even freeze, lower the worker number to avoid potential slowness/freeze if necessary.\n",
            "  warnings.warn(\n",
            "[I 2025-04-18 22:48:57,399] Trial 2 finished with value: 3.5963293067950377 and parameters: {'learning_rate': 7.016471620539434e-05, 'batch_size': 32, 'grad_accum': 1, 'weight_decay': 0.0}. Best is trial 0 with value: 3.6309200032274225.\n",
            "<ipython-input-28-b45aaca4fadf>:7: FutureWarning: suggest_loguniform has been deprecated in v3.0.0. This feature will be removed in v6.0.0. See https://github.com/optuna/optuna/releases/tag/v3.0.0. Use suggest_float(..., log=True) instead.\n",
            "  \"learning_rate\":               trial.suggest_loguniform(\"learning_rate\", 1e-5, 5e-4),\n",
            "Some weights of RobertaForSequenceClassification were not initialized from the model checkpoint at roberta-base and are newly initialized: ['classifier.dense.bias', 'classifier.dense.weight', 'classifier.out_proj.bias', 'classifier.out_proj.weight']\n",
            "You should probably TRAIN this model on a down-stream task to be able to use it for predictions and inference.\n",
            "/usr/local/lib/python3.11/dist-packages/torch/utils/data/dataloader.py:624: UserWarning: This DataLoader will create 4 worker processes in total. Our suggested max number of worker in current system is 2, which is smaller than what this DataLoader is going to create. Please be aware that excessive worker creation might get DataLoader running slow or even freeze, lower the worker number to avoid potential slowness/freeze if necessary.\n",
            "  warnings.warn(\n"
          ]
        },
        {
          "output_type": "display_data",
          "data": {
            "text/plain": [
              "<IPython.core.display.HTML object>"
            ],
            "text/html": []
          },
          "metadata": {}
        },
        {
          "output_type": "display_data",
          "data": {
            "text/plain": [
              "<IPython.core.display.HTML object>"
            ],
            "text/html": [
              "<br>    <style><br>        .wandb-row {<br>            display: flex;<br>            flex-direction: row;<br>            flex-wrap: wrap;<br>            justify-content: flex-start;<br>            width: 100%;<br>        }<br>        .wandb-col {<br>            display: flex;<br>            flex-direction: column;<br>            flex-basis: 100%;<br>            flex: 1;<br>            padding: 10px;<br>        }<br>    </style><br><div class=\"wandb-row\"><div class=\"wandb-col\"><h3>Run history:</h3><br/><table class=\"wandb\"><tr><td>eval/accuracy</td><td>▁███</td></tr><tr><td>eval/f1</td><td>▁███</td></tr><tr><td>eval/loss</td><td>█▁▁▁</td></tr><tr><td>eval/precision</td><td>▁▇██</td></tr><tr><td>eval/recall</td><td>▁███</td></tr><tr><td>eval/runtime</td><td>▁▂██</td></tr><tr><td>eval/samples_per_second</td><td>█▇▁▁</td></tr><tr><td>eval/steps_per_second</td><td>█▇▁▁</td></tr><tr><td>train/epoch</td><td>▁▃▆██</td></tr><tr><td>train/global_step</td><td>▁▃▆██</td></tr></table><br/></div><div class=\"wandb-col\"><h3>Run summary:</h3><br/><table class=\"wandb\"><tr><td>eval/accuracy</td><td>0.89917</td></tr><tr><td>eval/f1</td><td>0.89901</td></tr><tr><td>eval/loss</td><td>0.30574</td></tr><tr><td>eval/precision</td><td>0.89899</td></tr><tr><td>eval/recall</td><td>0.89917</td></tr><tr><td>eval/runtime</td><td>30.6886</td></tr><tr><td>eval/samples_per_second</td><td>195.512</td></tr><tr><td>eval/steps_per_second</td><td>24.439</td></tr><tr><td>total_flos</td><td>1134314783027712.0</td></tr><tr><td>train/epoch</td><td>0.53333</td></tr><tr><td>train/global_step</td><td>200</td></tr><tr><td>train_loss</td><td>0.65606</td></tr><tr><td>train_runtime</td><td>205.202</td></tr><tr><td>train_samples_per_second</td><td>31.189</td></tr><tr><td>train_steps_per_second</td><td>0.975</td></tr></table><br/></div></div>"
            ]
          },
          "metadata": {}
        },
        {
          "output_type": "display_data",
          "data": {
            "text/plain": [
              "<IPython.core.display.HTML object>"
            ],
            "text/html": [
              " View run <strong style=\"color:#cdcd00\">peach-glitter-91</strong> at: <a href='https://wandb.ai/sk11634-new-york-university/huggingface/runs/8dz7118a' target=\"_blank\">https://wandb.ai/sk11634-new-york-university/huggingface/runs/8dz7118a</a><br> View project at: <a href='https://wandb.ai/sk11634-new-york-university/huggingface' target=\"_blank\">https://wandb.ai/sk11634-new-york-university/huggingface</a><br>Synced 5 W&B file(s), 0 media file(s), 0 artifact file(s) and 0 other file(s)"
            ]
          },
          "metadata": {}
        },
        {
          "output_type": "display_data",
          "data": {
            "text/plain": [
              "<IPython.core.display.HTML object>"
            ],
            "text/html": [
              "Find logs at: <code>./wandb/run-20250418_224532-8dz7118a/logs</code>"
            ]
          },
          "metadata": {}
        },
        {
          "output_type": "display_data",
          "data": {
            "text/plain": [
              "<IPython.core.display.HTML object>"
            ],
            "text/html": [
              "Tracking run with wandb version 0.19.9"
            ]
          },
          "metadata": {}
        },
        {
          "output_type": "display_data",
          "data": {
            "text/plain": [
              "<IPython.core.display.HTML object>"
            ],
            "text/html": [
              "Run data is saved locally in <code>/content/wandb/run-20250418_224859-kmsy4ss4</code>"
            ]
          },
          "metadata": {}
        },
        {
          "output_type": "display_data",
          "data": {
            "text/plain": [
              "<IPython.core.display.HTML object>"
            ],
            "text/html": [
              "Syncing run <strong><a href='https://wandb.ai/sk11634-new-york-university/huggingface/runs/kmsy4ss4' target=\"_blank\">misunderstood-feather-92</a></strong> to <a href='https://wandb.ai/sk11634-new-york-university/huggingface' target=\"_blank\">Weights & Biases</a> (<a href='https://wandb.me/developer-guide' target=\"_blank\">docs</a>)<br>"
            ]
          },
          "metadata": {}
        },
        {
          "output_type": "display_data",
          "data": {
            "text/plain": [
              "<IPython.core.display.HTML object>"
            ],
            "text/html": [
              " View project at <a href='https://wandb.ai/sk11634-new-york-university/huggingface' target=\"_blank\">https://wandb.ai/sk11634-new-york-university/huggingface</a>"
            ]
          },
          "metadata": {}
        },
        {
          "output_type": "display_data",
          "data": {
            "text/plain": [
              "<IPython.core.display.HTML object>"
            ],
            "text/html": [
              " View run at <a href='https://wandb.ai/sk11634-new-york-university/huggingface/runs/kmsy4ss4' target=\"_blank\">https://wandb.ai/sk11634-new-york-university/huggingface/runs/kmsy4ss4</a>"
            ]
          },
          "metadata": {}
        },
        {
          "output_type": "stream",
          "name": "stderr",
          "text": [
            "Using EarlyStoppingCallback without load_best_model_at_end=True. Once training is finished, the best model will not be loaded automatically.\n"
          ]
        },
        {
          "output_type": "display_data",
          "data": {
            "text/plain": [
              "<IPython.core.display.HTML object>"
            ],
            "text/html": [
              "\n",
              "    <div>\n",
              "      \n",
              "      <progress value='200' max='200' style='width:300px; height:20px; vertical-align: middle;'></progress>\n",
              "      [200/200 02:42, Epoch 0/1]\n",
              "    </div>\n",
              "    <table border=\"1\" class=\"dataframe\">\n",
              "  <thead>\n",
              " <tr style=\"text-align: left;\">\n",
              "      <th>Step</th>\n",
              "      <th>Training Loss</th>\n",
              "      <th>Validation Loss</th>\n",
              "      <th>Accuracy</th>\n",
              "      <th>Precision</th>\n",
              "      <th>Recall</th>\n",
              "      <th>F1</th>\n",
              "    </tr>\n",
              "  </thead>\n",
              "  <tbody>\n",
              "    <tr>\n",
              "      <td>50</td>\n",
              "      <td>No log</td>\n",
              "      <td>1.385522</td>\n",
              "      <td>0.276667</td>\n",
              "      <td>0.199490</td>\n",
              "      <td>0.276667</td>\n",
              "      <td>0.154454</td>\n",
              "    </tr>\n",
              "    <tr>\n",
              "      <td>100</td>\n",
              "      <td>No log</td>\n",
              "      <td>1.381141</td>\n",
              "      <td>0.314167</td>\n",
              "      <td>0.223039</td>\n",
              "      <td>0.314167</td>\n",
              "      <td>0.204382</td>\n",
              "    </tr>\n",
              "    <tr>\n",
              "      <td>150</td>\n",
              "      <td>No log</td>\n",
              "      <td>1.377882</td>\n",
              "      <td>0.279333</td>\n",
              "      <td>0.280918</td>\n",
              "      <td>0.279333</td>\n",
              "      <td>0.155271</td>\n",
              "    </tr>\n",
              "    <tr>\n",
              "      <td>200</td>\n",
              "      <td>No log</td>\n",
              "      <td>1.376714</td>\n",
              "      <td>0.322667</td>\n",
              "      <td>0.259370</td>\n",
              "      <td>0.322667</td>\n",
              "      <td>0.215797</td>\n",
              "    </tr>\n",
              "  </tbody>\n",
              "</table><p>"
            ]
          },
          "metadata": {}
        },
        {
          "output_type": "stream",
          "name": "stderr",
          "text": [
            "/usr/local/lib/python3.11/dist-packages/sklearn/metrics/_classification.py:1565: UndefinedMetricWarning: Precision is ill-defined and being set to 0.0 in labels with no predicted samples. Use `zero_division` parameter to control this behavior.\n",
            "  _warn_prf(average, modifier, f\"{metric.capitalize()} is\", len(result))\n",
            "/usr/local/lib/python3.11/dist-packages/torch/utils/data/dataloader.py:624: UserWarning: This DataLoader will create 4 worker processes in total. Our suggested max number of worker in current system is 2, which is smaller than what this DataLoader is going to create. Please be aware that excessive worker creation might get DataLoader running slow or even freeze, lower the worker number to avoid potential slowness/freeze if necessary.\n",
            "  warnings.warn(\n",
            "/usr/local/lib/python3.11/dist-packages/sklearn/metrics/_classification.py:1565: UndefinedMetricWarning: Precision is ill-defined and being set to 0.0 in labels with no predicted samples. Use `zero_division` parameter to control this behavior.\n",
            "  _warn_prf(average, modifier, f\"{metric.capitalize()} is\", len(result))\n",
            "/usr/local/lib/python3.11/dist-packages/torch/utils/data/dataloader.py:624: UserWarning: This DataLoader will create 4 worker processes in total. Our suggested max number of worker in current system is 2, which is smaller than what this DataLoader is going to create. Please be aware that excessive worker creation might get DataLoader running slow or even freeze, lower the worker number to avoid potential slowness/freeze if necessary.\n",
            "  warnings.warn(\n",
            "/usr/local/lib/python3.11/dist-packages/sklearn/metrics/_classification.py:1565: UndefinedMetricWarning: Precision is ill-defined and being set to 0.0 in labels with no predicted samples. Use `zero_division` parameter to control this behavior.\n",
            "  _warn_prf(average, modifier, f\"{metric.capitalize()} is\", len(result))\n",
            "/usr/local/lib/python3.11/dist-packages/torch/utils/data/dataloader.py:624: UserWarning: This DataLoader will create 4 worker processes in total. Our suggested max number of worker in current system is 2, which is smaller than what this DataLoader is going to create. Please be aware that excessive worker creation might get DataLoader running slow or even freeze, lower the worker number to avoid potential slowness/freeze if necessary.\n",
            "  warnings.warn(\n",
            "/usr/local/lib/python3.11/dist-packages/sklearn/metrics/_classification.py:1565: UndefinedMetricWarning: Precision is ill-defined and being set to 0.0 in labels with no predicted samples. Use `zero_division` parameter to control this behavior.\n",
            "  _warn_prf(average, modifier, f\"{metric.capitalize()} is\", len(result))\n",
            "[I 2025-04-18 22:51:44,317] Trial 3 finished with value: 1.1204998408279199 and parameters: {'learning_rate': 1.1187056394292944e-05, 'batch_size': 16, 'grad_accum': 1, 'weight_decay': 0.01}. Best is trial 0 with value: 3.6309200032274225.\n",
            "<ipython-input-28-b45aaca4fadf>:7: FutureWarning: suggest_loguniform has been deprecated in v3.0.0. This feature will be removed in v6.0.0. See https://github.com/optuna/optuna/releases/tag/v3.0.0. Use suggest_float(..., log=True) instead.\n",
            "  \"learning_rate\":               trial.suggest_loguniform(\"learning_rate\", 1e-5, 5e-4),\n",
            "Some weights of RobertaForSequenceClassification were not initialized from the model checkpoint at roberta-base and are newly initialized: ['classifier.dense.bias', 'classifier.dense.weight', 'classifier.out_proj.bias', 'classifier.out_proj.weight']\n",
            "You should probably TRAIN this model on a down-stream task to be able to use it for predictions and inference.\n",
            "/usr/local/lib/python3.11/dist-packages/torch/utils/data/dataloader.py:624: UserWarning: This DataLoader will create 4 worker processes in total. Our suggested max number of worker in current system is 2, which is smaller than what this DataLoader is going to create. Please be aware that excessive worker creation might get DataLoader running slow or even freeze, lower the worker number to avoid potential slowness/freeze if necessary.\n",
            "  warnings.warn(\n"
          ]
        },
        {
          "output_type": "display_data",
          "data": {
            "text/plain": [
              "<IPython.core.display.HTML object>"
            ],
            "text/html": []
          },
          "metadata": {}
        },
        {
          "output_type": "display_data",
          "data": {
            "text/plain": [
              "<IPython.core.display.HTML object>"
            ],
            "text/html": [
              "<br>    <style><br>        .wandb-row {<br>            display: flex;<br>            flex-direction: row;<br>            flex-wrap: wrap;<br>            justify-content: flex-start;<br>            width: 100%;<br>        }<br>        .wandb-col {<br>            display: flex;<br>            flex-direction: column;<br>            flex-basis: 100%;<br>            flex: 1;<br>            padding: 10px;<br>        }<br>    </style><br><div class=\"wandb-row\"><div class=\"wandb-col\"><h3>Run history:</h3><br/><table class=\"wandb\"><tr><td>eval/accuracy</td><td>▁▇▁█</td></tr><tr><td>eval/f1</td><td>▁▇▁█</td></tr><tr><td>eval/loss</td><td>█▅▂▁</td></tr><tr><td>eval/precision</td><td>▁▃█▆</td></tr><tr><td>eval/recall</td><td>▁▇▁█</td></tr><tr><td>eval/runtime</td><td>▁▂▄█</td></tr><tr><td>eval/samples_per_second</td><td>█▇▅▁</td></tr><tr><td>eval/steps_per_second</td><td>█▇▅▁</td></tr><tr><td>train/epoch</td><td>▁▃▆██</td></tr><tr><td>train/global_step</td><td>▁▃▆██</td></tr></table><br/></div><div class=\"wandb-col\"><h3>Run summary:</h3><br/><table class=\"wandb\"><tr><td>eval/accuracy</td><td>0.32267</td></tr><tr><td>eval/f1</td><td>0.2158</td></tr><tr><td>eval/loss</td><td>1.37671</td></tr><tr><td>eval/precision</td><td>0.25937</td></tr><tr><td>eval/recall</td><td>0.32267</td></tr><tr><td>eval/runtime</td><td>30.3827</td></tr><tr><td>eval/samples_per_second</td><td>197.481</td></tr><tr><td>eval/steps_per_second</td><td>24.685</td></tr><tr><td>total_flos</td><td>551442514588416.0</td></tr><tr><td>train/epoch</td><td>0.26667</td></tr><tr><td>train/global_step</td><td>200</td></tr><tr><td>train_loss</td><td>1.38389</td></tr><tr><td>train_runtime</td><td>164.9318</td></tr><tr><td>train_samples_per_second</td><td>19.402</td></tr><tr><td>train_steps_per_second</td><td>1.213</td></tr></table><br/></div></div>"
            ]
          },
          "metadata": {}
        },
        {
          "output_type": "display_data",
          "data": {
            "text/plain": [
              "<IPython.core.display.HTML object>"
            ],
            "text/html": [
              " View run <strong style=\"color:#cdcd00\">misunderstood-feather-92</strong> at: <a href='https://wandb.ai/sk11634-new-york-university/huggingface/runs/kmsy4ss4' target=\"_blank\">https://wandb.ai/sk11634-new-york-university/huggingface/runs/kmsy4ss4</a><br> View project at: <a href='https://wandb.ai/sk11634-new-york-university/huggingface' target=\"_blank\">https://wandb.ai/sk11634-new-york-university/huggingface</a><br>Synced 5 W&B file(s), 0 media file(s), 0 artifact file(s) and 0 other file(s)"
            ]
          },
          "metadata": {}
        },
        {
          "output_type": "display_data",
          "data": {
            "text/plain": [
              "<IPython.core.display.HTML object>"
            ],
            "text/html": [
              "Find logs at: <code>./wandb/run-20250418_224859-kmsy4ss4/logs</code>"
            ]
          },
          "metadata": {}
        },
        {
          "output_type": "display_data",
          "data": {
            "text/plain": [
              "<IPython.core.display.HTML object>"
            ],
            "text/html": [
              "Tracking run with wandb version 0.19.9"
            ]
          },
          "metadata": {}
        },
        {
          "output_type": "display_data",
          "data": {
            "text/plain": [
              "<IPython.core.display.HTML object>"
            ],
            "text/html": [
              "Run data is saved locally in <code>/content/wandb/run-20250418_225146-qlra6tl4</code>"
            ]
          },
          "metadata": {}
        },
        {
          "output_type": "display_data",
          "data": {
            "text/plain": [
              "<IPython.core.display.HTML object>"
            ],
            "text/html": [
              "Syncing run <strong><a href='https://wandb.ai/sk11634-new-york-university/huggingface/runs/qlra6tl4' target=\"_blank\">rich-deluge-93</a></strong> to <a href='https://wandb.ai/sk11634-new-york-university/huggingface' target=\"_blank\">Weights & Biases</a> (<a href='https://wandb.me/developer-guide' target=\"_blank\">docs</a>)<br>"
            ]
          },
          "metadata": {}
        },
        {
          "output_type": "display_data",
          "data": {
            "text/plain": [
              "<IPython.core.display.HTML object>"
            ],
            "text/html": [
              " View project at <a href='https://wandb.ai/sk11634-new-york-university/huggingface' target=\"_blank\">https://wandb.ai/sk11634-new-york-university/huggingface</a>"
            ]
          },
          "metadata": {}
        },
        {
          "output_type": "display_data",
          "data": {
            "text/plain": [
              "<IPython.core.display.HTML object>"
            ],
            "text/html": [
              " View run at <a href='https://wandb.ai/sk11634-new-york-university/huggingface/runs/qlra6tl4' target=\"_blank\">https://wandb.ai/sk11634-new-york-university/huggingface/runs/qlra6tl4</a>"
            ]
          },
          "metadata": {}
        },
        {
          "output_type": "stream",
          "name": "stderr",
          "text": [
            "Using EarlyStoppingCallback without load_best_model_at_end=True. Once training is finished, the best model will not be loaded automatically.\n"
          ]
        },
        {
          "output_type": "display_data",
          "data": {
            "text/plain": [
              "<IPython.core.display.HTML object>"
            ],
            "text/html": [
              "\n",
              "    <div>\n",
              "      \n",
              "      <progress value='200' max='200' style='width:300px; height:20px; vertical-align: middle;'></progress>\n",
              "      [200/200 03:24, Epoch 0/1]\n",
              "    </div>\n",
              "    <table border=\"1\" class=\"dataframe\">\n",
              "  <thead>\n",
              " <tr style=\"text-align: left;\">\n",
              "      <th>Step</th>\n",
              "      <th>Training Loss</th>\n",
              "      <th>Validation Loss</th>\n",
              "      <th>Accuracy</th>\n",
              "      <th>Precision</th>\n",
              "      <th>Recall</th>\n",
              "      <th>F1</th>\n",
              "    </tr>\n",
              "  </thead>\n",
              "  <tbody>\n",
              "    <tr>\n",
              "      <td>50</td>\n",
              "      <td>No log</td>\n",
              "      <td>1.373188</td>\n",
              "      <td>0.258167</td>\n",
              "      <td>0.313015</td>\n",
              "      <td>0.258167</td>\n",
              "      <td>0.116474</td>\n",
              "    </tr>\n",
              "    <tr>\n",
              "      <td>100</td>\n",
              "      <td>No log</td>\n",
              "      <td>1.336723</td>\n",
              "      <td>0.604833</td>\n",
              "      <td>0.812899</td>\n",
              "      <td>0.604833</td>\n",
              "      <td>0.588129</td>\n",
              "    </tr>\n",
              "    <tr>\n",
              "      <td>150</td>\n",
              "      <td>No log</td>\n",
              "      <td>1.253696</td>\n",
              "      <td>0.861167</td>\n",
              "      <td>0.865425</td>\n",
              "      <td>0.861167</td>\n",
              "      <td>0.860123</td>\n",
              "    </tr>\n",
              "    <tr>\n",
              "      <td>200</td>\n",
              "      <td>No log</td>\n",
              "      <td>1.169534</td>\n",
              "      <td>0.868500</td>\n",
              "      <td>0.872436</td>\n",
              "      <td>0.868500</td>\n",
              "      <td>0.868936</td>\n",
              "    </tr>\n",
              "  </tbody>\n",
              "</table><p>"
            ]
          },
          "metadata": {}
        },
        {
          "output_type": "stream",
          "name": "stderr",
          "text": [
            "/usr/local/lib/python3.11/dist-packages/sklearn/metrics/_classification.py:1565: UndefinedMetricWarning: Precision is ill-defined and being set to 0.0 in labels with no predicted samples. Use `zero_division` parameter to control this behavior.\n",
            "  _warn_prf(average, modifier, f\"{metric.capitalize()} is\", len(result))\n",
            "/usr/local/lib/python3.11/dist-packages/torch/utils/data/dataloader.py:624: UserWarning: This DataLoader will create 4 worker processes in total. Our suggested max number of worker in current system is 2, which is smaller than what this DataLoader is going to create. Please be aware that excessive worker creation might get DataLoader running slow or even freeze, lower the worker number to avoid potential slowness/freeze if necessary.\n",
            "  warnings.warn(\n",
            "/usr/local/lib/python3.11/dist-packages/torch/utils/data/dataloader.py:624: UserWarning: This DataLoader will create 4 worker processes in total. Our suggested max number of worker in current system is 2, which is smaller than what this DataLoader is going to create. Please be aware that excessive worker creation might get DataLoader running slow or even freeze, lower the worker number to avoid potential slowness/freeze if necessary.\n",
            "  warnings.warn(\n",
            "/usr/local/lib/python3.11/dist-packages/torch/utils/data/dataloader.py:624: UserWarning: This DataLoader will create 4 worker processes in total. Our suggested max number of worker in current system is 2, which is smaller than what this DataLoader is going to create. Please be aware that excessive worker creation might get DataLoader running slow or even freeze, lower the worker number to avoid potential slowness/freeze if necessary.\n",
            "  warnings.warn(\n",
            "[I 2025-04-18 22:55:13,725] Trial 4 finished with value: 3.4783725027197807 and parameters: {'learning_rate': 2.3850031097886738e-05, 'batch_size': 8, 'grad_accum': 4, 'weight_decay': 0.01}. Best is trial 0 with value: 3.6309200032274225.\n",
            "<ipython-input-28-b45aaca4fadf>:7: FutureWarning: suggest_loguniform has been deprecated in v3.0.0. This feature will be removed in v6.0.0. See https://github.com/optuna/optuna/releases/tag/v3.0.0. Use suggest_float(..., log=True) instead.\n",
            "  \"learning_rate\":               trial.suggest_loguniform(\"learning_rate\", 1e-5, 5e-4),\n",
            "Some weights of RobertaForSequenceClassification were not initialized from the model checkpoint at roberta-base and are newly initialized: ['classifier.dense.bias', 'classifier.dense.weight', 'classifier.out_proj.bias', 'classifier.out_proj.weight']\n",
            "You should probably TRAIN this model on a down-stream task to be able to use it for predictions and inference.\n",
            "/usr/local/lib/python3.11/dist-packages/torch/utils/data/dataloader.py:624: UserWarning: This DataLoader will create 4 worker processes in total. Our suggested max number of worker in current system is 2, which is smaller than what this DataLoader is going to create. Please be aware that excessive worker creation might get DataLoader running slow or even freeze, lower the worker number to avoid potential slowness/freeze if necessary.\n",
            "  warnings.warn(\n"
          ]
        },
        {
          "output_type": "display_data",
          "data": {
            "text/plain": [
              "<IPython.core.display.HTML object>"
            ],
            "text/html": []
          },
          "metadata": {}
        },
        {
          "output_type": "display_data",
          "data": {
            "text/plain": [
              "<IPython.core.display.HTML object>"
            ],
            "text/html": [
              "<br>    <style><br>        .wandb-row {<br>            display: flex;<br>            flex-direction: row;<br>            flex-wrap: wrap;<br>            justify-content: flex-start;<br>            width: 100%;<br>        }<br>        .wandb-col {<br>            display: flex;<br>            flex-direction: column;<br>            flex-basis: 100%;<br>            flex: 1;<br>            padding: 10px;<br>        }<br>    </style><br><div class=\"wandb-row\"><div class=\"wandb-col\"><h3>Run history:</h3><br/><table class=\"wandb\"><tr><td>eval/accuracy</td><td>▁▅██</td></tr><tr><td>eval/f1</td><td>▁▅██</td></tr><tr><td>eval/loss</td><td>█▇▄▁</td></tr><tr><td>eval/precision</td><td>▁▇██</td></tr><tr><td>eval/recall</td><td>▁▅██</td></tr><tr><td>eval/runtime</td><td>▁▁▃█</td></tr><tr><td>eval/samples_per_second</td><td>██▆▁</td></tr><tr><td>eval/steps_per_second</td><td>██▆▁</td></tr><tr><td>train/epoch</td><td>▁▃▆██</td></tr><tr><td>train/global_step</td><td>▁▃▆██</td></tr></table><br/></div><div class=\"wandb-col\"><h3>Run summary:</h3><br/><table class=\"wandb\"><tr><td>eval/accuracy</td><td>0.8685</td></tr><tr><td>eval/f1</td><td>0.86894</td></tr><tr><td>eval/loss</td><td>1.16953</td></tr><tr><td>eval/precision</td><td>0.87244</td></tr><tr><td>eval/recall</td><td>0.8685</td></tr><tr><td>eval/runtime</td><td>30.8156</td></tr><tr><td>eval/samples_per_second</td><td>194.707</td></tr><tr><td>eval/steps_per_second</td><td>24.338</td></tr><tr><td>total_flos</td><td>1038757522146432.0</td></tr><tr><td>train/epoch</td><td>0.53333</td></tr><tr><td>train/global_step</td><td>200</td></tr><tr><td>train_loss</td><td>1.31234</td></tr><tr><td>train_runtime</td><td>207.5204</td></tr><tr><td>train_samples_per_second</td><td>30.84</td></tr><tr><td>train_steps_per_second</td><td>0.964</td></tr></table><br/></div></div>"
            ]
          },
          "metadata": {}
        },
        {
          "output_type": "display_data",
          "data": {
            "text/plain": [
              "<IPython.core.display.HTML object>"
            ],
            "text/html": [
              " View run <strong style=\"color:#cdcd00\">rich-deluge-93</strong> at: <a href='https://wandb.ai/sk11634-new-york-university/huggingface/runs/qlra6tl4' target=\"_blank\">https://wandb.ai/sk11634-new-york-university/huggingface/runs/qlra6tl4</a><br> View project at: <a href='https://wandb.ai/sk11634-new-york-university/huggingface' target=\"_blank\">https://wandb.ai/sk11634-new-york-university/huggingface</a><br>Synced 5 W&B file(s), 0 media file(s), 0 artifact file(s) and 0 other file(s)"
            ]
          },
          "metadata": {}
        },
        {
          "output_type": "display_data",
          "data": {
            "text/plain": [
              "<IPython.core.display.HTML object>"
            ],
            "text/html": [
              "Find logs at: <code>./wandb/run-20250418_225146-qlra6tl4/logs</code>"
            ]
          },
          "metadata": {}
        },
        {
          "output_type": "display_data",
          "data": {
            "text/plain": [
              "<IPython.core.display.HTML object>"
            ],
            "text/html": [
              "Tracking run with wandb version 0.19.9"
            ]
          },
          "metadata": {}
        },
        {
          "output_type": "display_data",
          "data": {
            "text/plain": [
              "<IPython.core.display.HTML object>"
            ],
            "text/html": [
              "Run data is saved locally in <code>/content/wandb/run-20250418_225515-2mnh8t7b</code>"
            ]
          },
          "metadata": {}
        },
        {
          "output_type": "display_data",
          "data": {
            "text/plain": [
              "<IPython.core.display.HTML object>"
            ],
            "text/html": [
              "Syncing run <strong><a href='https://wandb.ai/sk11634-new-york-university/huggingface/runs/2mnh8t7b' target=\"_blank\">rural-armadillo-94</a></strong> to <a href='https://wandb.ai/sk11634-new-york-university/huggingface' target=\"_blank\">Weights & Biases</a> (<a href='https://wandb.me/developer-guide' target=\"_blank\">docs</a>)<br>"
            ]
          },
          "metadata": {}
        },
        {
          "output_type": "display_data",
          "data": {
            "text/plain": [
              "<IPython.core.display.HTML object>"
            ],
            "text/html": [
              " View project at <a href='https://wandb.ai/sk11634-new-york-university/huggingface' target=\"_blank\">https://wandb.ai/sk11634-new-york-university/huggingface</a>"
            ]
          },
          "metadata": {}
        },
        {
          "output_type": "display_data",
          "data": {
            "text/plain": [
              "<IPython.core.display.HTML object>"
            ],
            "text/html": [
              " View run at <a href='https://wandb.ai/sk11634-new-york-university/huggingface/runs/2mnh8t7b' target=\"_blank\">https://wandb.ai/sk11634-new-york-university/huggingface/runs/2mnh8t7b</a>"
            ]
          },
          "metadata": {}
        },
        {
          "output_type": "stream",
          "name": "stderr",
          "text": [
            "Using EarlyStoppingCallback without load_best_model_at_end=True. Once training is finished, the best model will not be loaded automatically.\n"
          ]
        },
        {
          "output_type": "display_data",
          "data": {
            "text/plain": [
              "<IPython.core.display.HTML object>"
            ],
            "text/html": [
              "\n",
              "    <div>\n",
              "      \n",
              "      <progress value='200' max='200' style='width:300px; height:20px; vertical-align: middle;'></progress>\n",
              "      [200/200 07:20, Epoch 2/3]\n",
              "    </div>\n",
              "    <table border=\"1\" class=\"dataframe\">\n",
              "  <thead>\n",
              " <tr style=\"text-align: left;\">\n",
              "      <th>Step</th>\n",
              "      <th>Training Loss</th>\n",
              "      <th>Validation Loss</th>\n",
              "      <th>Accuracy</th>\n",
              "      <th>Precision</th>\n",
              "      <th>Recall</th>\n",
              "      <th>F1</th>\n",
              "    </tr>\n",
              "  </thead>\n",
              "  <tbody>\n",
              "    <tr>\n",
              "      <td>50</td>\n",
              "      <td>No log</td>\n",
              "      <td>0.327141</td>\n",
              "      <td>0.890667</td>\n",
              "      <td>0.891787</td>\n",
              "      <td>0.890667</td>\n",
              "      <td>0.890536</td>\n",
              "    </tr>\n",
              "    <tr>\n",
              "      <td>100</td>\n",
              "      <td>No log</td>\n",
              "      <td>0.292290</td>\n",
              "      <td>0.902000</td>\n",
              "      <td>0.901610</td>\n",
              "      <td>0.902000</td>\n",
              "      <td>0.901561</td>\n",
              "    </tr>\n",
              "    <tr>\n",
              "      <td>150</td>\n",
              "      <td>No log</td>\n",
              "      <td>0.276016</td>\n",
              "      <td>0.908500</td>\n",
              "      <td>0.908187</td>\n",
              "      <td>0.908500</td>\n",
              "      <td>0.908298</td>\n",
              "    </tr>\n",
              "    <tr>\n",
              "      <td>200</td>\n",
              "      <td>No log</td>\n",
              "      <td>0.269307</td>\n",
              "      <td>0.912167</td>\n",
              "      <td>0.912149</td>\n",
              "      <td>0.912167</td>\n",
              "      <td>0.912057</td>\n",
              "    </tr>\n",
              "  </tbody>\n",
              "</table><p>"
            ]
          },
          "metadata": {}
        },
        {
          "output_type": "stream",
          "name": "stderr",
          "text": [
            "/usr/local/lib/python3.11/dist-packages/torch/utils/data/dataloader.py:624: UserWarning: This DataLoader will create 4 worker processes in total. Our suggested max number of worker in current system is 2, which is smaller than what this DataLoader is going to create. Please be aware that excessive worker creation might get DataLoader running slow or even freeze, lower the worker number to avoid potential slowness/freeze if necessary.\n",
            "  warnings.warn(\n",
            "/usr/local/lib/python3.11/dist-packages/torch/utils/data/dataloader.py:624: UserWarning: This DataLoader will create 4 worker processes in total. Our suggested max number of worker in current system is 2, which is smaller than what this DataLoader is going to create. Please be aware that excessive worker creation might get DataLoader running slow or even freeze, lower the worker number to avoid potential slowness/freeze if necessary.\n",
            "  warnings.warn(\n",
            "/usr/local/lib/python3.11/dist-packages/torch/utils/data/dataloader.py:624: UserWarning: This DataLoader will create 4 worker processes in total. Our suggested max number of worker in current system is 2, which is smaller than what this DataLoader is going to create. Please be aware that excessive worker creation might get DataLoader running slow or even freeze, lower the worker number to avoid potential slowness/freeze if necessary.\n",
            "  warnings.warn(\n",
            "[I 2025-04-18 23:02:40,691] Trial 5 finished with value: 3.6485396102450984 and parameters: {'learning_rate': 0.00010340638576960996, 'batch_size': 32, 'grad_accum': 4, 'weight_decay': 0.01}. Best is trial 5 with value: 3.6485396102450984.\n",
            "<ipython-input-28-b45aaca4fadf>:7: FutureWarning: suggest_loguniform has been deprecated in v3.0.0. This feature will be removed in v6.0.0. See https://github.com/optuna/optuna/releases/tag/v3.0.0. Use suggest_float(..., log=True) instead.\n",
            "  \"learning_rate\":               trial.suggest_loguniform(\"learning_rate\", 1e-5, 5e-4),\n",
            "Some weights of RobertaForSequenceClassification were not initialized from the model checkpoint at roberta-base and are newly initialized: ['classifier.dense.bias', 'classifier.dense.weight', 'classifier.out_proj.bias', 'classifier.out_proj.weight']\n",
            "You should probably TRAIN this model on a down-stream task to be able to use it for predictions and inference.\n",
            "/usr/local/lib/python3.11/dist-packages/torch/utils/data/dataloader.py:624: UserWarning: This DataLoader will create 4 worker processes in total. Our suggested max number of worker in current system is 2, which is smaller than what this DataLoader is going to create. Please be aware that excessive worker creation might get DataLoader running slow or even freeze, lower the worker number to avoid potential slowness/freeze if necessary.\n",
            "  warnings.warn(\n"
          ]
        },
        {
          "output_type": "display_data",
          "data": {
            "text/plain": [
              "<IPython.core.display.HTML object>"
            ],
            "text/html": []
          },
          "metadata": {}
        },
        {
          "output_type": "display_data",
          "data": {
            "text/plain": [
              "<IPython.core.display.HTML object>"
            ],
            "text/html": [
              "<br>    <style><br>        .wandb-row {<br>            display: flex;<br>            flex-direction: row;<br>            flex-wrap: wrap;<br>            justify-content: flex-start;<br>            width: 100%;<br>        }<br>        .wandb-col {<br>            display: flex;<br>            flex-direction: column;<br>            flex-basis: 100%;<br>            flex: 1;<br>            padding: 10px;<br>        }<br>    </style><br><div class=\"wandb-row\"><div class=\"wandb-col\"><h3>Run history:</h3><br/><table class=\"wandb\"><tr><td>eval/accuracy</td><td>▁▅▇█</td></tr><tr><td>eval/f1</td><td>▁▅▇█</td></tr><tr><td>eval/loss</td><td>█▄▂▁</td></tr><tr><td>eval/precision</td><td>▁▄▇█</td></tr><tr><td>eval/recall</td><td>▁▅▇█</td></tr><tr><td>eval/runtime</td><td>▄▄▁█</td></tr><tr><td>eval/samples_per_second</td><td>▅▅█▁</td></tr><tr><td>eval/steps_per_second</td><td>▅▅█▁</td></tr><tr><td>train/epoch</td><td>▁▃▆██</td></tr><tr><td>train/global_step</td><td>▁▃▆██</td></tr></table><br/></div><div class=\"wandb-col\"><h3>Run summary:</h3><br/><table class=\"wandb\"><tr><td>eval/accuracy</td><td>0.91217</td></tr><tr><td>eval/f1</td><td>0.91206</td></tr><tr><td>eval/loss</td><td>0.26931</td></tr><tr><td>eval/precision</td><td>0.91215</td></tr><tr><td>eval/recall</td><td>0.91217</td></tr><tr><td>eval/runtime</td><td>30.5801</td></tr><tr><td>eval/samples_per_second</td><td>196.206</td></tr><tr><td>eval/steps_per_second</td><td>24.526</td></tr><tr><td>total_flos</td><td>4515308192913408.0</td></tr><tr><td>train/epoch</td><td>2.128</td></tr><tr><td>train/global_step</td><td>200</td></tr><tr><td>train_loss</td><td>0.4588</td></tr><tr><td>train_runtime</td><td>444.9246</td></tr><tr><td>train_samples_per_second</td><td>57.538</td></tr><tr><td>train_steps_per_second</td><td>0.45</td></tr></table><br/></div></div>"
            ]
          },
          "metadata": {}
        },
        {
          "output_type": "display_data",
          "data": {
            "text/plain": [
              "<IPython.core.display.HTML object>"
            ],
            "text/html": [
              " View run <strong style=\"color:#cdcd00\">rural-armadillo-94</strong> at: <a href='https://wandb.ai/sk11634-new-york-university/huggingface/runs/2mnh8t7b' target=\"_blank\">https://wandb.ai/sk11634-new-york-university/huggingface/runs/2mnh8t7b</a><br> View project at: <a href='https://wandb.ai/sk11634-new-york-university/huggingface' target=\"_blank\">https://wandb.ai/sk11634-new-york-university/huggingface</a><br>Synced 5 W&B file(s), 0 media file(s), 0 artifact file(s) and 0 other file(s)"
            ]
          },
          "metadata": {}
        },
        {
          "output_type": "display_data",
          "data": {
            "text/plain": [
              "<IPython.core.display.HTML object>"
            ],
            "text/html": [
              "Find logs at: <code>./wandb/run-20250418_225515-2mnh8t7b/logs</code>"
            ]
          },
          "metadata": {}
        },
        {
          "output_type": "display_data",
          "data": {
            "text/plain": [
              "<IPython.core.display.HTML object>"
            ],
            "text/html": [
              "Tracking run with wandb version 0.19.9"
            ]
          },
          "metadata": {}
        },
        {
          "output_type": "display_data",
          "data": {
            "text/plain": [
              "<IPython.core.display.HTML object>"
            ],
            "text/html": [
              "Run data is saved locally in <code>/content/wandb/run-20250418_230242-3x5ycs30</code>"
            ]
          },
          "metadata": {}
        },
        {
          "output_type": "display_data",
          "data": {
            "text/plain": [
              "<IPython.core.display.HTML object>"
            ],
            "text/html": [
              "Syncing run <strong><a href='https://wandb.ai/sk11634-new-york-university/huggingface/runs/3x5ycs30' target=\"_blank\">jolly-sun-95</a></strong> to <a href='https://wandb.ai/sk11634-new-york-university/huggingface' target=\"_blank\">Weights & Biases</a> (<a href='https://wandb.me/developer-guide' target=\"_blank\">docs</a>)<br>"
            ]
          },
          "metadata": {}
        },
        {
          "output_type": "display_data",
          "data": {
            "text/plain": [
              "<IPython.core.display.HTML object>"
            ],
            "text/html": [
              " View project at <a href='https://wandb.ai/sk11634-new-york-university/huggingface' target=\"_blank\">https://wandb.ai/sk11634-new-york-university/huggingface</a>"
            ]
          },
          "metadata": {}
        },
        {
          "output_type": "display_data",
          "data": {
            "text/plain": [
              "<IPython.core.display.HTML object>"
            ],
            "text/html": [
              " View run at <a href='https://wandb.ai/sk11634-new-york-university/huggingface/runs/3x5ycs30' target=\"_blank\">https://wandb.ai/sk11634-new-york-university/huggingface/runs/3x5ycs30</a>"
            ]
          },
          "metadata": {}
        },
        {
          "output_type": "stream",
          "name": "stderr",
          "text": [
            "Using EarlyStoppingCallback without load_best_model_at_end=True. Once training is finished, the best model will not be loaded automatically.\n"
          ]
        },
        {
          "output_type": "display_data",
          "data": {
            "text/plain": [
              "<IPython.core.display.HTML object>"
            ],
            "text/html": [
              "\n",
              "    <div>\n",
              "      \n",
              "      <progress value='200' max='200' style='width:300px; height:20px; vertical-align: middle;'></progress>\n",
              "      [200/200 02:46, Epoch 0/1]\n",
              "    </div>\n",
              "    <table border=\"1\" class=\"dataframe\">\n",
              "  <thead>\n",
              " <tr style=\"text-align: left;\">\n",
              "      <th>Step</th>\n",
              "      <th>Training Loss</th>\n",
              "      <th>Validation Loss</th>\n",
              "      <th>Accuracy</th>\n",
              "      <th>Precision</th>\n",
              "      <th>Recall</th>\n",
              "      <th>F1</th>\n",
              "    </tr>\n",
              "  </thead>\n",
              "  <tbody>\n",
              "    <tr>\n",
              "      <td>50</td>\n",
              "      <td>No log</td>\n",
              "      <td>1.324244</td>\n",
              "      <td>0.656833</td>\n",
              "      <td>0.769015</td>\n",
              "      <td>0.656833</td>\n",
              "      <td>0.585949</td>\n",
              "    </tr>\n",
              "    <tr>\n",
              "      <td>100</td>\n",
              "      <td>No log</td>\n",
              "      <td>0.515302</td>\n",
              "      <td>0.884833</td>\n",
              "      <td>0.885297</td>\n",
              "      <td>0.884833</td>\n",
              "      <td>0.885024</td>\n",
              "    </tr>\n",
              "    <tr>\n",
              "      <td>150</td>\n",
              "      <td>No log</td>\n",
              "      <td>0.360737</td>\n",
              "      <td>0.891000</td>\n",
              "      <td>0.891130</td>\n",
              "      <td>0.891000</td>\n",
              "      <td>0.890977</td>\n",
              "    </tr>\n",
              "    <tr>\n",
              "      <td>200</td>\n",
              "      <td>No log</td>\n",
              "      <td>0.344028</td>\n",
              "      <td>0.893167</td>\n",
              "      <td>0.892779</td>\n",
              "      <td>0.893167</td>\n",
              "      <td>0.892932</td>\n",
              "    </tr>\n",
              "  </tbody>\n",
              "</table><p>"
            ]
          },
          "metadata": {}
        },
        {
          "output_type": "stream",
          "name": "stderr",
          "text": [
            "/usr/local/lib/python3.11/dist-packages/torch/utils/data/dataloader.py:624: UserWarning: This DataLoader will create 4 worker processes in total. Our suggested max number of worker in current system is 2, which is smaller than what this DataLoader is going to create. Please be aware that excessive worker creation might get DataLoader running slow or even freeze, lower the worker number to avoid potential slowness/freeze if necessary.\n",
            "  warnings.warn(\n",
            "/usr/local/lib/python3.11/dist-packages/torch/utils/data/dataloader.py:624: UserWarning: This DataLoader will create 4 worker processes in total. Our suggested max number of worker in current system is 2, which is smaller than what this DataLoader is going to create. Please be aware that excessive worker creation might get DataLoader running slow or even freeze, lower the worker number to avoid potential slowness/freeze if necessary.\n",
            "  warnings.warn(\n",
            "/usr/local/lib/python3.11/dist-packages/torch/utils/data/dataloader.py:624: UserWarning: This DataLoader will create 4 worker processes in total. Our suggested max number of worker in current system is 2, which is smaller than what this DataLoader is going to create. Please be aware that excessive worker creation might get DataLoader running slow or even freeze, lower the worker number to avoid potential slowness/freeze if necessary.\n",
            "  warnings.warn(\n",
            "[I 2025-04-18 23:05:31,655] Trial 6 finished with value: 3.572044651833084 and parameters: {'learning_rate': 6.19931221681906e-05, 'batch_size': 8, 'grad_accum': 2, 'weight_decay': 0.0}. Best is trial 5 with value: 3.6485396102450984.\n",
            "<ipython-input-28-b45aaca4fadf>:7: FutureWarning: suggest_loguniform has been deprecated in v3.0.0. This feature will be removed in v6.0.0. See https://github.com/optuna/optuna/releases/tag/v3.0.0. Use suggest_float(..., log=True) instead.\n",
            "  \"learning_rate\":               trial.suggest_loguniform(\"learning_rate\", 1e-5, 5e-4),\n",
            "Some weights of RobertaForSequenceClassification were not initialized from the model checkpoint at roberta-base and are newly initialized: ['classifier.dense.bias', 'classifier.dense.weight', 'classifier.out_proj.bias', 'classifier.out_proj.weight']\n",
            "You should probably TRAIN this model on a down-stream task to be able to use it for predictions and inference.\n",
            "/usr/local/lib/python3.11/dist-packages/torch/utils/data/dataloader.py:624: UserWarning: This DataLoader will create 4 worker processes in total. Our suggested max number of worker in current system is 2, which is smaller than what this DataLoader is going to create. Please be aware that excessive worker creation might get DataLoader running slow or even freeze, lower the worker number to avoid potential slowness/freeze if necessary.\n",
            "  warnings.warn(\n"
          ]
        },
        {
          "output_type": "display_data",
          "data": {
            "text/plain": [
              "<IPython.core.display.HTML object>"
            ],
            "text/html": []
          },
          "metadata": {}
        },
        {
          "output_type": "display_data",
          "data": {
            "text/plain": [
              "<IPython.core.display.HTML object>"
            ],
            "text/html": [
              "<br>    <style><br>        .wandb-row {<br>            display: flex;<br>            flex-direction: row;<br>            flex-wrap: wrap;<br>            justify-content: flex-start;<br>            width: 100%;<br>        }<br>        .wandb-col {<br>            display: flex;<br>            flex-direction: column;<br>            flex-basis: 100%;<br>            flex: 1;<br>            padding: 10px;<br>        }<br>    </style><br><div class=\"wandb-row\"><div class=\"wandb-col\"><h3>Run history:</h3><br/><table class=\"wandb\"><tr><td>eval/accuracy</td><td>▁███</td></tr><tr><td>eval/f1</td><td>▁███</td></tr><tr><td>eval/loss</td><td>█▂▁▁</td></tr><tr><td>eval/precision</td><td>▁███</td></tr><tr><td>eval/recall</td><td>▁███</td></tr><tr><td>eval/runtime</td><td>▁█▃▁</td></tr><tr><td>eval/samples_per_second</td><td>█▁▆█</td></tr><tr><td>eval/steps_per_second</td><td>█▁▆█</td></tr><tr><td>train/epoch</td><td>▁▃▆██</td></tr><tr><td>train/global_step</td><td>▁▃▆██</td></tr></table><br/></div><div class=\"wandb-col\"><h3>Run summary:</h3><br/><table class=\"wandb\"><tr><td>eval/accuracy</td><td>0.89317</td></tr><tr><td>eval/f1</td><td>0.89293</td></tr><tr><td>eval/loss</td><td>0.34403</td></tr><tr><td>eval/precision</td><td>0.89278</td></tr><tr><td>eval/recall</td><td>0.89317</td></tr><tr><td>eval/runtime</td><td>30.1928</td></tr><tr><td>eval/samples_per_second</td><td>198.723</td></tr><tr><td>eval/steps_per_second</td><td>24.84</td></tr><tr><td>total_flos</td><td>520944012703488.0</td></tr><tr><td>train/epoch</td><td>0.26667</td></tr><tr><td>train/global_step</td><td>200</td></tr><tr><td>train_loss</td><td>0.81163</td></tr><tr><td>train_runtime</td><td>169.0614</td></tr><tr><td>train_samples_per_second</td><td>18.928</td></tr><tr><td>train_steps_per_second</td><td>1.183</td></tr></table><br/></div></div>"
            ]
          },
          "metadata": {}
        },
        {
          "output_type": "display_data",
          "data": {
            "text/plain": [
              "<IPython.core.display.HTML object>"
            ],
            "text/html": [
              " View run <strong style=\"color:#cdcd00\">jolly-sun-95</strong> at: <a href='https://wandb.ai/sk11634-new-york-university/huggingface/runs/3x5ycs30' target=\"_blank\">https://wandb.ai/sk11634-new-york-university/huggingface/runs/3x5ycs30</a><br> View project at: <a href='https://wandb.ai/sk11634-new-york-university/huggingface' target=\"_blank\">https://wandb.ai/sk11634-new-york-university/huggingface</a><br>Synced 5 W&B file(s), 0 media file(s), 0 artifact file(s) and 0 other file(s)"
            ]
          },
          "metadata": {}
        },
        {
          "output_type": "display_data",
          "data": {
            "text/plain": [
              "<IPython.core.display.HTML object>"
            ],
            "text/html": [
              "Find logs at: <code>./wandb/run-20250418_230242-3x5ycs30/logs</code>"
            ]
          },
          "metadata": {}
        },
        {
          "output_type": "display_data",
          "data": {
            "text/plain": [
              "<IPython.core.display.HTML object>"
            ],
            "text/html": [
              "Tracking run with wandb version 0.19.9"
            ]
          },
          "metadata": {}
        },
        {
          "output_type": "display_data",
          "data": {
            "text/plain": [
              "<IPython.core.display.HTML object>"
            ],
            "text/html": [
              "Run data is saved locally in <code>/content/wandb/run-20250418_230533-uffxk1zs</code>"
            ]
          },
          "metadata": {}
        },
        {
          "output_type": "display_data",
          "data": {
            "text/plain": [
              "<IPython.core.display.HTML object>"
            ],
            "text/html": [
              "Syncing run <strong><a href='https://wandb.ai/sk11634-new-york-university/huggingface/runs/uffxk1zs' target=\"_blank\">exalted-bird-96</a></strong> to <a href='https://wandb.ai/sk11634-new-york-university/huggingface' target=\"_blank\">Weights & Biases</a> (<a href='https://wandb.me/developer-guide' target=\"_blank\">docs</a>)<br>"
            ]
          },
          "metadata": {}
        },
        {
          "output_type": "display_data",
          "data": {
            "text/plain": [
              "<IPython.core.display.HTML object>"
            ],
            "text/html": [
              " View project at <a href='https://wandb.ai/sk11634-new-york-university/huggingface' target=\"_blank\">https://wandb.ai/sk11634-new-york-university/huggingface</a>"
            ]
          },
          "metadata": {}
        },
        {
          "output_type": "display_data",
          "data": {
            "text/plain": [
              "<IPython.core.display.HTML object>"
            ],
            "text/html": [
              " View run at <a href='https://wandb.ai/sk11634-new-york-university/huggingface/runs/uffxk1zs' target=\"_blank\">https://wandb.ai/sk11634-new-york-university/huggingface/runs/uffxk1zs</a>"
            ]
          },
          "metadata": {}
        },
        {
          "output_type": "stream",
          "name": "stderr",
          "text": [
            "Using EarlyStoppingCallback without load_best_model_at_end=True. Once training is finished, the best model will not be loaded automatically.\n"
          ]
        },
        {
          "output_type": "display_data",
          "data": {
            "text/plain": [
              "<IPython.core.display.HTML object>"
            ],
            "text/html": [
              "\n",
              "    <div>\n",
              "      \n",
              "      <progress value='200' max='200' style='width:300px; height:20px; vertical-align: middle;'></progress>\n",
              "      [200/200 03:24, Epoch 0/1]\n",
              "    </div>\n",
              "    <table border=\"1\" class=\"dataframe\">\n",
              "  <thead>\n",
              " <tr style=\"text-align: left;\">\n",
              "      <th>Step</th>\n",
              "      <th>Training Loss</th>\n",
              "      <th>Validation Loss</th>\n",
              "      <th>Accuracy</th>\n",
              "      <th>Precision</th>\n",
              "      <th>Recall</th>\n",
              "      <th>F1</th>\n",
              "    </tr>\n",
              "  </thead>\n",
              "  <tbody>\n",
              "    <tr>\n",
              "      <td>50</td>\n",
              "      <td>No log</td>\n",
              "      <td>0.404512</td>\n",
              "      <td>0.882333</td>\n",
              "      <td>0.883587</td>\n",
              "      <td>0.882333</td>\n",
              "      <td>0.882792</td>\n",
              "    </tr>\n",
              "    <tr>\n",
              "      <td>100</td>\n",
              "      <td>No log</td>\n",
              "      <td>0.305769</td>\n",
              "      <td>0.899167</td>\n",
              "      <td>0.900530</td>\n",
              "      <td>0.899167</td>\n",
              "      <td>0.899091</td>\n",
              "    </tr>\n",
              "    <tr>\n",
              "      <td>150</td>\n",
              "      <td>No log</td>\n",
              "      <td>0.288601</td>\n",
              "      <td>0.904500</td>\n",
              "      <td>0.904949</td>\n",
              "      <td>0.904500</td>\n",
              "      <td>0.904415</td>\n",
              "    </tr>\n",
              "    <tr>\n",
              "      <td>200</td>\n",
              "      <td>No log</td>\n",
              "      <td>0.284540</td>\n",
              "      <td>0.906500</td>\n",
              "      <td>0.906984</td>\n",
              "      <td>0.906500</td>\n",
              "      <td>0.906413</td>\n",
              "    </tr>\n",
              "  </tbody>\n",
              "</table><p>"
            ]
          },
          "metadata": {}
        },
        {
          "output_type": "stream",
          "name": "stderr",
          "text": [
            "/usr/local/lib/python3.11/dist-packages/torch/utils/data/dataloader.py:624: UserWarning: This DataLoader will create 4 worker processes in total. Our suggested max number of worker in current system is 2, which is smaller than what this DataLoader is going to create. Please be aware that excessive worker creation might get DataLoader running slow or even freeze, lower the worker number to avoid potential slowness/freeze if necessary.\n",
            "  warnings.warn(\n",
            "/usr/local/lib/python3.11/dist-packages/torch/utils/data/dataloader.py:624: UserWarning: This DataLoader will create 4 worker processes in total. Our suggested max number of worker in current system is 2, which is smaller than what this DataLoader is going to create. Please be aware that excessive worker creation might get DataLoader running slow or even freeze, lower the worker number to avoid potential slowness/freeze if necessary.\n",
            "  warnings.warn(\n",
            "/usr/local/lib/python3.11/dist-packages/torch/utils/data/dataloader.py:624: UserWarning: This DataLoader will create 4 worker processes in total. Our suggested max number of worker in current system is 2, which is smaller than what this DataLoader is going to create. Please be aware that excessive worker creation might get DataLoader running slow or even freeze, lower the worker number to avoid potential slowness/freeze if necessary.\n",
            "  warnings.warn(\n",
            "[I 2025-04-18 23:09:00,864] Trial 7 finished with value: 3.62639655636935 and parameters: {'learning_rate': 0.00012141073293136797, 'batch_size': 8, 'grad_accum': 4, 'weight_decay': 0.0}. Best is trial 5 with value: 3.6485396102450984.\n",
            "<ipython-input-28-b45aaca4fadf>:7: FutureWarning: suggest_loguniform has been deprecated in v3.0.0. This feature will be removed in v6.0.0. See https://github.com/optuna/optuna/releases/tag/v3.0.0. Use suggest_float(..., log=True) instead.\n",
            "  \"learning_rate\":               trial.suggest_loguniform(\"learning_rate\", 1e-5, 5e-4),\n",
            "Some weights of RobertaForSequenceClassification were not initialized from the model checkpoint at roberta-base and are newly initialized: ['classifier.dense.bias', 'classifier.dense.weight', 'classifier.out_proj.bias', 'classifier.out_proj.weight']\n",
            "You should probably TRAIN this model on a down-stream task to be able to use it for predictions and inference.\n",
            "/usr/local/lib/python3.11/dist-packages/torch/utils/data/dataloader.py:624: UserWarning: This DataLoader will create 4 worker processes in total. Our suggested max number of worker in current system is 2, which is smaller than what this DataLoader is going to create. Please be aware that excessive worker creation might get DataLoader running slow or even freeze, lower the worker number to avoid potential slowness/freeze if necessary.\n",
            "  warnings.warn(\n"
          ]
        },
        {
          "output_type": "display_data",
          "data": {
            "text/plain": [
              "<IPython.core.display.HTML object>"
            ],
            "text/html": []
          },
          "metadata": {}
        },
        {
          "output_type": "display_data",
          "data": {
            "text/plain": [
              "<IPython.core.display.HTML object>"
            ],
            "text/html": [
              "<br>    <style><br>        .wandb-row {<br>            display: flex;<br>            flex-direction: row;<br>            flex-wrap: wrap;<br>            justify-content: flex-start;<br>            width: 100%;<br>        }<br>        .wandb-col {<br>            display: flex;<br>            flex-direction: column;<br>            flex-basis: 100%;<br>            flex: 1;<br>            padding: 10px;<br>        }<br>    </style><br><div class=\"wandb-row\"><div class=\"wandb-col\"><h3>Run history:</h3><br/><table class=\"wandb\"><tr><td>eval/accuracy</td><td>▁▆▇█</td></tr><tr><td>eval/f1</td><td>▁▆▇█</td></tr><tr><td>eval/loss</td><td>█▂▁▁</td></tr><tr><td>eval/precision</td><td>▁▆▇█</td></tr><tr><td>eval/recall</td><td>▁▆▇█</td></tr><tr><td>eval/runtime</td><td>▁▃▂█</td></tr><tr><td>eval/samples_per_second</td><td>█▆▇▁</td></tr><tr><td>eval/steps_per_second</td><td>█▆▇▁</td></tr><tr><td>train/epoch</td><td>▁▃▆██</td></tr><tr><td>train/global_step</td><td>▁▃▆██</td></tr></table><br/></div><div class=\"wandb-col\"><h3>Run summary:</h3><br/><table class=\"wandb\"><tr><td>eval/accuracy</td><td>0.9065</td></tr><tr><td>eval/f1</td><td>0.90641</td></tr><tr><td>eval/loss</td><td>0.28454</td></tr><tr><td>eval/precision</td><td>0.90698</td></tr><tr><td>eval/recall</td><td>0.9065</td></tr><tr><td>eval/runtime</td><td>30.401</td></tr><tr><td>eval/samples_per_second</td><td>197.362</td></tr><tr><td>eval/steps_per_second</td><td>24.67</td></tr><tr><td>total_flos</td><td>1038757522146432.0</td></tr><tr><td>train/epoch</td><td>0.53333</td></tr><tr><td>train/global_step</td><td>200</td></tr><tr><td>train_loss</td><td>0.54362</td></tr><tr><td>train_runtime</td><td>207.2412</td></tr><tr><td>train_samples_per_second</td><td>30.882</td></tr><tr><td>train_steps_per_second</td><td>0.965</td></tr></table><br/></div></div>"
            ]
          },
          "metadata": {}
        },
        {
          "output_type": "display_data",
          "data": {
            "text/plain": [
              "<IPython.core.display.HTML object>"
            ],
            "text/html": [
              " View run <strong style=\"color:#cdcd00\">exalted-bird-96</strong> at: <a href='https://wandb.ai/sk11634-new-york-university/huggingface/runs/uffxk1zs' target=\"_blank\">https://wandb.ai/sk11634-new-york-university/huggingface/runs/uffxk1zs</a><br> View project at: <a href='https://wandb.ai/sk11634-new-york-university/huggingface' target=\"_blank\">https://wandb.ai/sk11634-new-york-university/huggingface</a><br>Synced 5 W&B file(s), 0 media file(s), 0 artifact file(s) and 0 other file(s)"
            ]
          },
          "metadata": {}
        },
        {
          "output_type": "display_data",
          "data": {
            "text/plain": [
              "<IPython.core.display.HTML object>"
            ],
            "text/html": [
              "Find logs at: <code>./wandb/run-20250418_230533-uffxk1zs/logs</code>"
            ]
          },
          "metadata": {}
        },
        {
          "output_type": "display_data",
          "data": {
            "text/plain": [
              "<IPython.core.display.HTML object>"
            ],
            "text/html": [
              "Tracking run with wandb version 0.19.9"
            ]
          },
          "metadata": {}
        },
        {
          "output_type": "display_data",
          "data": {
            "text/plain": [
              "<IPython.core.display.HTML object>"
            ],
            "text/html": [
              "Run data is saved locally in <code>/content/wandb/run-20250418_230903-izaoo0ru</code>"
            ]
          },
          "metadata": {}
        },
        {
          "output_type": "display_data",
          "data": {
            "text/plain": [
              "<IPython.core.display.HTML object>"
            ],
            "text/html": [
              "Syncing run <strong><a href='https://wandb.ai/sk11634-new-york-university/huggingface/runs/izaoo0ru' target=\"_blank\">icy-snowflake-97</a></strong> to <a href='https://wandb.ai/sk11634-new-york-university/huggingface' target=\"_blank\">Weights & Biases</a> (<a href='https://wandb.me/developer-guide' target=\"_blank\">docs</a>)<br>"
            ]
          },
          "metadata": {}
        },
        {
          "output_type": "display_data",
          "data": {
            "text/plain": [
              "<IPython.core.display.HTML object>"
            ],
            "text/html": [
              " View project at <a href='https://wandb.ai/sk11634-new-york-university/huggingface' target=\"_blank\">https://wandb.ai/sk11634-new-york-university/huggingface</a>"
            ]
          },
          "metadata": {}
        },
        {
          "output_type": "display_data",
          "data": {
            "text/plain": [
              "<IPython.core.display.HTML object>"
            ],
            "text/html": [
              " View run at <a href='https://wandb.ai/sk11634-new-york-university/huggingface/runs/izaoo0ru' target=\"_blank\">https://wandb.ai/sk11634-new-york-university/huggingface/runs/izaoo0ru</a>"
            ]
          },
          "metadata": {}
        },
        {
          "output_type": "stream",
          "name": "stderr",
          "text": [
            "Using EarlyStoppingCallback without load_best_model_at_end=True. Once training is finished, the best model will not be loaded automatically.\n"
          ]
        },
        {
          "output_type": "display_data",
          "data": {
            "text/plain": [
              "<IPython.core.display.HTML object>"
            ],
            "text/html": [
              "\n",
              "    <div>\n",
              "      \n",
              "      <progress value='200' max='200' style='width:300px; height:20px; vertical-align: middle;'></progress>\n",
              "      [200/200 03:25, Epoch 0/1]\n",
              "    </div>\n",
              "    <table border=\"1\" class=\"dataframe\">\n",
              "  <thead>\n",
              " <tr style=\"text-align: left;\">\n",
              "      <th>Step</th>\n",
              "      <th>Training Loss</th>\n",
              "      <th>Validation Loss</th>\n",
              "      <th>Accuracy</th>\n",
              "      <th>Precision</th>\n",
              "      <th>Recall</th>\n",
              "      <th>F1</th>\n",
              "    </tr>\n",
              "  </thead>\n",
              "  <tbody>\n",
              "    <tr>\n",
              "      <td>50</td>\n",
              "      <td>No log</td>\n",
              "      <td>1.037806</td>\n",
              "      <td>0.787167</td>\n",
              "      <td>0.856122</td>\n",
              "      <td>0.787167</td>\n",
              "      <td>0.786797</td>\n",
              "    </tr>\n",
              "    <tr>\n",
              "      <td>100</td>\n",
              "      <td>No log</td>\n",
              "      <td>0.333246</td>\n",
              "      <td>0.889167</td>\n",
              "      <td>0.889371</td>\n",
              "      <td>0.889167</td>\n",
              "      <td>0.889007</td>\n",
              "    </tr>\n",
              "    <tr>\n",
              "      <td>150</td>\n",
              "      <td>No log</td>\n",
              "      <td>0.311313</td>\n",
              "      <td>0.895833</td>\n",
              "      <td>0.896942</td>\n",
              "      <td>0.895833</td>\n",
              "      <td>0.895866</td>\n",
              "    </tr>\n",
              "    <tr>\n",
              "      <td>200</td>\n",
              "      <td>No log</td>\n",
              "      <td>0.304870</td>\n",
              "      <td>0.897833</td>\n",
              "      <td>0.897591</td>\n",
              "      <td>0.897833</td>\n",
              "      <td>0.897646</td>\n",
              "    </tr>\n",
              "  </tbody>\n",
              "</table><p>"
            ]
          },
          "metadata": {}
        },
        {
          "output_type": "stream",
          "name": "stderr",
          "text": [
            "/usr/local/lib/python3.11/dist-packages/torch/utils/data/dataloader.py:624: UserWarning: This DataLoader will create 4 worker processes in total. Our suggested max number of worker in current system is 2, which is smaller than what this DataLoader is going to create. Please be aware that excessive worker creation might get DataLoader running slow or even freeze, lower the worker number to avoid potential slowness/freeze if necessary.\n",
            "  warnings.warn(\n",
            "/usr/local/lib/python3.11/dist-packages/torch/utils/data/dataloader.py:624: UserWarning: This DataLoader will create 4 worker processes in total. Our suggested max number of worker in current system is 2, which is smaller than what this DataLoader is going to create. Please be aware that excessive worker creation might get DataLoader running slow or even freeze, lower the worker number to avoid potential slowness/freeze if necessary.\n",
            "  warnings.warn(\n",
            "/usr/local/lib/python3.11/dist-packages/torch/utils/data/dataloader.py:624: UserWarning: This DataLoader will create 4 worker processes in total. Our suggested max number of worker in current system is 2, which is smaller than what this DataLoader is going to create. Please be aware that excessive worker creation might get DataLoader running slow or even freeze, lower the worker number to avoid potential slowness/freeze if necessary.\n",
            "  warnings.warn(\n",
            "[I 2025-04-18 23:12:30,938] Trial 8 finished with value: 3.590903726872385 and parameters: {'learning_rate': 7.564284532607837e-05, 'batch_size': 8, 'grad_accum': 4, 'weight_decay': 0.0}. Best is trial 5 with value: 3.6485396102450984.\n",
            "<ipython-input-28-b45aaca4fadf>:7: FutureWarning: suggest_loguniform has been deprecated in v3.0.0. This feature will be removed in v6.0.0. See https://github.com/optuna/optuna/releases/tag/v3.0.0. Use suggest_float(..., log=True) instead.\n",
            "  \"learning_rate\":               trial.suggest_loguniform(\"learning_rate\", 1e-5, 5e-4),\n",
            "Some weights of RobertaForSequenceClassification were not initialized from the model checkpoint at roberta-base and are newly initialized: ['classifier.dense.bias', 'classifier.dense.weight', 'classifier.out_proj.bias', 'classifier.out_proj.weight']\n",
            "You should probably TRAIN this model on a down-stream task to be able to use it for predictions and inference.\n",
            "/usr/local/lib/python3.11/dist-packages/torch/utils/data/dataloader.py:624: UserWarning: This DataLoader will create 4 worker processes in total. Our suggested max number of worker in current system is 2, which is smaller than what this DataLoader is going to create. Please be aware that excessive worker creation might get DataLoader running slow or even freeze, lower the worker number to avoid potential slowness/freeze if necessary.\n",
            "  warnings.warn(\n"
          ]
        },
        {
          "output_type": "display_data",
          "data": {
            "text/plain": [
              "<IPython.core.display.HTML object>"
            ],
            "text/html": []
          },
          "metadata": {}
        },
        {
          "output_type": "display_data",
          "data": {
            "text/plain": [
              "<IPython.core.display.HTML object>"
            ],
            "text/html": [
              "<br>    <style><br>        .wandb-row {<br>            display: flex;<br>            flex-direction: row;<br>            flex-wrap: wrap;<br>            justify-content: flex-start;<br>            width: 100%;<br>        }<br>        .wandb-col {<br>            display: flex;<br>            flex-direction: column;<br>            flex-basis: 100%;<br>            flex: 1;<br>            padding: 10px;<br>        }<br>    </style><br><div class=\"wandb-row\"><div class=\"wandb-col\"><h3>Run history:</h3><br/><table class=\"wandb\"><tr><td>eval/accuracy</td><td>▁▇██</td></tr><tr><td>eval/f1</td><td>▁▇██</td></tr><tr><td>eval/loss</td><td>█▁▁▁</td></tr><tr><td>eval/precision</td><td>▁▇██</td></tr><tr><td>eval/recall</td><td>▁▇██</td></tr><tr><td>eval/runtime</td><td>▁▂█▁</td></tr><tr><td>eval/samples_per_second</td><td>█▇▁█</td></tr><tr><td>eval/steps_per_second</td><td>█▇▁█</td></tr><tr><td>train/epoch</td><td>▁▃▆██</td></tr><tr><td>train/global_step</td><td>▁▃▆██</td></tr></table><br/></div><div class=\"wandb-col\"><h3>Run summary:</h3><br/><table class=\"wandb\"><tr><td>eval/accuracy</td><td>0.89783</td></tr><tr><td>eval/f1</td><td>0.89765</td></tr><tr><td>eval/loss</td><td>0.30487</td></tr><tr><td>eval/precision</td><td>0.89759</td></tr><tr><td>eval/recall</td><td>0.89783</td></tr><tr><td>eval/runtime</td><td>30.3969</td></tr><tr><td>eval/samples_per_second</td><td>197.389</td></tr><tr><td>eval/steps_per_second</td><td>24.674</td></tr><tr><td>total_flos</td><td>1038757522146432.0</td></tr><tr><td>train/epoch</td><td>0.53333</td></tr><tr><td>train/global_step</td><td>200</td></tr><tr><td>train_loss</td><td>0.65049</td></tr><tr><td>train_runtime</td><td>207.9113</td></tr><tr><td>train_samples_per_second</td><td>30.782</td></tr><tr><td>train_steps_per_second</td><td>0.962</td></tr></table><br/></div></div>"
            ]
          },
          "metadata": {}
        },
        {
          "output_type": "display_data",
          "data": {
            "text/plain": [
              "<IPython.core.display.HTML object>"
            ],
            "text/html": [
              " View run <strong style=\"color:#cdcd00\">icy-snowflake-97</strong> at: <a href='https://wandb.ai/sk11634-new-york-university/huggingface/runs/izaoo0ru' target=\"_blank\">https://wandb.ai/sk11634-new-york-university/huggingface/runs/izaoo0ru</a><br> View project at: <a href='https://wandb.ai/sk11634-new-york-university/huggingface' target=\"_blank\">https://wandb.ai/sk11634-new-york-university/huggingface</a><br>Synced 5 W&B file(s), 0 media file(s), 0 artifact file(s) and 0 other file(s)"
            ]
          },
          "metadata": {}
        },
        {
          "output_type": "display_data",
          "data": {
            "text/plain": [
              "<IPython.core.display.HTML object>"
            ],
            "text/html": [
              "Find logs at: <code>./wandb/run-20250418_230903-izaoo0ru/logs</code>"
            ]
          },
          "metadata": {}
        },
        {
          "output_type": "display_data",
          "data": {
            "text/plain": [
              "<IPython.core.display.HTML object>"
            ],
            "text/html": [
              "Tracking run with wandb version 0.19.9"
            ]
          },
          "metadata": {}
        },
        {
          "output_type": "display_data",
          "data": {
            "text/plain": [
              "<IPython.core.display.HTML object>"
            ],
            "text/html": [
              "Run data is saved locally in <code>/content/wandb/run-20250418_231233-lokmnemi</code>"
            ]
          },
          "metadata": {}
        },
        {
          "output_type": "display_data",
          "data": {
            "text/plain": [
              "<IPython.core.display.HTML object>"
            ],
            "text/html": [
              "Syncing run <strong><a href='https://wandb.ai/sk11634-new-york-university/huggingface/runs/lokmnemi' target=\"_blank\">divine-elevator-99</a></strong> to <a href='https://wandb.ai/sk11634-new-york-university/huggingface' target=\"_blank\">Weights & Biases</a> (<a href='https://wandb.me/developer-guide' target=\"_blank\">docs</a>)<br>"
            ]
          },
          "metadata": {}
        },
        {
          "output_type": "display_data",
          "data": {
            "text/plain": [
              "<IPython.core.display.HTML object>"
            ],
            "text/html": [
              " View project at <a href='https://wandb.ai/sk11634-new-york-university/huggingface' target=\"_blank\">https://wandb.ai/sk11634-new-york-university/huggingface</a>"
            ]
          },
          "metadata": {}
        },
        {
          "output_type": "display_data",
          "data": {
            "text/plain": [
              "<IPython.core.display.HTML object>"
            ],
            "text/html": [
              " View run at <a href='https://wandb.ai/sk11634-new-york-university/huggingface/runs/lokmnemi' target=\"_blank\">https://wandb.ai/sk11634-new-york-university/huggingface/runs/lokmnemi</a>"
            ]
          },
          "metadata": {}
        },
        {
          "output_type": "stream",
          "name": "stderr",
          "text": [
            "Using EarlyStoppingCallback without load_best_model_at_end=True. Once training is finished, the best model will not be loaded automatically.\n"
          ]
        },
        {
          "output_type": "display_data",
          "data": {
            "text/plain": [
              "<IPython.core.display.HTML object>"
            ],
            "text/html": [
              "\n",
              "    <div>\n",
              "      \n",
              "      <progress value='200' max='200' style='width:300px; height:20px; vertical-align: middle;'></progress>\n",
              "      [200/200 04:58, Epoch 1/2]\n",
              "    </div>\n",
              "    <table border=\"1\" class=\"dataframe\">\n",
              "  <thead>\n",
              " <tr style=\"text-align: left;\">\n",
              "      <th>Step</th>\n",
              "      <th>Training Loss</th>\n",
              "      <th>Validation Loss</th>\n",
              "      <th>Accuracy</th>\n",
              "      <th>Precision</th>\n",
              "      <th>Recall</th>\n",
              "      <th>F1</th>\n",
              "    </tr>\n",
              "  </thead>\n",
              "  <tbody>\n",
              "    <tr>\n",
              "      <td>50</td>\n",
              "      <td>No log</td>\n",
              "      <td>1.092779</td>\n",
              "      <td>0.841333</td>\n",
              "      <td>0.854276</td>\n",
              "      <td>0.841333</td>\n",
              "      <td>0.837863</td>\n",
              "    </tr>\n",
              "    <tr>\n",
              "      <td>100</td>\n",
              "      <td>No log</td>\n",
              "      <td>0.339606</td>\n",
              "      <td>0.891667</td>\n",
              "      <td>0.891834</td>\n",
              "      <td>0.891667</td>\n",
              "      <td>0.891436</td>\n",
              "    </tr>\n",
              "    <tr>\n",
              "      <td>150</td>\n",
              "      <td>No log</td>\n",
              "      <td>0.309403</td>\n",
              "      <td>0.896833</td>\n",
              "      <td>0.896827</td>\n",
              "      <td>0.896833</td>\n",
              "      <td>0.896707</td>\n",
              "    </tr>\n",
              "    <tr>\n",
              "      <td>200</td>\n",
              "      <td>No log</td>\n",
              "      <td>0.305906</td>\n",
              "      <td>0.896833</td>\n",
              "      <td>0.896490</td>\n",
              "      <td>0.896833</td>\n",
              "      <td>0.896606</td>\n",
              "    </tr>\n",
              "  </tbody>\n",
              "</table><p>"
            ]
          },
          "metadata": {}
        },
        {
          "output_type": "stream",
          "name": "stderr",
          "text": [
            "/usr/local/lib/python3.11/dist-packages/torch/utils/data/dataloader.py:624: UserWarning: This DataLoader will create 4 worker processes in total. Our suggested max number of worker in current system is 2, which is smaller than what this DataLoader is going to create. Please be aware that excessive worker creation might get DataLoader running slow or even freeze, lower the worker number to avoid potential slowness/freeze if necessary.\n",
            "  warnings.warn(\n",
            "/usr/local/lib/python3.11/dist-packages/torch/utils/data/dataloader.py:624: UserWarning: This DataLoader will create 4 worker processes in total. Our suggested max number of worker in current system is 2, which is smaller than what this DataLoader is going to create. Please be aware that excessive worker creation might get DataLoader running slow or even freeze, lower the worker number to avoid potential slowness/freeze if necessary.\n",
            "  warnings.warn(\n",
            "/usr/local/lib/python3.11/dist-packages/torch/utils/data/dataloader.py:624: UserWarning: This DataLoader will create 4 worker processes in total. Our suggested max number of worker in current system is 2, which is smaller than what this DataLoader is going to create. Please be aware that excessive worker creation might get DataLoader running slow or even freeze, lower the worker number to avoid potential slowness/freeze if necessary.\n",
            "  warnings.warn(\n",
            "[I 2025-04-18 23:17:34,365] Trial 9 pruned. \n",
            "<ipython-input-28-b45aaca4fadf>:7: FutureWarning: suggest_loguniform has been deprecated in v3.0.0. This feature will be removed in v6.0.0. See https://github.com/optuna/optuna/releases/tag/v3.0.0. Use suggest_float(..., log=True) instead.\n",
            "  \"learning_rate\":               trial.suggest_loguniform(\"learning_rate\", 1e-5, 5e-4),\n",
            "Some weights of RobertaForSequenceClassification were not initialized from the model checkpoint at roberta-base and are newly initialized: ['classifier.dense.bias', 'classifier.dense.weight', 'classifier.out_proj.bias', 'classifier.out_proj.weight']\n",
            "You should probably TRAIN this model on a down-stream task to be able to use it for predictions and inference.\n",
            "/usr/local/lib/python3.11/dist-packages/torch/utils/data/dataloader.py:624: UserWarning: This DataLoader will create 4 worker processes in total. Our suggested max number of worker in current system is 2, which is smaller than what this DataLoader is going to create. Please be aware that excessive worker creation might get DataLoader running slow or even freeze, lower the worker number to avoid potential slowness/freeze if necessary.\n",
            "  warnings.warn(\n"
          ]
        },
        {
          "output_type": "display_data",
          "data": {
            "text/plain": [
              "<IPython.core.display.HTML object>"
            ],
            "text/html": []
          },
          "metadata": {}
        },
        {
          "output_type": "display_data",
          "data": {
            "text/plain": [
              "<IPython.core.display.HTML object>"
            ],
            "text/html": [
              "<br>    <style><br>        .wandb-row {<br>            display: flex;<br>            flex-direction: row;<br>            flex-wrap: wrap;<br>            justify-content: flex-start;<br>            width: 100%;<br>        }<br>        .wandb-col {<br>            display: flex;<br>            flex-direction: column;<br>            flex-basis: 100%;<br>            flex: 1;<br>            padding: 10px;<br>        }<br>    </style><br><div class=\"wandb-row\"><div class=\"wandb-col\"><h3>Run history:</h3><br/><table class=\"wandb\"><tr><td>eval/accuracy</td><td>▁▇██</td></tr><tr><td>eval/f1</td><td>▁▇██</td></tr><tr><td>eval/loss</td><td>█▁▁▁</td></tr><tr><td>eval/precision</td><td>▁▇██</td></tr><tr><td>eval/recall</td><td>▁▇██</td></tr><tr><td>eval/runtime</td><td>▁▁▃█</td></tr><tr><td>eval/samples_per_second</td><td>██▆▁</td></tr><tr><td>eval/steps_per_second</td><td>██▆▁</td></tr><tr><td>train/epoch</td><td>▁▃▆█</td></tr><tr><td>train/global_step</td><td>▁▃▆█</td></tr></table><br/></div><div class=\"wandb-col\"><h3>Run summary:</h3><br/><table class=\"wandb\"><tr><td>eval/accuracy</td><td>0.89683</td></tr><tr><td>eval/f1</td><td>0.89661</td></tr><tr><td>eval/loss</td><td>0.30591</td></tr><tr><td>eval/precision</td><td>0.89649</td></tr><tr><td>eval/recall</td><td>0.89683</td></tr><tr><td>eval/runtime</td><td>42.0758</td></tr><tr><td>eval/samples_per_second</td><td>142.6</td></tr><tr><td>eval/steps_per_second</td><td>17.825</td></tr><tr><td>train/epoch</td><td>1.064</td></tr><tr><td>train/global_step</td><td>200</td></tr></table><br/></div></div>"
            ]
          },
          "metadata": {}
        },
        {
          "output_type": "display_data",
          "data": {
            "text/plain": [
              "<IPython.core.display.HTML object>"
            ],
            "text/html": [
              " View run <strong style=\"color:#cdcd00\">divine-elevator-99</strong> at: <a href='https://wandb.ai/sk11634-new-york-university/huggingface/runs/lokmnemi' target=\"_blank\">https://wandb.ai/sk11634-new-york-university/huggingface/runs/lokmnemi</a><br> View project at: <a href='https://wandb.ai/sk11634-new-york-university/huggingface' target=\"_blank\">https://wandb.ai/sk11634-new-york-university/huggingface</a><br>Synced 5 W&B file(s), 0 media file(s), 0 artifact file(s) and 0 other file(s)"
            ]
          },
          "metadata": {}
        },
        {
          "output_type": "display_data",
          "data": {
            "text/plain": [
              "<IPython.core.display.HTML object>"
            ],
            "text/html": [
              "Find logs at: <code>./wandb/run-20250418_231233-lokmnemi/logs</code>"
            ]
          },
          "metadata": {}
        },
        {
          "output_type": "display_data",
          "data": {
            "text/plain": [
              "<IPython.core.display.HTML object>"
            ],
            "text/html": [
              "Tracking run with wandb version 0.19.9"
            ]
          },
          "metadata": {}
        },
        {
          "output_type": "display_data",
          "data": {
            "text/plain": [
              "<IPython.core.display.HTML object>"
            ],
            "text/html": [
              "Run data is saved locally in <code>/content/wandb/run-20250418_231738-6itozrlv</code>"
            ]
          },
          "metadata": {}
        },
        {
          "output_type": "display_data",
          "data": {
            "text/plain": [
              "<IPython.core.display.HTML object>"
            ],
            "text/html": [
              "Syncing run <strong><a href='https://wandb.ai/sk11634-new-york-university/huggingface/runs/6itozrlv' target=\"_blank\">divine-wave-101</a></strong> to <a href='https://wandb.ai/sk11634-new-york-university/huggingface' target=\"_blank\">Weights & Biases</a> (<a href='https://wandb.me/developer-guide' target=\"_blank\">docs</a>)<br>"
            ]
          },
          "metadata": {}
        },
        {
          "output_type": "display_data",
          "data": {
            "text/plain": [
              "<IPython.core.display.HTML object>"
            ],
            "text/html": [
              " View project at <a href='https://wandb.ai/sk11634-new-york-university/huggingface' target=\"_blank\">https://wandb.ai/sk11634-new-york-university/huggingface</a>"
            ]
          },
          "metadata": {}
        },
        {
          "output_type": "display_data",
          "data": {
            "text/plain": [
              "<IPython.core.display.HTML object>"
            ],
            "text/html": [
              " View run at <a href='https://wandb.ai/sk11634-new-york-university/huggingface/runs/6itozrlv' target=\"_blank\">https://wandb.ai/sk11634-new-york-university/huggingface/runs/6itozrlv</a>"
            ]
          },
          "metadata": {}
        },
        {
          "output_type": "stream",
          "name": "stderr",
          "text": [
            "Using EarlyStoppingCallback without load_best_model_at_end=True. Once training is finished, the best model will not be loaded automatically.\n"
          ]
        },
        {
          "output_type": "display_data",
          "data": {
            "text/plain": [
              "<IPython.core.display.HTML object>"
            ],
            "text/html": [
              "\n",
              "    <div>\n",
              "      \n",
              "      <progress value='200' max='200' style='width:300px; height:20px; vertical-align: middle;'></progress>\n",
              "      [200/200 04:56, Epoch 1/2]\n",
              "    </div>\n",
              "    <table border=\"1\" class=\"dataframe\">\n",
              "  <thead>\n",
              " <tr style=\"text-align: left;\">\n",
              "      <th>Step</th>\n",
              "      <th>Training Loss</th>\n",
              "      <th>Validation Loss</th>\n",
              "      <th>Accuracy</th>\n",
              "      <th>Precision</th>\n",
              "      <th>Recall</th>\n",
              "      <th>F1</th>\n",
              "    </tr>\n",
              "  </thead>\n",
              "  <tbody>\n",
              "    <tr>\n",
              "      <td>50</td>\n",
              "      <td>No log</td>\n",
              "      <td>0.293884</td>\n",
              "      <td>0.902667</td>\n",
              "      <td>0.903439</td>\n",
              "      <td>0.902667</td>\n",
              "      <td>0.902483</td>\n",
              "    </tr>\n",
              "    <tr>\n",
              "      <td>100</td>\n",
              "      <td>No log</td>\n",
              "      <td>0.269692</td>\n",
              "      <td>0.908500</td>\n",
              "      <td>0.908070</td>\n",
              "      <td>0.908500</td>\n",
              "      <td>0.908232</td>\n",
              "    </tr>\n",
              "    <tr>\n",
              "      <td>150</td>\n",
              "      <td>No log</td>\n",
              "      <td>0.260198</td>\n",
              "      <td>0.912667</td>\n",
              "      <td>0.913854</td>\n",
              "      <td>0.912667</td>\n",
              "      <td>0.912645</td>\n",
              "    </tr>\n",
              "    <tr>\n",
              "      <td>200</td>\n",
              "      <td>No log</td>\n",
              "      <td>0.253310</td>\n",
              "      <td>0.913167</td>\n",
              "      <td>0.913178</td>\n",
              "      <td>0.913167</td>\n",
              "      <td>0.912965</td>\n",
              "    </tr>\n",
              "  </tbody>\n",
              "</table><p>"
            ]
          },
          "metadata": {}
        },
        {
          "output_type": "stream",
          "name": "stderr",
          "text": [
            "/usr/local/lib/python3.11/dist-packages/torch/utils/data/dataloader.py:624: UserWarning: This DataLoader will create 4 worker processes in total. Our suggested max number of worker in current system is 2, which is smaller than what this DataLoader is going to create. Please be aware that excessive worker creation might get DataLoader running slow or even freeze, lower the worker number to avoid potential slowness/freeze if necessary.\n",
            "  warnings.warn(\n",
            "/usr/local/lib/python3.11/dist-packages/torch/utils/data/dataloader.py:624: UserWarning: This DataLoader will create 4 worker processes in total. Our suggested max number of worker in current system is 2, which is smaller than what this DataLoader is going to create. Please be aware that excessive worker creation might get DataLoader running slow or even freeze, lower the worker number to avoid potential slowness/freeze if necessary.\n",
            "  warnings.warn(\n",
            "/usr/local/lib/python3.11/dist-packages/torch/utils/data/dataloader.py:624: UserWarning: This DataLoader will create 4 worker processes in total. Our suggested max number of worker in current system is 2, which is smaller than what this DataLoader is going to create. Please be aware that excessive worker creation might get DataLoader running slow or even freeze, lower the worker number to avoid potential slowness/freeze if necessary.\n",
            "  warnings.warn(\n",
            "[I 2025-04-18 23:22:38,133] Trial 10 finished with value: 3.6524755712538273 and parameters: {'learning_rate': 0.0002725064396632481, 'batch_size': 32, 'grad_accum': 2, 'weight_decay': 0.01}. Best is trial 10 with value: 3.6524755712538273.\n",
            "<ipython-input-28-b45aaca4fadf>:7: FutureWarning: suggest_loguniform has been deprecated in v3.0.0. This feature will be removed in v6.0.0. See https://github.com/optuna/optuna/releases/tag/v3.0.0. Use suggest_float(..., log=True) instead.\n",
            "  \"learning_rate\":               trial.suggest_loguniform(\"learning_rate\", 1e-5, 5e-4),\n",
            "Some weights of RobertaForSequenceClassification were not initialized from the model checkpoint at roberta-base and are newly initialized: ['classifier.dense.bias', 'classifier.dense.weight', 'classifier.out_proj.bias', 'classifier.out_proj.weight']\n",
            "You should probably TRAIN this model on a down-stream task to be able to use it for predictions and inference.\n",
            "/usr/local/lib/python3.11/dist-packages/torch/utils/data/dataloader.py:624: UserWarning: This DataLoader will create 4 worker processes in total. Our suggested max number of worker in current system is 2, which is smaller than what this DataLoader is going to create. Please be aware that excessive worker creation might get DataLoader running slow or even freeze, lower the worker number to avoid potential slowness/freeze if necessary.\n",
            "  warnings.warn(\n"
          ]
        },
        {
          "output_type": "display_data",
          "data": {
            "text/plain": [
              "<IPython.core.display.HTML object>"
            ],
            "text/html": []
          },
          "metadata": {}
        },
        {
          "output_type": "display_data",
          "data": {
            "text/plain": [
              "<IPython.core.display.HTML object>"
            ],
            "text/html": [
              "<br>    <style><br>        .wandb-row {<br>            display: flex;<br>            flex-direction: row;<br>            flex-wrap: wrap;<br>            justify-content: flex-start;<br>            width: 100%;<br>        }<br>        .wandb-col {<br>            display: flex;<br>            flex-direction: column;<br>            flex-basis: 100%;<br>            flex: 1;<br>            padding: 10px;<br>        }<br>    </style><br><div class=\"wandb-row\"><div class=\"wandb-col\"><h3>Run history:</h3><br/><table class=\"wandb\"><tr><td>eval/accuracy</td><td>▁▅██</td></tr><tr><td>eval/f1</td><td>▁▅██</td></tr><tr><td>eval/loss</td><td>█▄▂▁</td></tr><tr><td>eval/precision</td><td>▁▄██</td></tr><tr><td>eval/recall</td><td>▁▅██</td></tr><tr><td>eval/runtime</td><td>█▁▂▁</td></tr><tr><td>eval/samples_per_second</td><td>▁█▇▇</td></tr><tr><td>eval/steps_per_second</td><td>▁█▇▇</td></tr><tr><td>train/epoch</td><td>▁▃▆██</td></tr><tr><td>train/global_step</td><td>▁▃▆██</td></tr></table><br/></div><div class=\"wandb-col\"><h3>Run summary:</h3><br/><table class=\"wandb\"><tr><td>eval/accuracy</td><td>0.91317</td></tr><tr><td>eval/f1</td><td>0.91296</td></tr><tr><td>eval/loss</td><td>0.25331</td></tr><tr><td>eval/precision</td><td>0.91318</td></tr><tr><td>eval/recall</td><td>0.91317</td></tr><tr><td>eval/runtime</td><td>31.9809</td></tr><tr><td>eval/samples_per_second</td><td>187.612</td></tr><tr><td>eval/steps_per_second</td><td>23.451</td></tr><tr><td>total_flos</td><td>4441780861351680.0</td></tr><tr><td>train/epoch</td><td>1.064</td></tr><tr><td>train/global_step</td><td>200</td></tr><tr><td>train_loss</td><td>0.38209</td></tr><tr><td>train_runtime</td><td>300.4431</td></tr><tr><td>train_samples_per_second</td><td>42.604</td></tr><tr><td>train_steps_per_second</td><td>0.666</td></tr></table><br/></div></div>"
            ]
          },
          "metadata": {}
        },
        {
          "output_type": "display_data",
          "data": {
            "text/plain": [
              "<IPython.core.display.HTML object>"
            ],
            "text/html": [
              " View run <strong style=\"color:#cdcd00\">divine-wave-101</strong> at: <a href='https://wandb.ai/sk11634-new-york-university/huggingface/runs/6itozrlv' target=\"_blank\">https://wandb.ai/sk11634-new-york-university/huggingface/runs/6itozrlv</a><br> View project at: <a href='https://wandb.ai/sk11634-new-york-university/huggingface' target=\"_blank\">https://wandb.ai/sk11634-new-york-university/huggingface</a><br>Synced 5 W&B file(s), 0 media file(s), 0 artifact file(s) and 0 other file(s)"
            ]
          },
          "metadata": {}
        },
        {
          "output_type": "display_data",
          "data": {
            "text/plain": [
              "<IPython.core.display.HTML object>"
            ],
            "text/html": [
              "Find logs at: <code>./wandb/run-20250418_231738-6itozrlv/logs</code>"
            ]
          },
          "metadata": {}
        },
        {
          "output_type": "display_data",
          "data": {
            "text/plain": [
              "<IPython.core.display.HTML object>"
            ],
            "text/html": [
              "Tracking run with wandb version 0.19.9"
            ]
          },
          "metadata": {}
        },
        {
          "output_type": "display_data",
          "data": {
            "text/plain": [
              "<IPython.core.display.HTML object>"
            ],
            "text/html": [
              "Run data is saved locally in <code>/content/wandb/run-20250418_232240-qau17y1e</code>"
            ]
          },
          "metadata": {}
        },
        {
          "output_type": "display_data",
          "data": {
            "text/plain": [
              "<IPython.core.display.HTML object>"
            ],
            "text/html": [
              "Syncing run <strong><a href='https://wandb.ai/sk11634-new-york-university/huggingface/runs/qau17y1e' target=\"_blank\">young-thunder-103</a></strong> to <a href='https://wandb.ai/sk11634-new-york-university/huggingface' target=\"_blank\">Weights & Biases</a> (<a href='https://wandb.me/developer-guide' target=\"_blank\">docs</a>)<br>"
            ]
          },
          "metadata": {}
        },
        {
          "output_type": "display_data",
          "data": {
            "text/plain": [
              "<IPython.core.display.HTML object>"
            ],
            "text/html": [
              " View project at <a href='https://wandb.ai/sk11634-new-york-university/huggingface' target=\"_blank\">https://wandb.ai/sk11634-new-york-university/huggingface</a>"
            ]
          },
          "metadata": {}
        },
        {
          "output_type": "display_data",
          "data": {
            "text/plain": [
              "<IPython.core.display.HTML object>"
            ],
            "text/html": [
              " View run at <a href='https://wandb.ai/sk11634-new-york-university/huggingface/runs/qau17y1e' target=\"_blank\">https://wandb.ai/sk11634-new-york-university/huggingface/runs/qau17y1e</a>"
            ]
          },
          "metadata": {}
        },
        {
          "output_type": "stream",
          "name": "stderr",
          "text": [
            "Using EarlyStoppingCallback without load_best_model_at_end=True. Once training is finished, the best model will not be loaded automatically.\n"
          ]
        },
        {
          "output_type": "display_data",
          "data": {
            "text/plain": [
              "<IPython.core.display.HTML object>"
            ],
            "text/html": [
              "\n",
              "    <div>\n",
              "      \n",
              "      <progress value='200' max='200' style='width:300px; height:20px; vertical-align: middle;'></progress>\n",
              "      [200/200 04:42, Epoch 1/2]\n",
              "    </div>\n",
              "    <table border=\"1\" class=\"dataframe\">\n",
              "  <thead>\n",
              " <tr style=\"text-align: left;\">\n",
              "      <th>Step</th>\n",
              "      <th>Training Loss</th>\n",
              "      <th>Validation Loss</th>\n",
              "      <th>Accuracy</th>\n",
              "      <th>Precision</th>\n",
              "      <th>Recall</th>\n",
              "      <th>F1</th>\n",
              "    </tr>\n",
              "  </thead>\n",
              "  <tbody>\n",
              "    <tr>\n",
              "      <td>50</td>\n",
              "      <td>No log</td>\n",
              "      <td>0.307691</td>\n",
              "      <td>0.897667</td>\n",
              "      <td>0.902862</td>\n",
              "      <td>0.897667</td>\n",
              "      <td>0.897782</td>\n",
              "    </tr>\n",
              "    <tr>\n",
              "      <td>100</td>\n",
              "      <td>No log</td>\n",
              "      <td>0.269190</td>\n",
              "      <td>0.908167</td>\n",
              "      <td>0.908212</td>\n",
              "      <td>0.908167</td>\n",
              "      <td>0.908103</td>\n",
              "    </tr>\n",
              "    <tr>\n",
              "      <td>150</td>\n",
              "      <td>No log</td>\n",
              "      <td>0.257820</td>\n",
              "      <td>0.913833</td>\n",
              "      <td>0.914971</td>\n",
              "      <td>0.913833</td>\n",
              "      <td>0.913756</td>\n",
              "    </tr>\n",
              "    <tr>\n",
              "      <td>200</td>\n",
              "      <td>No log</td>\n",
              "      <td>0.250500</td>\n",
              "      <td>0.913167</td>\n",
              "      <td>0.913059</td>\n",
              "      <td>0.913167</td>\n",
              "      <td>0.912909</td>\n",
              "    </tr>\n",
              "  </tbody>\n",
              "</table><p>"
            ]
          },
          "metadata": {}
        },
        {
          "output_type": "stream",
          "name": "stderr",
          "text": [
            "/usr/local/lib/python3.11/dist-packages/torch/utils/data/dataloader.py:624: UserWarning: This DataLoader will create 4 worker processes in total. Our suggested max number of worker in current system is 2, which is smaller than what this DataLoader is going to create. Please be aware that excessive worker creation might get DataLoader running slow or even freeze, lower the worker number to avoid potential slowness/freeze if necessary.\n",
            "  warnings.warn(\n",
            "/usr/local/lib/python3.11/dist-packages/torch/utils/data/dataloader.py:624: UserWarning: This DataLoader will create 4 worker processes in total. Our suggested max number of worker in current system is 2, which is smaller than what this DataLoader is going to create. Please be aware that excessive worker creation might get DataLoader running slow or even freeze, lower the worker number to avoid potential slowness/freeze if necessary.\n",
            "  warnings.warn(\n",
            "/usr/local/lib/python3.11/dist-packages/torch/utils/data/dataloader.py:624: UserWarning: This DataLoader will create 4 worker processes in total. Our suggested max number of worker in current system is 2, which is smaller than what this DataLoader is going to create. Please be aware that excessive worker creation might get DataLoader running slow or even freeze, lower the worker number to avoid potential slowness/freeze if necessary.\n",
            "  warnings.warn(\n",
            "[I 2025-04-18 23:27:26,132] Trial 11 finished with value: 3.6523011073548766 and parameters: {'learning_rate': 0.00039674169110163576, 'batch_size': 32, 'grad_accum': 2, 'weight_decay': 0.01}. Best is trial 10 with value: 3.6524755712538273.\n",
            "<ipython-input-28-b45aaca4fadf>:7: FutureWarning: suggest_loguniform has been deprecated in v3.0.0. This feature will be removed in v6.0.0. See https://github.com/optuna/optuna/releases/tag/v3.0.0. Use suggest_float(..., log=True) instead.\n",
            "  \"learning_rate\":               trial.suggest_loguniform(\"learning_rate\", 1e-5, 5e-4),\n",
            "Some weights of RobertaForSequenceClassification were not initialized from the model checkpoint at roberta-base and are newly initialized: ['classifier.dense.bias', 'classifier.dense.weight', 'classifier.out_proj.bias', 'classifier.out_proj.weight']\n",
            "You should probably TRAIN this model on a down-stream task to be able to use it for predictions and inference.\n",
            "/usr/local/lib/python3.11/dist-packages/torch/utils/data/dataloader.py:624: UserWarning: This DataLoader will create 4 worker processes in total. Our suggested max number of worker in current system is 2, which is smaller than what this DataLoader is going to create. Please be aware that excessive worker creation might get DataLoader running slow or even freeze, lower the worker number to avoid potential slowness/freeze if necessary.\n",
            "  warnings.warn(\n"
          ]
        },
        {
          "output_type": "display_data",
          "data": {
            "text/plain": [
              "<IPython.core.display.HTML object>"
            ],
            "text/html": []
          },
          "metadata": {}
        },
        {
          "output_type": "display_data",
          "data": {
            "text/plain": [
              "<IPython.core.display.HTML object>"
            ],
            "text/html": [
              "<br>    <style><br>        .wandb-row {<br>            display: flex;<br>            flex-direction: row;<br>            flex-wrap: wrap;<br>            justify-content: flex-start;<br>            width: 100%;<br>        }<br>        .wandb-col {<br>            display: flex;<br>            flex-direction: column;<br>            flex-basis: 100%;<br>            flex: 1;<br>            padding: 10px;<br>        }<br>    </style><br><div class=\"wandb-row\"><div class=\"wandb-col\"><h3>Run history:</h3><br/><table class=\"wandb\"><tr><td>eval/accuracy</td><td>▁▆██</td></tr><tr><td>eval/f1</td><td>▁▆██</td></tr><tr><td>eval/loss</td><td>█▃▂▁</td></tr><tr><td>eval/precision</td><td>▁▄█▇</td></tr><tr><td>eval/recall</td><td>▁▆██</td></tr><tr><td>eval/runtime</td><td>▃▆▁█</td></tr><tr><td>eval/samples_per_second</td><td>▆▃█▁</td></tr><tr><td>eval/steps_per_second</td><td>▆▃█▁</td></tr><tr><td>train/epoch</td><td>▁▃▆██</td></tr><tr><td>train/global_step</td><td>▁▃▆██</td></tr></table><br/></div><div class=\"wandb-col\"><h3>Run summary:</h3><br/><table class=\"wandb\"><tr><td>eval/accuracy</td><td>0.91317</td></tr><tr><td>eval/f1</td><td>0.91291</td></tr><tr><td>eval/loss</td><td>0.2505</td></tr><tr><td>eval/precision</td><td>0.91306</td></tr><tr><td>eval/recall</td><td>0.91317</td></tr><tr><td>eval/runtime</td><td>30.7804</td></tr><tr><td>eval/samples_per_second</td><td>194.93</td></tr><tr><td>eval/steps_per_second</td><td>24.366</td></tr><tr><td>total_flos</td><td>2255259448544256.0</td></tr><tr><td>train/epoch</td><td>1.064</td></tr><tr><td>train/global_step</td><td>200</td></tr><tr><td>train_loss</td><td>0.36222</td></tr><tr><td>train_runtime</td><td>285.766</td></tr><tr><td>train_samples_per_second</td><td>44.792</td></tr><tr><td>train_steps_per_second</td><td>0.7</td></tr></table><br/></div></div>"
            ]
          },
          "metadata": {}
        },
        {
          "output_type": "display_data",
          "data": {
            "text/plain": [
              "<IPython.core.display.HTML object>"
            ],
            "text/html": [
              " View run <strong style=\"color:#cdcd00\">young-thunder-103</strong> at: <a href='https://wandb.ai/sk11634-new-york-university/huggingface/runs/qau17y1e' target=\"_blank\">https://wandb.ai/sk11634-new-york-university/huggingface/runs/qau17y1e</a><br> View project at: <a href='https://wandb.ai/sk11634-new-york-university/huggingface' target=\"_blank\">https://wandb.ai/sk11634-new-york-university/huggingface</a><br>Synced 5 W&B file(s), 0 media file(s), 0 artifact file(s) and 0 other file(s)"
            ]
          },
          "metadata": {}
        },
        {
          "output_type": "display_data",
          "data": {
            "text/plain": [
              "<IPython.core.display.HTML object>"
            ],
            "text/html": [
              "Find logs at: <code>./wandb/run-20250418_232240-qau17y1e/logs</code>"
            ]
          },
          "metadata": {}
        },
        {
          "output_type": "display_data",
          "data": {
            "text/plain": [
              "<IPython.core.display.HTML object>"
            ],
            "text/html": [
              "Tracking run with wandb version 0.19.9"
            ]
          },
          "metadata": {}
        },
        {
          "output_type": "display_data",
          "data": {
            "text/plain": [
              "<IPython.core.display.HTML object>"
            ],
            "text/html": [
              "Run data is saved locally in <code>/content/wandb/run-20250418_232728-vlqv2pr3</code>"
            ]
          },
          "metadata": {}
        },
        {
          "output_type": "display_data",
          "data": {
            "text/plain": [
              "<IPython.core.display.HTML object>"
            ],
            "text/html": [
              "Syncing run <strong><a href='https://wandb.ai/sk11634-new-york-university/huggingface/runs/vlqv2pr3' target=\"_blank\">rare-dust-105</a></strong> to <a href='https://wandb.ai/sk11634-new-york-university/huggingface' target=\"_blank\">Weights & Biases</a> (<a href='https://wandb.me/developer-guide' target=\"_blank\">docs</a>)<br>"
            ]
          },
          "metadata": {}
        },
        {
          "output_type": "display_data",
          "data": {
            "text/plain": [
              "<IPython.core.display.HTML object>"
            ],
            "text/html": [
              " View project at <a href='https://wandb.ai/sk11634-new-york-university/huggingface' target=\"_blank\">https://wandb.ai/sk11634-new-york-university/huggingface</a>"
            ]
          },
          "metadata": {}
        },
        {
          "output_type": "display_data",
          "data": {
            "text/plain": [
              "<IPython.core.display.HTML object>"
            ],
            "text/html": [
              " View run at <a href='https://wandb.ai/sk11634-new-york-university/huggingface/runs/vlqv2pr3' target=\"_blank\">https://wandb.ai/sk11634-new-york-university/huggingface/runs/vlqv2pr3</a>"
            ]
          },
          "metadata": {}
        },
        {
          "output_type": "stream",
          "name": "stderr",
          "text": [
            "Using EarlyStoppingCallback without load_best_model_at_end=True. Once training is finished, the best model will not be loaded automatically.\n"
          ]
        },
        {
          "output_type": "display_data",
          "data": {
            "text/plain": [
              "<IPython.core.display.HTML object>"
            ],
            "text/html": [
              "\n",
              "    <div>\n",
              "      \n",
              "      <progress value='200' max='200' style='width:300px; height:20px; vertical-align: middle;'></progress>\n",
              "      [200/200 04:42, Epoch 1/2]\n",
              "    </div>\n",
              "    <table border=\"1\" class=\"dataframe\">\n",
              "  <thead>\n",
              " <tr style=\"text-align: left;\">\n",
              "      <th>Step</th>\n",
              "      <th>Training Loss</th>\n",
              "      <th>Validation Loss</th>\n",
              "      <th>Accuracy</th>\n",
              "      <th>Precision</th>\n",
              "      <th>Recall</th>\n",
              "      <th>F1</th>\n",
              "    </tr>\n",
              "  </thead>\n",
              "  <tbody>\n",
              "    <tr>\n",
              "      <td>50</td>\n",
              "      <td>No log</td>\n",
              "      <td>0.285526</td>\n",
              "      <td>0.906333</td>\n",
              "      <td>0.908226</td>\n",
              "      <td>0.906333</td>\n",
              "      <td>0.906313</td>\n",
              "    </tr>\n",
              "    <tr>\n",
              "      <td>100</td>\n",
              "      <td>No log</td>\n",
              "      <td>0.263891</td>\n",
              "      <td>0.910833</td>\n",
              "      <td>0.911161</td>\n",
              "      <td>0.910833</td>\n",
              "      <td>0.910789</td>\n",
              "    </tr>\n",
              "    <tr>\n",
              "      <td>150</td>\n",
              "      <td>No log</td>\n",
              "      <td>0.251468</td>\n",
              "      <td>0.915833</td>\n",
              "      <td>0.916606</td>\n",
              "      <td>0.915833</td>\n",
              "      <td>0.915752</td>\n",
              "    </tr>\n",
              "    <tr>\n",
              "      <td>200</td>\n",
              "      <td>No log</td>\n",
              "      <td>0.243228</td>\n",
              "      <td>0.914333</td>\n",
              "      <td>0.914180</td>\n",
              "      <td>0.914333</td>\n",
              "      <td>0.914120</td>\n",
              "    </tr>\n",
              "  </tbody>\n",
              "</table><p>"
            ]
          },
          "metadata": {}
        },
        {
          "output_type": "stream",
          "name": "stderr",
          "text": [
            "/usr/local/lib/python3.11/dist-packages/torch/utils/data/dataloader.py:624: UserWarning: This DataLoader will create 4 worker processes in total. Our suggested max number of worker in current system is 2, which is smaller than what this DataLoader is going to create. Please be aware that excessive worker creation might get DataLoader running slow or even freeze, lower the worker number to avoid potential slowness/freeze if necessary.\n",
            "  warnings.warn(\n",
            "/usr/local/lib/python3.11/dist-packages/torch/utils/data/dataloader.py:624: UserWarning: This DataLoader will create 4 worker processes in total. Our suggested max number of worker in current system is 2, which is smaller than what this DataLoader is going to create. Please be aware that excessive worker creation might get DataLoader running slow or even freeze, lower the worker number to avoid potential slowness/freeze if necessary.\n",
            "  warnings.warn(\n",
            "/usr/local/lib/python3.11/dist-packages/torch/utils/data/dataloader.py:624: UserWarning: This DataLoader will create 4 worker processes in total. Our suggested max number of worker in current system is 2, which is smaller than what this DataLoader is going to create. Please be aware that excessive worker creation might get DataLoader running slow or even freeze, lower the worker number to avoid potential slowness/freeze if necessary.\n",
            "  warnings.warn(\n",
            "[I 2025-04-18 23:32:14,285] Trial 12 finished with value: 3.6569670089895365 and parameters: {'learning_rate': 0.00046901019297120473, 'batch_size': 32, 'grad_accum': 2, 'weight_decay': 0.01}. Best is trial 12 with value: 3.6569670089895365.\n",
            "<ipython-input-28-b45aaca4fadf>:7: FutureWarning: suggest_loguniform has been deprecated in v3.0.0. This feature will be removed in v6.0.0. See https://github.com/optuna/optuna/releases/tag/v3.0.0. Use suggest_float(..., log=True) instead.\n",
            "  \"learning_rate\":               trial.suggest_loguniform(\"learning_rate\", 1e-5, 5e-4),\n",
            "Some weights of RobertaForSequenceClassification were not initialized from the model checkpoint at roberta-base and are newly initialized: ['classifier.dense.bias', 'classifier.dense.weight', 'classifier.out_proj.bias', 'classifier.out_proj.weight']\n",
            "You should probably TRAIN this model on a down-stream task to be able to use it for predictions and inference.\n",
            "/usr/local/lib/python3.11/dist-packages/torch/utils/data/dataloader.py:624: UserWarning: This DataLoader will create 4 worker processes in total. Our suggested max number of worker in current system is 2, which is smaller than what this DataLoader is going to create. Please be aware that excessive worker creation might get DataLoader running slow or even freeze, lower the worker number to avoid potential slowness/freeze if necessary.\n",
            "  warnings.warn(\n"
          ]
        },
        {
          "output_type": "display_data",
          "data": {
            "text/plain": [
              "<IPython.core.display.HTML object>"
            ],
            "text/html": []
          },
          "metadata": {}
        },
        {
          "output_type": "display_data",
          "data": {
            "text/plain": [
              "<IPython.core.display.HTML object>"
            ],
            "text/html": [
              "<br>    <style><br>        .wandb-row {<br>            display: flex;<br>            flex-direction: row;<br>            flex-wrap: wrap;<br>            justify-content: flex-start;<br>            width: 100%;<br>        }<br>        .wandb-col {<br>            display: flex;<br>            flex-direction: column;<br>            flex-basis: 100%;<br>            flex: 1;<br>            padding: 10px;<br>        }<br>    </style><br><div class=\"wandb-row\"><div class=\"wandb-col\"><h3>Run history:</h3><br/><table class=\"wandb\"><tr><td>eval/accuracy</td><td>▁▄█▇</td></tr><tr><td>eval/f1</td><td>▁▄█▇</td></tr><tr><td>eval/loss</td><td>█▄▂▁</td></tr><tr><td>eval/precision</td><td>▁▃█▆</td></tr><tr><td>eval/recall</td><td>▁▄█▇</td></tr><tr><td>eval/runtime</td><td>▁▄▄█</td></tr><tr><td>eval/samples_per_second</td><td>█▅▅▁</td></tr><tr><td>eval/steps_per_second</td><td>█▅▅▁</td></tr><tr><td>train/epoch</td><td>▁▃▆██</td></tr><tr><td>train/global_step</td><td>▁▃▆██</td></tr></table><br/></div><div class=\"wandb-col\"><h3>Run summary:</h3><br/><table class=\"wandb\"><tr><td>eval/accuracy</td><td>0.91433</td></tr><tr><td>eval/f1</td><td>0.91412</td></tr><tr><td>eval/loss</td><td>0.24323</td></tr><tr><td>eval/precision</td><td>0.91418</td></tr><tr><td>eval/recall</td><td>0.91433</td></tr><tr><td>eval/runtime</td><td>30.9226</td></tr><tr><td>eval/samples_per_second</td><td>194.033</td></tr><tr><td>eval/steps_per_second</td><td>24.254</td></tr><tr><td>total_flos</td><td>2255259448544256.0</td></tr><tr><td>train/epoch</td><td>1.064</td></tr><tr><td>train/global_step</td><td>200</td></tr><tr><td>train_loss</td><td>0.35639</td></tr><tr><td>train_runtime</td><td>285.9242</td></tr><tr><td>train_samples_per_second</td><td>44.767</td></tr><tr><td>train_steps_per_second</td><td>0.699</td></tr></table><br/></div></div>"
            ]
          },
          "metadata": {}
        },
        {
          "output_type": "display_data",
          "data": {
            "text/plain": [
              "<IPython.core.display.HTML object>"
            ],
            "text/html": [
              " View run <strong style=\"color:#cdcd00\">rare-dust-105</strong> at: <a href='https://wandb.ai/sk11634-new-york-university/huggingface/runs/vlqv2pr3' target=\"_blank\">https://wandb.ai/sk11634-new-york-university/huggingface/runs/vlqv2pr3</a><br> View project at: <a href='https://wandb.ai/sk11634-new-york-university/huggingface' target=\"_blank\">https://wandb.ai/sk11634-new-york-university/huggingface</a><br>Synced 5 W&B file(s), 0 media file(s), 0 artifact file(s) and 0 other file(s)"
            ]
          },
          "metadata": {}
        },
        {
          "output_type": "display_data",
          "data": {
            "text/plain": [
              "<IPython.core.display.HTML object>"
            ],
            "text/html": [
              "Find logs at: <code>./wandb/run-20250418_232728-vlqv2pr3/logs</code>"
            ]
          },
          "metadata": {}
        },
        {
          "output_type": "display_data",
          "data": {
            "text/plain": [
              "<IPython.core.display.HTML object>"
            ],
            "text/html": [
              "Tracking run with wandb version 0.19.9"
            ]
          },
          "metadata": {}
        },
        {
          "output_type": "display_data",
          "data": {
            "text/plain": [
              "<IPython.core.display.HTML object>"
            ],
            "text/html": [
              "Run data is saved locally in <code>/content/wandb/run-20250418_233216-vbna656p</code>"
            ]
          },
          "metadata": {}
        },
        {
          "output_type": "display_data",
          "data": {
            "text/plain": [
              "<IPython.core.display.HTML object>"
            ],
            "text/html": [
              "Syncing run <strong><a href='https://wandb.ai/sk11634-new-york-university/huggingface/runs/vbna656p' target=\"_blank\">serene-snow-107</a></strong> to <a href='https://wandb.ai/sk11634-new-york-university/huggingface' target=\"_blank\">Weights & Biases</a> (<a href='https://wandb.me/developer-guide' target=\"_blank\">docs</a>)<br>"
            ]
          },
          "metadata": {}
        },
        {
          "output_type": "display_data",
          "data": {
            "text/plain": [
              "<IPython.core.display.HTML object>"
            ],
            "text/html": [
              " View project at <a href='https://wandb.ai/sk11634-new-york-university/huggingface' target=\"_blank\">https://wandb.ai/sk11634-new-york-university/huggingface</a>"
            ]
          },
          "metadata": {}
        },
        {
          "output_type": "display_data",
          "data": {
            "text/plain": [
              "<IPython.core.display.HTML object>"
            ],
            "text/html": [
              " View run at <a href='https://wandb.ai/sk11634-new-york-university/huggingface/runs/vbna656p' target=\"_blank\">https://wandb.ai/sk11634-new-york-university/huggingface/runs/vbna656p</a>"
            ]
          },
          "metadata": {}
        },
        {
          "output_type": "stream",
          "name": "stderr",
          "text": [
            "Using EarlyStoppingCallback without load_best_model_at_end=True. Once training is finished, the best model will not be loaded automatically.\n"
          ]
        },
        {
          "output_type": "display_data",
          "data": {
            "text/plain": [
              "<IPython.core.display.HTML object>"
            ],
            "text/html": [
              "\n",
              "    <div>\n",
              "      \n",
              "      <progress value='200' max='200' style='width:300px; height:20px; vertical-align: middle;'></progress>\n",
              "      [200/200 04:41, Epoch 1/2]\n",
              "    </div>\n",
              "    <table border=\"1\" class=\"dataframe\">\n",
              "  <thead>\n",
              " <tr style=\"text-align: left;\">\n",
              "      <th>Step</th>\n",
              "      <th>Training Loss</th>\n",
              "      <th>Validation Loss</th>\n",
              "      <th>Accuracy</th>\n",
              "      <th>Precision</th>\n",
              "      <th>Recall</th>\n",
              "      <th>F1</th>\n",
              "    </tr>\n",
              "  </thead>\n",
              "  <tbody>\n",
              "    <tr>\n",
              "      <td>50</td>\n",
              "      <td>No log</td>\n",
              "      <td>0.297050</td>\n",
              "      <td>0.900167</td>\n",
              "      <td>0.904161</td>\n",
              "      <td>0.900167</td>\n",
              "      <td>0.900244</td>\n",
              "    </tr>\n",
              "    <tr>\n",
              "      <td>100</td>\n",
              "      <td>No log</td>\n",
              "      <td>0.267251</td>\n",
              "      <td>0.908833</td>\n",
              "      <td>0.908673</td>\n",
              "      <td>0.908833</td>\n",
              "      <td>0.908663</td>\n",
              "    </tr>\n",
              "    <tr>\n",
              "      <td>150</td>\n",
              "      <td>No log</td>\n",
              "      <td>0.254802</td>\n",
              "      <td>0.912167</td>\n",
              "      <td>0.913255</td>\n",
              "      <td>0.912167</td>\n",
              "      <td>0.912085</td>\n",
              "    </tr>\n",
              "    <tr>\n",
              "      <td>200</td>\n",
              "      <td>No log</td>\n",
              "      <td>0.246398</td>\n",
              "      <td>0.913667</td>\n",
              "      <td>0.913527</td>\n",
              "      <td>0.913667</td>\n",
              "      <td>0.913380</td>\n",
              "    </tr>\n",
              "  </tbody>\n",
              "</table><p>"
            ]
          },
          "metadata": {}
        },
        {
          "output_type": "stream",
          "name": "stderr",
          "text": [
            "/usr/local/lib/python3.11/dist-packages/torch/utils/data/dataloader.py:624: UserWarning: This DataLoader will create 4 worker processes in total. Our suggested max number of worker in current system is 2, which is smaller than what this DataLoader is going to create. Please be aware that excessive worker creation might get DataLoader running slow or even freeze, lower the worker number to avoid potential slowness/freeze if necessary.\n",
            "  warnings.warn(\n",
            "/usr/local/lib/python3.11/dist-packages/torch/utils/data/dataloader.py:624: UserWarning: This DataLoader will create 4 worker processes in total. Our suggested max number of worker in current system is 2, which is smaller than what this DataLoader is going to create. Please be aware that excessive worker creation might get DataLoader running slow or even freeze, lower the worker number to avoid potential slowness/freeze if necessary.\n",
            "  warnings.warn(\n",
            "/usr/local/lib/python3.11/dist-packages/torch/utils/data/dataloader.py:624: UserWarning: This DataLoader will create 4 worker processes in total. Our suggested max number of worker in current system is 2, which is smaller than what this DataLoader is going to create. Please be aware that excessive worker creation might get DataLoader running slow or even freeze, lower the worker number to avoid potential slowness/freeze if necessary.\n",
            "  warnings.warn(\n",
            "[I 2025-04-18 23:37:01,121] Trial 13 finished with value: 3.654239690438302 and parameters: {'learning_rate': 0.00044336925076900885, 'batch_size': 32, 'grad_accum': 2, 'weight_decay': 0.01}. Best is trial 12 with value: 3.6569670089895365.\n",
            "<ipython-input-28-b45aaca4fadf>:7: FutureWarning: suggest_loguniform has been deprecated in v3.0.0. This feature will be removed in v6.0.0. See https://github.com/optuna/optuna/releases/tag/v3.0.0. Use suggest_float(..., log=True) instead.\n",
            "  \"learning_rate\":               trial.suggest_loguniform(\"learning_rate\", 1e-5, 5e-4),\n",
            "Some weights of RobertaForSequenceClassification were not initialized from the model checkpoint at roberta-base and are newly initialized: ['classifier.dense.bias', 'classifier.dense.weight', 'classifier.out_proj.bias', 'classifier.out_proj.weight']\n",
            "You should probably TRAIN this model on a down-stream task to be able to use it for predictions and inference.\n",
            "/usr/local/lib/python3.11/dist-packages/torch/utils/data/dataloader.py:624: UserWarning: This DataLoader will create 4 worker processes in total. Our suggested max number of worker in current system is 2, which is smaller than what this DataLoader is going to create. Please be aware that excessive worker creation might get DataLoader running slow or even freeze, lower the worker number to avoid potential slowness/freeze if necessary.\n",
            "  warnings.warn(\n"
          ]
        },
        {
          "output_type": "display_data",
          "data": {
            "text/plain": [
              "<IPython.core.display.HTML object>"
            ],
            "text/html": []
          },
          "metadata": {}
        },
        {
          "output_type": "display_data",
          "data": {
            "text/plain": [
              "<IPython.core.display.HTML object>"
            ],
            "text/html": [
              "<br>    <style><br>        .wandb-row {<br>            display: flex;<br>            flex-direction: row;<br>            flex-wrap: wrap;<br>            justify-content: flex-start;<br>            width: 100%;<br>        }<br>        .wandb-col {<br>            display: flex;<br>            flex-direction: column;<br>            flex-basis: 100%;<br>            flex: 1;<br>            padding: 10px;<br>        }<br>    </style><br><div class=\"wandb-row\"><div class=\"wandb-col\"><h3>Run history:</h3><br/><table class=\"wandb\"><tr><td>eval/accuracy</td><td>▁▅▇█</td></tr><tr><td>eval/f1</td><td>▁▅▇█</td></tr><tr><td>eval/loss</td><td>█▄▂▁</td></tr><tr><td>eval/precision</td><td>▁▄██</td></tr><tr><td>eval/recall</td><td>▁▅▇█</td></tr><tr><td>eval/runtime</td><td>▅▁█▃</td></tr><tr><td>eval/samples_per_second</td><td>▄█▁▆</td></tr><tr><td>eval/steps_per_second</td><td>▄█▁▆</td></tr><tr><td>train/epoch</td><td>▁▃▆██</td></tr><tr><td>train/global_step</td><td>▁▃▆██</td></tr></table><br/></div><div class=\"wandb-col\"><h3>Run summary:</h3><br/><table class=\"wandb\"><tr><td>eval/accuracy</td><td>0.91367</td></tr><tr><td>eval/f1</td><td>0.91338</td></tr><tr><td>eval/loss</td><td>0.2464</td></tr><tr><td>eval/precision</td><td>0.91353</td></tr><tr><td>eval/recall</td><td>0.91367</td></tr><tr><td>eval/runtime</td><td>30.3889</td></tr><tr><td>eval/samples_per_second</td><td>197.441</td></tr><tr><td>eval/steps_per_second</td><td>24.68</td></tr><tr><td>total_flos</td><td>2255259448544256.0</td></tr><tr><td>train/epoch</td><td>1.064</td></tr><tr><td>train/global_step</td><td>200</td></tr><tr><td>train_loss</td><td>0.35777</td></tr><tr><td>train_runtime</td><td>284.8341</td></tr><tr><td>train_samples_per_second</td><td>44.938</td></tr><tr><td>train_steps_per_second</td><td>0.702</td></tr></table><br/></div></div>"
            ]
          },
          "metadata": {}
        },
        {
          "output_type": "display_data",
          "data": {
            "text/plain": [
              "<IPython.core.display.HTML object>"
            ],
            "text/html": [
              " View run <strong style=\"color:#cdcd00\">serene-snow-107</strong> at: <a href='https://wandb.ai/sk11634-new-york-university/huggingface/runs/vbna656p' target=\"_blank\">https://wandb.ai/sk11634-new-york-university/huggingface/runs/vbna656p</a><br> View project at: <a href='https://wandb.ai/sk11634-new-york-university/huggingface' target=\"_blank\">https://wandb.ai/sk11634-new-york-university/huggingface</a><br>Synced 5 W&B file(s), 0 media file(s), 0 artifact file(s) and 0 other file(s)"
            ]
          },
          "metadata": {}
        },
        {
          "output_type": "display_data",
          "data": {
            "text/plain": [
              "<IPython.core.display.HTML object>"
            ],
            "text/html": [
              "Find logs at: <code>./wandb/run-20250418_233216-vbna656p/logs</code>"
            ]
          },
          "metadata": {}
        },
        {
          "output_type": "display_data",
          "data": {
            "text/plain": [
              "<IPython.core.display.HTML object>"
            ],
            "text/html": [
              "Tracking run with wandb version 0.19.9"
            ]
          },
          "metadata": {}
        },
        {
          "output_type": "display_data",
          "data": {
            "text/plain": [
              "<IPython.core.display.HTML object>"
            ],
            "text/html": [
              "Run data is saved locally in <code>/content/wandb/run-20250418_233703-r425tksj</code>"
            ]
          },
          "metadata": {}
        },
        {
          "output_type": "display_data",
          "data": {
            "text/plain": [
              "<IPython.core.display.HTML object>"
            ],
            "text/html": [
              "Syncing run <strong><a href='https://wandb.ai/sk11634-new-york-university/huggingface/runs/r425tksj' target=\"_blank\">whole-dust-109</a></strong> to <a href='https://wandb.ai/sk11634-new-york-university/huggingface' target=\"_blank\">Weights & Biases</a> (<a href='https://wandb.me/developer-guide' target=\"_blank\">docs</a>)<br>"
            ]
          },
          "metadata": {}
        },
        {
          "output_type": "display_data",
          "data": {
            "text/plain": [
              "<IPython.core.display.HTML object>"
            ],
            "text/html": [
              " View project at <a href='https://wandb.ai/sk11634-new-york-university/huggingface' target=\"_blank\">https://wandb.ai/sk11634-new-york-university/huggingface</a>"
            ]
          },
          "metadata": {}
        },
        {
          "output_type": "display_data",
          "data": {
            "text/plain": [
              "<IPython.core.display.HTML object>"
            ],
            "text/html": [
              " View run at <a href='https://wandb.ai/sk11634-new-york-university/huggingface/runs/r425tksj' target=\"_blank\">https://wandb.ai/sk11634-new-york-university/huggingface/runs/r425tksj</a>"
            ]
          },
          "metadata": {}
        },
        {
          "output_type": "stream",
          "name": "stderr",
          "text": [
            "Using EarlyStoppingCallback without load_best_model_at_end=True. Once training is finished, the best model will not be loaded automatically.\n"
          ]
        },
        {
          "output_type": "display_data",
          "data": {
            "text/plain": [
              "<IPython.core.display.HTML object>"
            ],
            "text/html": [
              "\n",
              "    <div>\n",
              "      \n",
              "      <progress value='200' max='200' style='width:300px; height:20px; vertical-align: middle;'></progress>\n",
              "      [200/200 04:42, Epoch 1/2]\n",
              "    </div>\n",
              "    <table border=\"1\" class=\"dataframe\">\n",
              "  <thead>\n",
              " <tr style=\"text-align: left;\">\n",
              "      <th>Step</th>\n",
              "      <th>Training Loss</th>\n",
              "      <th>Validation Loss</th>\n",
              "      <th>Accuracy</th>\n",
              "      <th>Precision</th>\n",
              "      <th>Recall</th>\n",
              "      <th>F1</th>\n",
              "    </tr>\n",
              "  </thead>\n",
              "  <tbody>\n",
              "    <tr>\n",
              "      <td>50</td>\n",
              "      <td>No log</td>\n",
              "      <td>0.297575</td>\n",
              "      <td>0.906000</td>\n",
              "      <td>0.906779</td>\n",
              "      <td>0.906000</td>\n",
              "      <td>0.905928</td>\n",
              "    </tr>\n",
              "    <tr>\n",
              "      <td>100</td>\n",
              "      <td>No log</td>\n",
              "      <td>0.273021</td>\n",
              "      <td>0.907500</td>\n",
              "      <td>0.907059</td>\n",
              "      <td>0.907500</td>\n",
              "      <td>0.907196</td>\n",
              "    </tr>\n",
              "    <tr>\n",
              "      <td>150</td>\n",
              "      <td>No log</td>\n",
              "      <td>0.260868</td>\n",
              "      <td>0.913667</td>\n",
              "      <td>0.914369</td>\n",
              "      <td>0.913667</td>\n",
              "      <td>0.913614</td>\n",
              "    </tr>\n",
              "    <tr>\n",
              "      <td>200</td>\n",
              "      <td>No log</td>\n",
              "      <td>0.256966</td>\n",
              "      <td>0.912667</td>\n",
              "      <td>0.912646</td>\n",
              "      <td>0.912667</td>\n",
              "      <td>0.912458</td>\n",
              "    </tr>\n",
              "  </tbody>\n",
              "</table><p>"
            ]
          },
          "metadata": {}
        },
        {
          "output_type": "stream",
          "name": "stderr",
          "text": [
            "/usr/local/lib/python3.11/dist-packages/torch/utils/data/dataloader.py:624: UserWarning: This DataLoader will create 4 worker processes in total. Our suggested max number of worker in current system is 2, which is smaller than what this DataLoader is going to create. Please be aware that excessive worker creation might get DataLoader running slow or even freeze, lower the worker number to avoid potential slowness/freeze if necessary.\n",
            "  warnings.warn(\n",
            "/usr/local/lib/python3.11/dist-packages/torch/utils/data/dataloader.py:624: UserWarning: This DataLoader will create 4 worker processes in total. Our suggested max number of worker in current system is 2, which is smaller than what this DataLoader is going to create. Please be aware that excessive worker creation might get DataLoader running slow or even freeze, lower the worker number to avoid potential slowness/freeze if necessary.\n",
            "  warnings.warn(\n",
            "/usr/local/lib/python3.11/dist-packages/torch/utils/data/dataloader.py:624: UserWarning: This DataLoader will create 4 worker processes in total. Our suggested max number of worker in current system is 2, which is smaller than what this DataLoader is going to create. Please be aware that excessive worker creation might get DataLoader running slow or even freeze, lower the worker number to avoid potential slowness/freeze if necessary.\n",
            "  warnings.warn(\n",
            "[I 2025-04-18 23:41:48,685] Trial 14 finished with value: 3.6504379645337623 and parameters: {'learning_rate': 0.00023468116239406078, 'batch_size': 32, 'grad_accum': 2, 'weight_decay': 0.01}. Best is trial 12 with value: 3.6569670089895365.\n",
            "<ipython-input-28-b45aaca4fadf>:7: FutureWarning: suggest_loguniform has been deprecated in v3.0.0. This feature will be removed in v6.0.0. See https://github.com/optuna/optuna/releases/tag/v3.0.0. Use suggest_float(..., log=True) instead.\n",
            "  \"learning_rate\":               trial.suggest_loguniform(\"learning_rate\", 1e-5, 5e-4),\n",
            "Some weights of RobertaForSequenceClassification were not initialized from the model checkpoint at roberta-base and are newly initialized: ['classifier.dense.bias', 'classifier.dense.weight', 'classifier.out_proj.bias', 'classifier.out_proj.weight']\n",
            "You should probably TRAIN this model on a down-stream task to be able to use it for predictions and inference.\n",
            "/usr/local/lib/python3.11/dist-packages/torch/utils/data/dataloader.py:624: UserWarning: This DataLoader will create 4 worker processes in total. Our suggested max number of worker in current system is 2, which is smaller than what this DataLoader is going to create. Please be aware that excessive worker creation might get DataLoader running slow or even freeze, lower the worker number to avoid potential slowness/freeze if necessary.\n",
            "  warnings.warn(\n"
          ]
        },
        {
          "output_type": "display_data",
          "data": {
            "text/plain": [
              "<IPython.core.display.HTML object>"
            ],
            "text/html": []
          },
          "metadata": {}
        },
        {
          "output_type": "display_data",
          "data": {
            "text/plain": [
              "<IPython.core.display.HTML object>"
            ],
            "text/html": [
              "<br>    <style><br>        .wandb-row {<br>            display: flex;<br>            flex-direction: row;<br>            flex-wrap: wrap;<br>            justify-content: flex-start;<br>            width: 100%;<br>        }<br>        .wandb-col {<br>            display: flex;<br>            flex-direction: column;<br>            flex-basis: 100%;<br>            flex: 1;<br>            padding: 10px;<br>        }<br>    </style><br><div class=\"wandb-row\"><div class=\"wandb-col\"><h3>Run history:</h3><br/><table class=\"wandb\"><tr><td>eval/accuracy</td><td>▁▂█▇</td></tr><tr><td>eval/f1</td><td>▁▂█▇</td></tr><tr><td>eval/loss</td><td>█▄▂▁</td></tr><tr><td>eval/precision</td><td>▁▁█▆</td></tr><tr><td>eval/recall</td><td>▁▂█▇</td></tr><tr><td>eval/runtime</td><td>▇▂█▁</td></tr><tr><td>eval/samples_per_second</td><td>▂▇▁█</td></tr><tr><td>eval/steps_per_second</td><td>▂▇▁█</td></tr><tr><td>train/epoch</td><td>▁▃▆██</td></tr><tr><td>train/global_step</td><td>▁▃▆██</td></tr></table><br/></div><div class=\"wandb-col\"><h3>Run summary:</h3><br/><table class=\"wandb\"><tr><td>eval/accuracy</td><td>0.91267</td></tr><tr><td>eval/f1</td><td>0.91246</td></tr><tr><td>eval/loss</td><td>0.25697</td></tr><tr><td>eval/precision</td><td>0.91265</td></tr><tr><td>eval/recall</td><td>0.91267</td></tr><tr><td>eval/runtime</td><td>30.2897</td></tr><tr><td>eval/samples_per_second</td><td>198.087</td></tr><tr><td>eval/steps_per_second</td><td>24.761</td></tr><tr><td>total_flos</td><td>2255259448544256.0</td></tr><tr><td>train/epoch</td><td>1.064</td></tr><tr><td>train/global_step</td><td>200</td></tr><tr><td>train_loss</td><td>0.3934</td></tr><tr><td>train_runtime</td><td>285.5679</td></tr><tr><td>train_samples_per_second</td><td>44.823</td></tr><tr><td>train_steps_per_second</td><td>0.7</td></tr></table><br/></div></div>"
            ]
          },
          "metadata": {}
        },
        {
          "output_type": "display_data",
          "data": {
            "text/plain": [
              "<IPython.core.display.HTML object>"
            ],
            "text/html": [
              " View run <strong style=\"color:#cdcd00\">whole-dust-109</strong> at: <a href='https://wandb.ai/sk11634-new-york-university/huggingface/runs/r425tksj' target=\"_blank\">https://wandb.ai/sk11634-new-york-university/huggingface/runs/r425tksj</a><br> View project at: <a href='https://wandb.ai/sk11634-new-york-university/huggingface' target=\"_blank\">https://wandb.ai/sk11634-new-york-university/huggingface</a><br>Synced 5 W&B file(s), 0 media file(s), 0 artifact file(s) and 0 other file(s)"
            ]
          },
          "metadata": {}
        },
        {
          "output_type": "display_data",
          "data": {
            "text/plain": [
              "<IPython.core.display.HTML object>"
            ],
            "text/html": [
              "Find logs at: <code>./wandb/run-20250418_233703-r425tksj/logs</code>"
            ]
          },
          "metadata": {}
        },
        {
          "output_type": "display_data",
          "data": {
            "text/plain": [
              "<IPython.core.display.HTML object>"
            ],
            "text/html": [
              "Tracking run with wandb version 0.19.9"
            ]
          },
          "metadata": {}
        },
        {
          "output_type": "display_data",
          "data": {
            "text/plain": [
              "<IPython.core.display.HTML object>"
            ],
            "text/html": [
              "Run data is saved locally in <code>/content/wandb/run-20250418_234150-l4m7y7wi</code>"
            ]
          },
          "metadata": {}
        },
        {
          "output_type": "display_data",
          "data": {
            "text/plain": [
              "<IPython.core.display.HTML object>"
            ],
            "text/html": [
              "Syncing run <strong><a href='https://wandb.ai/sk11634-new-york-university/huggingface/runs/l4m7y7wi' target=\"_blank\">hardy-microwave-111</a></strong> to <a href='https://wandb.ai/sk11634-new-york-university/huggingface' target=\"_blank\">Weights & Biases</a> (<a href='https://wandb.me/developer-guide' target=\"_blank\">docs</a>)<br>"
            ]
          },
          "metadata": {}
        },
        {
          "output_type": "display_data",
          "data": {
            "text/plain": [
              "<IPython.core.display.HTML object>"
            ],
            "text/html": [
              " View project at <a href='https://wandb.ai/sk11634-new-york-university/huggingface' target=\"_blank\">https://wandb.ai/sk11634-new-york-university/huggingface</a>"
            ]
          },
          "metadata": {}
        },
        {
          "output_type": "display_data",
          "data": {
            "text/plain": [
              "<IPython.core.display.HTML object>"
            ],
            "text/html": [
              " View run at <a href='https://wandb.ai/sk11634-new-york-university/huggingface/runs/l4m7y7wi' target=\"_blank\">https://wandb.ai/sk11634-new-york-university/huggingface/runs/l4m7y7wi</a>"
            ]
          },
          "metadata": {}
        },
        {
          "output_type": "stream",
          "name": "stderr",
          "text": [
            "Using EarlyStoppingCallback without load_best_model_at_end=True. Once training is finished, the best model will not be loaded automatically.\n"
          ]
        },
        {
          "output_type": "display_data",
          "data": {
            "text/plain": [
              "<IPython.core.display.HTML object>"
            ],
            "text/html": [
              "\n",
              "    <div>\n",
              "      \n",
              "      <progress value='200' max='200' style='width:300px; height:20px; vertical-align: middle;'></progress>\n",
              "      [200/200 04:42, Epoch 1/2]\n",
              "    </div>\n",
              "    <table border=\"1\" class=\"dataframe\">\n",
              "  <thead>\n",
              " <tr style=\"text-align: left;\">\n",
              "      <th>Step</th>\n",
              "      <th>Training Loss</th>\n",
              "      <th>Validation Loss</th>\n",
              "      <th>Accuracy</th>\n",
              "      <th>Precision</th>\n",
              "      <th>Recall</th>\n",
              "      <th>F1</th>\n",
              "    </tr>\n",
              "  </thead>\n",
              "  <tbody>\n",
              "    <tr>\n",
              "      <td>50</td>\n",
              "      <td>No log</td>\n",
              "      <td>0.283600</td>\n",
              "      <td>0.902833</td>\n",
              "      <td>0.903065</td>\n",
              "      <td>0.902833</td>\n",
              "      <td>0.902444</td>\n",
              "    </tr>\n",
              "    <tr>\n",
              "      <td>100</td>\n",
              "      <td>No log</td>\n",
              "      <td>0.256999</td>\n",
              "      <td>0.911833</td>\n",
              "      <td>0.911661</td>\n",
              "      <td>0.911833</td>\n",
              "      <td>0.911674</td>\n",
              "    </tr>\n",
              "    <tr>\n",
              "      <td>150</td>\n",
              "      <td>No log</td>\n",
              "      <td>0.245944</td>\n",
              "      <td>0.916833</td>\n",
              "      <td>0.917662</td>\n",
              "      <td>0.916833</td>\n",
              "      <td>0.916762</td>\n",
              "    </tr>\n",
              "    <tr>\n",
              "      <td>200</td>\n",
              "      <td>No log</td>\n",
              "      <td>0.240906</td>\n",
              "      <td>0.915167</td>\n",
              "      <td>0.915094</td>\n",
              "      <td>0.915167</td>\n",
              "      <td>0.914914</td>\n",
              "    </tr>\n",
              "  </tbody>\n",
              "</table><p>"
            ]
          },
          "metadata": {}
        },
        {
          "output_type": "stream",
          "name": "stderr",
          "text": [
            "/usr/local/lib/python3.11/dist-packages/torch/utils/data/dataloader.py:624: UserWarning: This DataLoader will create 4 worker processes in total. Our suggested max number of worker in current system is 2, which is smaller than what this DataLoader is going to create. Please be aware that excessive worker creation might get DataLoader running slow or even freeze, lower the worker number to avoid potential slowness/freeze if necessary.\n",
            "  warnings.warn(\n",
            "/usr/local/lib/python3.11/dist-packages/torch/utils/data/dataloader.py:624: UserWarning: This DataLoader will create 4 worker processes in total. Our suggested max number of worker in current system is 2, which is smaller than what this DataLoader is going to create. Please be aware that excessive worker creation might get DataLoader running slow or even freeze, lower the worker number to avoid potential slowness/freeze if necessary.\n",
            "  warnings.warn(\n",
            "/usr/local/lib/python3.11/dist-packages/torch/utils/data/dataloader.py:624: UserWarning: This DataLoader will create 4 worker processes in total. Our suggested max number of worker in current system is 2, which is smaller than what this DataLoader is going to create. Please be aware that excessive worker creation might get DataLoader running slow or even freeze, lower the worker number to avoid potential slowness/freeze if necessary.\n",
            "  warnings.warn(\n",
            "[I 2025-04-18 23:46:36,957] Trial 15 finished with value: 3.660340493145965 and parameters: {'learning_rate': 0.0004615402338932663, 'batch_size': 32, 'grad_accum': 2, 'weight_decay': 0.01}. Best is trial 15 with value: 3.660340493145965.\n",
            "<ipython-input-28-b45aaca4fadf>:7: FutureWarning: suggest_loguniform has been deprecated in v3.0.0. This feature will be removed in v6.0.0. See https://github.com/optuna/optuna/releases/tag/v3.0.0. Use suggest_float(..., log=True) instead.\n",
            "  \"learning_rate\":               trial.suggest_loguniform(\"learning_rate\", 1e-5, 5e-4),\n",
            "Some weights of RobertaForSequenceClassification were not initialized from the model checkpoint at roberta-base and are newly initialized: ['classifier.dense.bias', 'classifier.dense.weight', 'classifier.out_proj.bias', 'classifier.out_proj.weight']\n",
            "You should probably TRAIN this model on a down-stream task to be able to use it for predictions and inference.\n",
            "/usr/local/lib/python3.11/dist-packages/torch/utils/data/dataloader.py:624: UserWarning: This DataLoader will create 4 worker processes in total. Our suggested max number of worker in current system is 2, which is smaller than what this DataLoader is going to create. Please be aware that excessive worker creation might get DataLoader running slow or even freeze, lower the worker number to avoid potential slowness/freeze if necessary.\n",
            "  warnings.warn(\n"
          ]
        },
        {
          "output_type": "display_data",
          "data": {
            "text/plain": [
              "<IPython.core.display.HTML object>"
            ],
            "text/html": []
          },
          "metadata": {}
        },
        {
          "output_type": "display_data",
          "data": {
            "text/plain": [
              "<IPython.core.display.HTML object>"
            ],
            "text/html": [
              "<br>    <style><br>        .wandb-row {<br>            display: flex;<br>            flex-direction: row;<br>            flex-wrap: wrap;<br>            justify-content: flex-start;<br>            width: 100%;<br>        }<br>        .wandb-col {<br>            display: flex;<br>            flex-direction: column;<br>            flex-basis: 100%;<br>            flex: 1;<br>            padding: 10px;<br>        }<br>    </style><br><div class=\"wandb-row\"><div class=\"wandb-col\"><h3>Run history:</h3><br/><table class=\"wandb\"><tr><td>eval/accuracy</td><td>▁▆█▇</td></tr><tr><td>eval/f1</td><td>▁▆█▇</td></tr><tr><td>eval/loss</td><td>█▄▂▁</td></tr><tr><td>eval/precision</td><td>▁▅█▇</td></tr><tr><td>eval/recall</td><td>▁▆█▇</td></tr><tr><td>eval/runtime</td><td>▁▆▄█</td></tr><tr><td>eval/samples_per_second</td><td>█▃▅▁</td></tr><tr><td>eval/steps_per_second</td><td>█▃▅▁</td></tr><tr><td>train/epoch</td><td>▁▃▆██</td></tr><tr><td>train/global_step</td><td>▁▃▆██</td></tr></table><br/></div><div class=\"wandb-col\"><h3>Run summary:</h3><br/><table class=\"wandb\"><tr><td>eval/accuracy</td><td>0.91517</td></tr><tr><td>eval/f1</td><td>0.91491</td></tr><tr><td>eval/loss</td><td>0.24091</td></tr><tr><td>eval/precision</td><td>0.91509</td></tr><tr><td>eval/recall</td><td>0.91517</td></tr><tr><td>eval/runtime</td><td>30.7089</td></tr><tr><td>eval/samples_per_second</td><td>195.383</td></tr><tr><td>eval/steps_per_second</td><td>24.423</td></tr><tr><td>total_flos</td><td>2255259448544256.0</td></tr><tr><td>train/epoch</td><td>1.064</td></tr><tr><td>train/global_step</td><td>200</td></tr><tr><td>train_loss</td><td>0.35104</td></tr><tr><td>train_runtime</td><td>285.5627</td></tr><tr><td>train_samples_per_second</td><td>44.824</td></tr><tr><td>train_steps_per_second</td><td>0.7</td></tr></table><br/></div></div>"
            ]
          },
          "metadata": {}
        },
        {
          "output_type": "display_data",
          "data": {
            "text/plain": [
              "<IPython.core.display.HTML object>"
            ],
            "text/html": [
              " View run <strong style=\"color:#cdcd00\">hardy-microwave-111</strong> at: <a href='https://wandb.ai/sk11634-new-york-university/huggingface/runs/l4m7y7wi' target=\"_blank\">https://wandb.ai/sk11634-new-york-university/huggingface/runs/l4m7y7wi</a><br> View project at: <a href='https://wandb.ai/sk11634-new-york-university/huggingface' target=\"_blank\">https://wandb.ai/sk11634-new-york-university/huggingface</a><br>Synced 5 W&B file(s), 0 media file(s), 0 artifact file(s) and 0 other file(s)"
            ]
          },
          "metadata": {}
        },
        {
          "output_type": "display_data",
          "data": {
            "text/plain": [
              "<IPython.core.display.HTML object>"
            ],
            "text/html": [
              "Find logs at: <code>./wandb/run-20250418_234150-l4m7y7wi/logs</code>"
            ]
          },
          "metadata": {}
        },
        {
          "output_type": "display_data",
          "data": {
            "text/plain": [
              "<IPython.core.display.HTML object>"
            ],
            "text/html": [
              "Tracking run with wandb version 0.19.9"
            ]
          },
          "metadata": {}
        },
        {
          "output_type": "display_data",
          "data": {
            "text/plain": [
              "<IPython.core.display.HTML object>"
            ],
            "text/html": [
              "Run data is saved locally in <code>/content/wandb/run-20250418_234639-8sqgr0sa</code>"
            ]
          },
          "metadata": {}
        },
        {
          "output_type": "display_data",
          "data": {
            "text/plain": [
              "<IPython.core.display.HTML object>"
            ],
            "text/html": [
              "Syncing run <strong><a href='https://wandb.ai/sk11634-new-york-university/huggingface/runs/8sqgr0sa' target=\"_blank\">polished-sound-114</a></strong> to <a href='https://wandb.ai/sk11634-new-york-university/huggingface' target=\"_blank\">Weights & Biases</a> (<a href='https://wandb.me/developer-guide' target=\"_blank\">docs</a>)<br>"
            ]
          },
          "metadata": {}
        },
        {
          "output_type": "display_data",
          "data": {
            "text/plain": [
              "<IPython.core.display.HTML object>"
            ],
            "text/html": [
              " View project at <a href='https://wandb.ai/sk11634-new-york-university/huggingface' target=\"_blank\">https://wandb.ai/sk11634-new-york-university/huggingface</a>"
            ]
          },
          "metadata": {}
        },
        {
          "output_type": "display_data",
          "data": {
            "text/plain": [
              "<IPython.core.display.HTML object>"
            ],
            "text/html": [
              " View run at <a href='https://wandb.ai/sk11634-new-york-university/huggingface/runs/8sqgr0sa' target=\"_blank\">https://wandb.ai/sk11634-new-york-university/huggingface/runs/8sqgr0sa</a>"
            ]
          },
          "metadata": {}
        },
        {
          "output_type": "stream",
          "name": "stderr",
          "text": [
            "Using EarlyStoppingCallback without load_best_model_at_end=True. Once training is finished, the best model will not be loaded automatically.\n"
          ]
        },
        {
          "output_type": "display_data",
          "data": {
            "text/plain": [
              "<IPython.core.display.HTML object>"
            ],
            "text/html": [
              "\n",
              "    <div>\n",
              "      \n",
              "      <progress value='200' max='200' style='width:300px; height:20px; vertical-align: middle;'></progress>\n",
              "      [200/200 04:41, Epoch 1/2]\n",
              "    </div>\n",
              "    <table border=\"1\" class=\"dataframe\">\n",
              "  <thead>\n",
              " <tr style=\"text-align: left;\">\n",
              "      <th>Step</th>\n",
              "      <th>Training Loss</th>\n",
              "      <th>Validation Loss</th>\n",
              "      <th>Accuracy</th>\n",
              "      <th>Precision</th>\n",
              "      <th>Recall</th>\n",
              "      <th>F1</th>\n",
              "    </tr>\n",
              "  </thead>\n",
              "  <tbody>\n",
              "    <tr>\n",
              "      <td>50</td>\n",
              "      <td>No log</td>\n",
              "      <td>0.299186</td>\n",
              "      <td>0.901333</td>\n",
              "      <td>0.902291</td>\n",
              "      <td>0.901333</td>\n",
              "      <td>0.901272</td>\n",
              "    </tr>\n",
              "    <tr>\n",
              "      <td>100</td>\n",
              "      <td>No log</td>\n",
              "      <td>0.276030</td>\n",
              "      <td>0.906000</td>\n",
              "      <td>0.905594</td>\n",
              "      <td>0.906000</td>\n",
              "      <td>0.905642</td>\n",
              "    </tr>\n",
              "    <tr>\n",
              "      <td>150</td>\n",
              "      <td>No log</td>\n",
              "      <td>0.263274</td>\n",
              "      <td>0.912333</td>\n",
              "      <td>0.912962</td>\n",
              "      <td>0.912333</td>\n",
              "      <td>0.912306</td>\n",
              "    </tr>\n",
              "    <tr>\n",
              "      <td>200</td>\n",
              "      <td>No log</td>\n",
              "      <td>0.261341</td>\n",
              "      <td>0.912000</td>\n",
              "      <td>0.911962</td>\n",
              "      <td>0.912000</td>\n",
              "      <td>0.911785</td>\n",
              "    </tr>\n",
              "  </tbody>\n",
              "</table><p>"
            ]
          },
          "metadata": {}
        },
        {
          "output_type": "stream",
          "name": "stderr",
          "text": [
            "/usr/local/lib/python3.11/dist-packages/torch/utils/data/dataloader.py:624: UserWarning: This DataLoader will create 4 worker processes in total. Our suggested max number of worker in current system is 2, which is smaller than what this DataLoader is going to create. Please be aware that excessive worker creation might get DataLoader running slow or even freeze, lower the worker number to avoid potential slowness/freeze if necessary.\n",
            "  warnings.warn(\n",
            "/usr/local/lib/python3.11/dist-packages/torch/utils/data/dataloader.py:624: UserWarning: This DataLoader will create 4 worker processes in total. Our suggested max number of worker in current system is 2, which is smaller than what this DataLoader is going to create. Please be aware that excessive worker creation might get DataLoader running slow or even freeze, lower the worker number to avoid potential slowness/freeze if necessary.\n",
            "  warnings.warn(\n",
            "/usr/local/lib/python3.11/dist-packages/torch/utils/data/dataloader.py:624: UserWarning: This DataLoader will create 4 worker processes in total. Our suggested max number of worker in current system is 2, which is smaller than what this DataLoader is going to create. Please be aware that excessive worker creation might get DataLoader running slow or even freeze, lower the worker number to avoid potential slowness/freeze if necessary.\n",
            "  warnings.warn(\n",
            "[I 2025-04-18 23:51:23,685] Trial 16 finished with value: 3.647746975795559 and parameters: {'learning_rate': 0.00021412292139040144, 'batch_size': 32, 'grad_accum': 2, 'weight_decay': 0.01}. Best is trial 15 with value: 3.660340493145965.\n",
            "<ipython-input-28-b45aaca4fadf>:7: FutureWarning: suggest_loguniform has been deprecated in v3.0.0. This feature will be removed in v6.0.0. See https://github.com/optuna/optuna/releases/tag/v3.0.0. Use suggest_float(..., log=True) instead.\n",
            "  \"learning_rate\":               trial.suggest_loguniform(\"learning_rate\", 1e-5, 5e-4),\n",
            "Some weights of RobertaForSequenceClassification were not initialized from the model checkpoint at roberta-base and are newly initialized: ['classifier.dense.bias', 'classifier.dense.weight', 'classifier.out_proj.bias', 'classifier.out_proj.weight']\n",
            "You should probably TRAIN this model on a down-stream task to be able to use it for predictions and inference.\n",
            "/usr/local/lib/python3.11/dist-packages/torch/utils/data/dataloader.py:624: UserWarning: This DataLoader will create 4 worker processes in total. Our suggested max number of worker in current system is 2, which is smaller than what this DataLoader is going to create. Please be aware that excessive worker creation might get DataLoader running slow or even freeze, lower the worker number to avoid potential slowness/freeze if necessary.\n",
            "  warnings.warn(\n"
          ]
        },
        {
          "output_type": "display_data",
          "data": {
            "text/plain": [
              "<IPython.core.display.HTML object>"
            ],
            "text/html": []
          },
          "metadata": {}
        },
        {
          "output_type": "display_data",
          "data": {
            "text/plain": [
              "<IPython.core.display.HTML object>"
            ],
            "text/html": [
              "<br>    <style><br>        .wandb-row {<br>            display: flex;<br>            flex-direction: row;<br>            flex-wrap: wrap;<br>            justify-content: flex-start;<br>            width: 100%;<br>        }<br>        .wandb-col {<br>            display: flex;<br>            flex-direction: column;<br>            flex-basis: 100%;<br>            flex: 1;<br>            padding: 10px;<br>        }<br>    </style><br><div class=\"wandb-row\"><div class=\"wandb-col\"><h3>Run history:</h3><br/><table class=\"wandb\"><tr><td>eval/accuracy</td><td>▁▄██</td></tr><tr><td>eval/f1</td><td>▁▄██</td></tr><tr><td>eval/loss</td><td>█▄▁▁</td></tr><tr><td>eval/precision</td><td>▁▃█▇</td></tr><tr><td>eval/recall</td><td>▁▄██</td></tr><tr><td>eval/runtime</td><td>▁█▁▅</td></tr><tr><td>eval/samples_per_second</td><td>█▁█▄</td></tr><tr><td>eval/steps_per_second</td><td>█▁█▄</td></tr><tr><td>train/epoch</td><td>▁▃▆██</td></tr><tr><td>train/global_step</td><td>▁▃▆██</td></tr></table><br/></div><div class=\"wandb-col\"><h3>Run summary:</h3><br/><table class=\"wandb\"><tr><td>eval/accuracy</td><td>0.912</td></tr><tr><td>eval/f1</td><td>0.91178</td></tr><tr><td>eval/loss</td><td>0.26134</td></tr><tr><td>eval/precision</td><td>0.91196</td></tr><tr><td>eval/recall</td><td>0.912</td></tr><tr><td>eval/runtime</td><td>30.6289</td></tr><tr><td>eval/samples_per_second</td><td>195.894</td></tr><tr><td>eval/steps_per_second</td><td>24.487</td></tr><tr><td>total_flos</td><td>2255259448544256.0</td></tr><tr><td>train/epoch</td><td>1.064</td></tr><tr><td>train/global_step</td><td>200</td></tr><tr><td>train_loss</td><td>0.40219</td></tr><tr><td>train_runtime</td><td>284.7434</td></tr><tr><td>train_samples_per_second</td><td>44.953</td></tr><tr><td>train_steps_per_second</td><td>0.702</td></tr></table><br/></div></div>"
            ]
          },
          "metadata": {}
        },
        {
          "output_type": "display_data",
          "data": {
            "text/plain": [
              "<IPython.core.display.HTML object>"
            ],
            "text/html": [
              " View run <strong style=\"color:#cdcd00\">polished-sound-114</strong> at: <a href='https://wandb.ai/sk11634-new-york-university/huggingface/runs/8sqgr0sa' target=\"_blank\">https://wandb.ai/sk11634-new-york-university/huggingface/runs/8sqgr0sa</a><br> View project at: <a href='https://wandb.ai/sk11634-new-york-university/huggingface' target=\"_blank\">https://wandb.ai/sk11634-new-york-university/huggingface</a><br>Synced 5 W&B file(s), 0 media file(s), 0 artifact file(s) and 0 other file(s)"
            ]
          },
          "metadata": {}
        },
        {
          "output_type": "display_data",
          "data": {
            "text/plain": [
              "<IPython.core.display.HTML object>"
            ],
            "text/html": [
              "Find logs at: <code>./wandb/run-20250418_234639-8sqgr0sa/logs</code>"
            ]
          },
          "metadata": {}
        },
        {
          "output_type": "display_data",
          "data": {
            "text/plain": [
              "<IPython.core.display.HTML object>"
            ],
            "text/html": [
              "Tracking run with wandb version 0.19.9"
            ]
          },
          "metadata": {}
        },
        {
          "output_type": "display_data",
          "data": {
            "text/plain": [
              "<IPython.core.display.HTML object>"
            ],
            "text/html": [
              "Run data is saved locally in <code>/content/wandb/run-20250418_235125-hgcw16aq</code>"
            ]
          },
          "metadata": {}
        },
        {
          "output_type": "display_data",
          "data": {
            "text/plain": [
              "<IPython.core.display.HTML object>"
            ],
            "text/html": [
              "Syncing run <strong><a href='https://wandb.ai/sk11634-new-york-university/huggingface/runs/hgcw16aq' target=\"_blank\">cool-field-117</a></strong> to <a href='https://wandb.ai/sk11634-new-york-university/huggingface' target=\"_blank\">Weights & Biases</a> (<a href='https://wandb.me/developer-guide' target=\"_blank\">docs</a>)<br>"
            ]
          },
          "metadata": {}
        },
        {
          "output_type": "display_data",
          "data": {
            "text/plain": [
              "<IPython.core.display.HTML object>"
            ],
            "text/html": [
              " View project at <a href='https://wandb.ai/sk11634-new-york-university/huggingface' target=\"_blank\">https://wandb.ai/sk11634-new-york-university/huggingface</a>"
            ]
          },
          "metadata": {}
        },
        {
          "output_type": "display_data",
          "data": {
            "text/plain": [
              "<IPython.core.display.HTML object>"
            ],
            "text/html": [
              " View run at <a href='https://wandb.ai/sk11634-new-york-university/huggingface/runs/hgcw16aq' target=\"_blank\">https://wandb.ai/sk11634-new-york-university/huggingface/runs/hgcw16aq</a>"
            ]
          },
          "metadata": {}
        },
        {
          "output_type": "stream",
          "name": "stderr",
          "text": [
            "Using EarlyStoppingCallback without load_best_model_at_end=True. Once training is finished, the best model will not be loaded automatically.\n"
          ]
        },
        {
          "output_type": "display_data",
          "data": {
            "text/plain": [
              "<IPython.core.display.HTML object>"
            ],
            "text/html": [
              "\n",
              "    <div>\n",
              "      \n",
              "      <progress value='200' max='200' style='width:300px; height:20px; vertical-align: middle;'></progress>\n",
              "      [200/200 04:41, Epoch 1/2]\n",
              "    </div>\n",
              "    <table border=\"1\" class=\"dataframe\">\n",
              "  <thead>\n",
              " <tr style=\"text-align: left;\">\n",
              "      <th>Step</th>\n",
              "      <th>Training Loss</th>\n",
              "      <th>Validation Loss</th>\n",
              "      <th>Accuracy</th>\n",
              "      <th>Precision</th>\n",
              "      <th>Recall</th>\n",
              "      <th>F1</th>\n",
              "    </tr>\n",
              "  </thead>\n",
              "  <tbody>\n",
              "    <tr>\n",
              "      <td>50</td>\n",
              "      <td>No log</td>\n",
              "      <td>0.292169</td>\n",
              "      <td>0.901000</td>\n",
              "      <td>0.904093</td>\n",
              "      <td>0.901000</td>\n",
              "      <td>0.900870</td>\n",
              "    </tr>\n",
              "    <tr>\n",
              "      <td>100</td>\n",
              "      <td>No log</td>\n",
              "      <td>0.260912</td>\n",
              "      <td>0.912833</td>\n",
              "      <td>0.912743</td>\n",
              "      <td>0.912833</td>\n",
              "      <td>0.912730</td>\n",
              "    </tr>\n",
              "    <tr>\n",
              "      <td>150</td>\n",
              "      <td>No log</td>\n",
              "      <td>0.250309</td>\n",
              "      <td>0.916167</td>\n",
              "      <td>0.917465</td>\n",
              "      <td>0.916167</td>\n",
              "      <td>0.916096</td>\n",
              "    </tr>\n",
              "    <tr>\n",
              "      <td>200</td>\n",
              "      <td>No log</td>\n",
              "      <td>0.241288</td>\n",
              "      <td>0.914833</td>\n",
              "      <td>0.914750</td>\n",
              "      <td>0.914833</td>\n",
              "      <td>0.914611</td>\n",
              "    </tr>\n",
              "  </tbody>\n",
              "</table><p>"
            ]
          },
          "metadata": {}
        },
        {
          "output_type": "stream",
          "name": "stderr",
          "text": [
            "/usr/local/lib/python3.11/dist-packages/torch/utils/data/dataloader.py:624: UserWarning: This DataLoader will create 4 worker processes in total. Our suggested max number of worker in current system is 2, which is smaller than what this DataLoader is going to create. Please be aware that excessive worker creation might get DataLoader running slow or even freeze, lower the worker number to avoid potential slowness/freeze if necessary.\n",
            "  warnings.warn(\n",
            "/usr/local/lib/python3.11/dist-packages/torch/utils/data/dataloader.py:624: UserWarning: This DataLoader will create 4 worker processes in total. Our suggested max number of worker in current system is 2, which is smaller than what this DataLoader is going to create. Please be aware that excessive worker creation might get DataLoader running slow or even freeze, lower the worker number to avoid potential slowness/freeze if necessary.\n",
            "  warnings.warn(\n",
            "/usr/local/lib/python3.11/dist-packages/torch/utils/data/dataloader.py:624: UserWarning: This DataLoader will create 4 worker processes in total. Our suggested max number of worker in current system is 2, which is smaller than what this DataLoader is going to create. Please be aware that excessive worker creation might get DataLoader running slow or even freeze, lower the worker number to avoid potential slowness/freeze if necessary.\n",
            "  warnings.warn(\n",
            "[I 2025-04-18 23:56:10,916] Trial 17 finished with value: 3.659027897493248 and parameters: {'learning_rate': 0.0004986910619658164, 'batch_size': 32, 'grad_accum': 2, 'weight_decay': 0.01}. Best is trial 15 with value: 3.660340493145965.\n",
            "<ipython-input-28-b45aaca4fadf>:7: FutureWarning: suggest_loguniform has been deprecated in v3.0.0. This feature will be removed in v6.0.0. See https://github.com/optuna/optuna/releases/tag/v3.0.0. Use suggest_float(..., log=True) instead.\n",
            "  \"learning_rate\":               trial.suggest_loguniform(\"learning_rate\", 1e-5, 5e-4),\n",
            "Some weights of RobertaForSequenceClassification were not initialized from the model checkpoint at roberta-base and are newly initialized: ['classifier.dense.bias', 'classifier.dense.weight', 'classifier.out_proj.bias', 'classifier.out_proj.weight']\n",
            "You should probably TRAIN this model on a down-stream task to be able to use it for predictions and inference.\n",
            "/usr/local/lib/python3.11/dist-packages/torch/utils/data/dataloader.py:624: UserWarning: This DataLoader will create 4 worker processes in total. Our suggested max number of worker in current system is 2, which is smaller than what this DataLoader is going to create. Please be aware that excessive worker creation might get DataLoader running slow or even freeze, lower the worker number to avoid potential slowness/freeze if necessary.\n",
            "  warnings.warn(\n"
          ]
        },
        {
          "output_type": "display_data",
          "data": {
            "text/plain": [
              "<IPython.core.display.HTML object>"
            ],
            "text/html": []
          },
          "metadata": {}
        },
        {
          "output_type": "display_data",
          "data": {
            "text/plain": [
              "<IPython.core.display.HTML object>"
            ],
            "text/html": [
              "<br>    <style><br>        .wandb-row {<br>            display: flex;<br>            flex-direction: row;<br>            flex-wrap: wrap;<br>            justify-content: flex-start;<br>            width: 100%;<br>        }<br>        .wandb-col {<br>            display: flex;<br>            flex-direction: column;<br>            flex-basis: 100%;<br>            flex: 1;<br>            padding: 10px;<br>        }<br>    </style><br><div class=\"wandb-row\"><div class=\"wandb-col\"><h3>Run history:</h3><br/><table class=\"wandb\"><tr><td>eval/accuracy</td><td>▁▆█▇</td></tr><tr><td>eval/f1</td><td>▁▆█▇</td></tr><tr><td>eval/loss</td><td>█▄▂▁</td></tr><tr><td>eval/precision</td><td>▁▆█▇</td></tr><tr><td>eval/recall</td><td>▁▆█▇</td></tr><tr><td>eval/runtime</td><td>▇▁█▄</td></tr><tr><td>eval/samples_per_second</td><td>▂█▁▅</td></tr><tr><td>eval/steps_per_second</td><td>▂█▁▅</td></tr><tr><td>train/epoch</td><td>▁▃▆██</td></tr><tr><td>train/global_step</td><td>▁▃▆██</td></tr></table><br/></div><div class=\"wandb-col\"><h3>Run summary:</h3><br/><table class=\"wandb\"><tr><td>eval/accuracy</td><td>0.91483</td></tr><tr><td>eval/f1</td><td>0.91461</td></tr><tr><td>eval/loss</td><td>0.24129</td></tr><tr><td>eval/precision</td><td>0.91475</td></tr><tr><td>eval/recall</td><td>0.91483</td></tr><tr><td>eval/runtime</td><td>30.4641</td></tr><tr><td>eval/samples_per_second</td><td>196.953</td></tr><tr><td>eval/steps_per_second</td><td>24.619</td></tr><tr><td>total_flos</td><td>2255259448544256.0</td></tr><tr><td>train/epoch</td><td>1.064</td></tr><tr><td>train/global_step</td><td>200</td></tr><tr><td>train_loss</td><td>0.35536</td></tr><tr><td>train_runtime</td><td>285.2719</td></tr><tr><td>train_samples_per_second</td><td>44.869</td></tr><tr><td>train_steps_per_second</td><td>0.701</td></tr></table><br/></div></div>"
            ]
          },
          "metadata": {}
        },
        {
          "output_type": "display_data",
          "data": {
            "text/plain": [
              "<IPython.core.display.HTML object>"
            ],
            "text/html": [
              " View run <strong style=\"color:#cdcd00\">cool-field-117</strong> at: <a href='https://wandb.ai/sk11634-new-york-university/huggingface/runs/hgcw16aq' target=\"_blank\">https://wandb.ai/sk11634-new-york-university/huggingface/runs/hgcw16aq</a><br> View project at: <a href='https://wandb.ai/sk11634-new-york-university/huggingface' target=\"_blank\">https://wandb.ai/sk11634-new-york-university/huggingface</a><br>Synced 5 W&B file(s), 0 media file(s), 0 artifact file(s) and 0 other file(s)"
            ]
          },
          "metadata": {}
        },
        {
          "output_type": "display_data",
          "data": {
            "text/plain": [
              "<IPython.core.display.HTML object>"
            ],
            "text/html": [
              "Find logs at: <code>./wandb/run-20250418_235125-hgcw16aq/logs</code>"
            ]
          },
          "metadata": {}
        },
        {
          "output_type": "display_data",
          "data": {
            "text/plain": [
              "<IPython.core.display.HTML object>"
            ],
            "text/html": [
              "Tracking run with wandb version 0.19.9"
            ]
          },
          "metadata": {}
        },
        {
          "output_type": "display_data",
          "data": {
            "text/plain": [
              "<IPython.core.display.HTML object>"
            ],
            "text/html": [
              "Run data is saved locally in <code>/content/wandb/run-20250418_235613-iw1gk8yk</code>"
            ]
          },
          "metadata": {}
        },
        {
          "output_type": "display_data",
          "data": {
            "text/plain": [
              "<IPython.core.display.HTML object>"
            ],
            "text/html": [
              "Syncing run <strong><a href='https://wandb.ai/sk11634-new-york-university/huggingface/runs/iw1gk8yk' target=\"_blank\">noble-plasma-119</a></strong> to <a href='https://wandb.ai/sk11634-new-york-university/huggingface' target=\"_blank\">Weights & Biases</a> (<a href='https://wandb.me/developer-guide' target=\"_blank\">docs</a>)<br>"
            ]
          },
          "metadata": {}
        },
        {
          "output_type": "display_data",
          "data": {
            "text/plain": [
              "<IPython.core.display.HTML object>"
            ],
            "text/html": [
              " View project at <a href='https://wandb.ai/sk11634-new-york-university/huggingface' target=\"_blank\">https://wandb.ai/sk11634-new-york-university/huggingface</a>"
            ]
          },
          "metadata": {}
        },
        {
          "output_type": "display_data",
          "data": {
            "text/plain": [
              "<IPython.core.display.HTML object>"
            ],
            "text/html": [
              " View run at <a href='https://wandb.ai/sk11634-new-york-university/huggingface/runs/iw1gk8yk' target=\"_blank\">https://wandb.ai/sk11634-new-york-university/huggingface/runs/iw1gk8yk</a>"
            ]
          },
          "metadata": {}
        },
        {
          "output_type": "stream",
          "name": "stderr",
          "text": [
            "Using EarlyStoppingCallback without load_best_model_at_end=True. Once training is finished, the best model will not be loaded automatically.\n"
          ]
        },
        {
          "output_type": "display_data",
          "data": {
            "text/plain": [
              "<IPython.core.display.HTML object>"
            ],
            "text/html": [
              "\n",
              "    <div>\n",
              "      \n",
              "      <progress value='150' max='200' style='width:300px; height:20px; vertical-align: middle;'></progress>\n",
              "      [150/200 03:31 < 01:11, 0.70 it/s, Epoch 0/2]\n",
              "    </div>\n",
              "    <table border=\"1\" class=\"dataframe\">\n",
              "  <thead>\n",
              " <tr style=\"text-align: left;\">\n",
              "      <th>Step</th>\n",
              "      <th>Training Loss</th>\n",
              "      <th>Validation Loss</th>\n",
              "      <th>Accuracy</th>\n",
              "      <th>Precision</th>\n",
              "      <th>Recall</th>\n",
              "      <th>F1</th>\n",
              "    </tr>\n",
              "  </thead>\n",
              "  <tbody>\n",
              "    <tr>\n",
              "      <td>50</td>\n",
              "      <td>No log</td>\n",
              "      <td>0.315634</td>\n",
              "      <td>0.898333</td>\n",
              "      <td>0.898854</td>\n",
              "      <td>0.898333</td>\n",
              "      <td>0.898129</td>\n",
              "    </tr>\n",
              "    <tr>\n",
              "      <td>100</td>\n",
              "      <td>No log</td>\n",
              "      <td>0.280613</td>\n",
              "      <td>0.906833</td>\n",
              "      <td>0.906839</td>\n",
              "      <td>0.906833</td>\n",
              "      <td>0.906579</td>\n",
              "    </tr>\n",
              "    <tr>\n",
              "      <td>150</td>\n",
              "      <td>No log</td>\n",
              "      <td>0.276229</td>\n",
              "      <td>0.906833</td>\n",
              "      <td>0.908941</td>\n",
              "      <td>0.906833</td>\n",
              "      <td>0.906933</td>\n",
              "    </tr>\n",
              "  </tbody>\n",
              "</table><p>"
            ]
          },
          "metadata": {}
        },
        {
          "output_type": "stream",
          "name": "stderr",
          "text": [
            "/usr/local/lib/python3.11/dist-packages/torch/utils/data/dataloader.py:624: UserWarning: This DataLoader will create 4 worker processes in total. Our suggested max number of worker in current system is 2, which is smaller than what this DataLoader is going to create. Please be aware that excessive worker creation might get DataLoader running slow or even freeze, lower the worker number to avoid potential slowness/freeze if necessary.\n",
            "  warnings.warn(\n",
            "/usr/local/lib/python3.11/dist-packages/torch/utils/data/dataloader.py:624: UserWarning: This DataLoader will create 4 worker processes in total. Our suggested max number of worker in current system is 2, which is smaller than what this DataLoader is going to create. Please be aware that excessive worker creation might get DataLoader running slow or even freeze, lower the worker number to avoid potential slowness/freeze if necessary.\n",
            "  warnings.warn(\n",
            "[I 2025-04-18 23:59:47,039] Trial 18 pruned. \n",
            "<ipython-input-28-b45aaca4fadf>:7: FutureWarning: suggest_loguniform has been deprecated in v3.0.0. This feature will be removed in v6.0.0. See https://github.com/optuna/optuna/releases/tag/v3.0.0. Use suggest_float(..., log=True) instead.\n",
            "  \"learning_rate\":               trial.suggest_loguniform(\"learning_rate\", 1e-5, 5e-4),\n",
            "Some weights of RobertaForSequenceClassification were not initialized from the model checkpoint at roberta-base and are newly initialized: ['classifier.dense.bias', 'classifier.dense.weight', 'classifier.out_proj.bias', 'classifier.out_proj.weight']\n",
            "You should probably TRAIN this model on a down-stream task to be able to use it for predictions and inference.\n",
            "/usr/local/lib/python3.11/dist-packages/torch/utils/data/dataloader.py:624: UserWarning: This DataLoader will create 4 worker processes in total. Our suggested max number of worker in current system is 2, which is smaller than what this DataLoader is going to create. Please be aware that excessive worker creation might get DataLoader running slow or even freeze, lower the worker number to avoid potential slowness/freeze if necessary.\n",
            "  warnings.warn(\n"
          ]
        },
        {
          "output_type": "display_data",
          "data": {
            "text/plain": [
              "<IPython.core.display.HTML object>"
            ],
            "text/html": []
          },
          "metadata": {}
        },
        {
          "output_type": "display_data",
          "data": {
            "text/plain": [
              "<IPython.core.display.HTML object>"
            ],
            "text/html": [
              "<br>    <style><br>        .wandb-row {<br>            display: flex;<br>            flex-direction: row;<br>            flex-wrap: wrap;<br>            justify-content: flex-start;<br>            width: 100%;<br>        }<br>        .wandb-col {<br>            display: flex;<br>            flex-direction: column;<br>            flex-basis: 100%;<br>            flex: 1;<br>            padding: 10px;<br>        }<br>    </style><br><div class=\"wandb-row\"><div class=\"wandb-col\"><h3>Run history:</h3><br/><table class=\"wandb\"><tr><td>eval/accuracy</td><td>▁██</td></tr><tr><td>eval/f1</td><td>▁██</td></tr><tr><td>eval/loss</td><td>█▂▁</td></tr><tr><td>eval/precision</td><td>▁▇█</td></tr><tr><td>eval/recall</td><td>▁██</td></tr><tr><td>eval/runtime</td><td>▅█▁</td></tr><tr><td>eval/samples_per_second</td><td>▄▁█</td></tr><tr><td>eval/steps_per_second</td><td>▄▁█</td></tr><tr><td>train/epoch</td><td>▁▅█</td></tr><tr><td>train/global_step</td><td>▁▅█</td></tr></table><br/></div><div class=\"wandb-col\"><h3>Run summary:</h3><br/><table class=\"wandb\"><tr><td>eval/accuracy</td><td>0.90683</td></tr><tr><td>eval/f1</td><td>0.90693</td></tr><tr><td>eval/loss</td><td>0.27623</td></tr><tr><td>eval/precision</td><td>0.90894</td></tr><tr><td>eval/recall</td><td>0.90683</td></tr><tr><td>eval/runtime</td><td>30.3463</td></tr><tr><td>eval/samples_per_second</td><td>197.718</td></tr><tr><td>eval/steps_per_second</td><td>24.715</td></tr><tr><td>train/epoch</td><td>0.8</td></tr><tr><td>train/global_step</td><td>150</td></tr></table><br/></div></div>"
            ]
          },
          "metadata": {}
        },
        {
          "output_type": "display_data",
          "data": {
            "text/plain": [
              "<IPython.core.display.HTML object>"
            ],
            "text/html": [
              " View run <strong style=\"color:#cdcd00\">noble-plasma-119</strong> at: <a href='https://wandb.ai/sk11634-new-york-university/huggingface/runs/iw1gk8yk' target=\"_blank\">https://wandb.ai/sk11634-new-york-university/huggingface/runs/iw1gk8yk</a><br> View project at: <a href='https://wandb.ai/sk11634-new-york-university/huggingface' target=\"_blank\">https://wandb.ai/sk11634-new-york-university/huggingface</a><br>Synced 5 W&B file(s), 0 media file(s), 0 artifact file(s) and 0 other file(s)"
            ]
          },
          "metadata": {}
        },
        {
          "output_type": "display_data",
          "data": {
            "text/plain": [
              "<IPython.core.display.HTML object>"
            ],
            "text/html": [
              "Find logs at: <code>./wandb/run-20250418_235613-iw1gk8yk/logs</code>"
            ]
          },
          "metadata": {}
        },
        {
          "output_type": "display_data",
          "data": {
            "text/plain": [
              "<IPython.core.display.HTML object>"
            ],
            "text/html": [
              "Tracking run with wandb version 0.19.9"
            ]
          },
          "metadata": {}
        },
        {
          "output_type": "display_data",
          "data": {
            "text/plain": [
              "<IPython.core.display.HTML object>"
            ],
            "text/html": [
              "Run data is saved locally in <code>/content/wandb/run-20250418_235949-duwpjy86</code>"
            ]
          },
          "metadata": {}
        },
        {
          "output_type": "display_data",
          "data": {
            "text/plain": [
              "<IPython.core.display.HTML object>"
            ],
            "text/html": [
              "Syncing run <strong><a href='https://wandb.ai/sk11634-new-york-university/huggingface/runs/duwpjy86' target=\"_blank\">divine-disco-121</a></strong> to <a href='https://wandb.ai/sk11634-new-york-university/huggingface' target=\"_blank\">Weights & Biases</a> (<a href='https://wandb.me/developer-guide' target=\"_blank\">docs</a>)<br>"
            ]
          },
          "metadata": {}
        },
        {
          "output_type": "display_data",
          "data": {
            "text/plain": [
              "<IPython.core.display.HTML object>"
            ],
            "text/html": [
              " View project at <a href='https://wandb.ai/sk11634-new-york-university/huggingface' target=\"_blank\">https://wandb.ai/sk11634-new-york-university/huggingface</a>"
            ]
          },
          "metadata": {}
        },
        {
          "output_type": "display_data",
          "data": {
            "text/plain": [
              "<IPython.core.display.HTML object>"
            ],
            "text/html": [
              " View run at <a href='https://wandb.ai/sk11634-new-york-university/huggingface/runs/duwpjy86' target=\"_blank\">https://wandb.ai/sk11634-new-york-university/huggingface/runs/duwpjy86</a>"
            ]
          },
          "metadata": {}
        },
        {
          "output_type": "stream",
          "name": "stderr",
          "text": [
            "Using EarlyStoppingCallback without load_best_model_at_end=True. Once training is finished, the best model will not be loaded automatically.\n"
          ]
        },
        {
          "output_type": "display_data",
          "data": {
            "text/plain": [
              "<IPython.core.display.HTML object>"
            ],
            "text/html": [
              "\n",
              "    <div>\n",
              "      \n",
              "      <progress value='200' max='200' style='width:300px; height:20px; vertical-align: middle;'></progress>\n",
              "      [200/200 04:42, Epoch 1/2]\n",
              "    </div>\n",
              "    <table border=\"1\" class=\"dataframe\">\n",
              "  <thead>\n",
              " <tr style=\"text-align: left;\">\n",
              "      <th>Step</th>\n",
              "      <th>Training Loss</th>\n",
              "      <th>Validation Loss</th>\n",
              "      <th>Accuracy</th>\n",
              "      <th>Precision</th>\n",
              "      <th>Recall</th>\n",
              "      <th>F1</th>\n",
              "    </tr>\n",
              "  </thead>\n",
              "  <tbody>\n",
              "    <tr>\n",
              "      <td>50</td>\n",
              "      <td>No log</td>\n",
              "      <td>0.295884</td>\n",
              "      <td>0.900667</td>\n",
              "      <td>0.901650</td>\n",
              "      <td>0.900667</td>\n",
              "      <td>0.900470</td>\n",
              "    </tr>\n",
              "    <tr>\n",
              "      <td>100</td>\n",
              "      <td>No log</td>\n",
              "      <td>0.266410</td>\n",
              "      <td>0.911000</td>\n",
              "      <td>0.910727</td>\n",
              "      <td>0.911000</td>\n",
              "      <td>0.910821</td>\n",
              "    </tr>\n",
              "    <tr>\n",
              "      <td>150</td>\n",
              "      <td>No log</td>\n",
              "      <td>0.259376</td>\n",
              "      <td>0.913000</td>\n",
              "      <td>0.914048</td>\n",
              "      <td>0.913000</td>\n",
              "      <td>0.912955</td>\n",
              "    </tr>\n",
              "    <tr>\n",
              "      <td>200</td>\n",
              "      <td>No log</td>\n",
              "      <td>0.251551</td>\n",
              "      <td>0.914833</td>\n",
              "      <td>0.914783</td>\n",
              "      <td>0.914833</td>\n",
              "      <td>0.914596</td>\n",
              "    </tr>\n",
              "  </tbody>\n",
              "</table><p>"
            ]
          },
          "metadata": {}
        },
        {
          "output_type": "stream",
          "name": "stderr",
          "text": [
            "/usr/local/lib/python3.11/dist-packages/torch/utils/data/dataloader.py:624: UserWarning: This DataLoader will create 4 worker processes in total. Our suggested max number of worker in current system is 2, which is smaller than what this DataLoader is going to create. Please be aware that excessive worker creation might get DataLoader running slow or even freeze, lower the worker number to avoid potential slowness/freeze if necessary.\n",
            "  warnings.warn(\n",
            "/usr/local/lib/python3.11/dist-packages/torch/utils/data/dataloader.py:624: UserWarning: This DataLoader will create 4 worker processes in total. Our suggested max number of worker in current system is 2, which is smaller than what this DataLoader is going to create. Please be aware that excessive worker creation might get DataLoader running slow or even freeze, lower the worker number to avoid potential slowness/freeze if necessary.\n",
            "  warnings.warn(\n",
            "/usr/local/lib/python3.11/dist-packages/torch/utils/data/dataloader.py:624: UserWarning: This DataLoader will create 4 worker processes in total. Our suggested max number of worker in current system is 2, which is smaller than what this DataLoader is going to create. Please be aware that excessive worker creation might get DataLoader running slow or even freeze, lower the worker number to avoid potential slowness/freeze if necessary.\n",
            "  warnings.warn(\n",
            "[I 2025-04-19 00:04:35,691] Trial 19 finished with value: 3.6590458997045268 and parameters: {'learning_rate': 0.0003082828954387067, 'batch_size': 32, 'grad_accum': 2, 'weight_decay': 0.01}. Best is trial 15 with value: 3.660340493145965.\n"
          ]
        },
        {
          "output_type": "stream",
          "name": "stdout",
          "text": [
            "Best hyperparameters: {'learning_rate': 0.0004615402338932663, 'batch_size': 32, 'grad_accum': 2, 'weight_decay': 0.01}\n"
          ]
        }
      ],
      "execution_count": 28
    },
    {
      "id": "T_rcuhxpgK4l",
      "cell_type": "code",
      "source": [
        "best = best_run.hyperparameters\n",
        "print(best)\n",
        "\n",
        "# statically inserting for now (only tweaked num_epochs so!)\n",
        "final_peft = LoraConfig(\n",
        "    r = 10, # rank of updated matrices! (U)\n",
        "    lora_alpha = 64, # scaling factor for learned updates controlling the strength of LORA adaption (U)\n",
        "    lora_dropout = 0.1, # prob for the dropping LORA layers (helps in regularization)\n",
        "    bias = \"none\", # specifies if we want to apply bias to LORA updates\n",
        "    target_modules = [\"query\",\"value\"],  # specifies which target modules do I need to apply LORA to, in our case (query and value modules of the pre-trained RobertaModel!)\n",
        "    task_type = \"SEQ_CLS\", # determines what type of task are we performing and acc applies LORA!\n",
        ")\n",
        "\n",
        "# Reloading the base (the backbone never changes, we will fine‑tune on top of it)\n",
        "final_base = RobertaForSequenceClassification.from_pretrained(\n",
        "    # \"roberta-base\", id2label=id2label, quantization_config=quantization_config\n",
        "    \"roberta-base\", id2label=id2label\n",
        ")\n",
        "\n",
        "final_model = get_peft_model(final_base, final_peft).to(device)\n",
        "\n",
        "# Finally, rebuilding my TrainingArguments from the best values after hyperparameter fine-tuning!\n",
        "output_dir = \"result\"\n",
        "final_training_args = TrainingArguments(\n",
        "    output_dir=output_dir,\n",
        "    learning_rate = best[\"learning_rate\"],\n",
        "    per_device_train_batch_size = best[\"batch_size\"],\n",
        "    gradient_accumulation_steps = best[\"grad_accum\"],\n",
        "    weight_decay=best[\"weight_decay\"],\n",
        "    report_to=None,\n",
        "    eval_strategy='steps',\n",
        "    logging_steps=50,\n",
        "    num_train_epochs=1,\n",
        "    lr_scheduler_type='cosine_with_restarts',\n",
        "    max_steps=2000,\n",
        "    warmup_ratio=0.1,\n",
        "    use_cpu=False,\n",
        "    dataloader_num_workers=4,\n",
        "    per_device_eval_batch_size=64,\n",
        "    gradient_checkpointing=False,\n",
        "    gradient_checkpointing_kwargs={'use_reentrant':True},\n",
        "    eval_steps=400,\n",
        "    fp16=True,\n",
        "    optim = \"adamw_torch\",\n",
        "    # bf16=True,\n",
        "    save_strategy=\"steps\",\n",
        "    save_steps=400,\n",
        "    save_total_limit=2,\n",
        "    label_names=[\"labels\"], # U\n",
        "    load_best_model_at_end= True, # U\n",
        "    metric_for_best_model= \"eval_accuracy\", # U\n",
        "    greater_is_better= True, # U\n",
        ")\n",
        "\n",
        "final_trainer = Trainer(\n",
        "    model = final_model,\n",
        "    args = final_training_args,\n",
        "    compute_metrics= compute_metrics,\n",
        "    train_dataset= train_set,\n",
        "    eval_dataset= test_set,\n",
        "    data_collator = datacollator,\n",
        "    callbacks = [EarlyStoppingCallback(early_stopping_patience= 3)]\n",
        ")"
      ],
      "metadata": {
        "id": "T_rcuhxpgK4l",
        "trusted": true,
        "colab": {
          "base_uri": "https://localhost:8080/"
        },
        "outputId": "7a7b3123-c061-4604-b2a3-59c30a2b66ec"
      },
      "outputs": [
        {
          "output_type": "stream",
          "name": "stdout",
          "text": [
            "{'learning_rate': 0.0004615402338932663, 'batch_size': 32, 'grad_accum': 2, 'weight_decay': 0.01}\n"
          ]
        },
        {
          "output_type": "stream",
          "name": "stderr",
          "text": [
            "Some weights of RobertaForSequenceClassification were not initialized from the model checkpoint at roberta-base and are newly initialized: ['classifier.dense.bias', 'classifier.dense.weight', 'classifier.out_proj.bias', 'classifier.out_proj.weight']\n",
            "You should probably TRAIN this model on a down-stream task to be able to use it for predictions and inference.\n"
          ]
        }
      ],
      "execution_count": 31
    },
    {
      "id": "9b848278",
      "cell_type": "markdown",
      "source": [
        "### Start Training"
      ],
      "metadata": {
        "id": "9b848278"
      }
    },
    {
      "id": "7yjPZcyMZz0q",
      "cell_type": "code",
      "source": [
        "# # my actual trainer\n",
        "# peft_lora_finetuning_trainer = (final_model)\n",
        "\n",
        "# # for name, param in peft_lora_finetuning_trainer.named_parameters():\n",
        "# #   if param.requires_grad:\n",
        "# #     print(name)\n",
        "\n",
        "\n",
        "# # my expected results once model is trained\n",
        "# result = peft_lora_finetuning_trainer.train()\n",
        "# print(result)\n",
        "\n",
        "result = final_trainer.train()\n",
        "print(result)"
      ],
      "metadata": {
        "id": "7yjPZcyMZz0q",
        "trusted": true,
        "colab": {
          "base_uri": "https://localhost:8080/",
          "height": 653
        },
        "outputId": "8ce2b365-442c-46f6-e24d-d5868e37b974"
      },
      "outputs": [
        {
          "metadata": {
            "tags": null
          },
          "name": "stderr",
          "output_type": "stream",
          "text": [
            "/usr/local/lib/python3.11/dist-packages/torch/utils/data/dataloader.py:624: UserWarning: This DataLoader will create 4 worker processes in total. Our suggested max number of worker in current system is 2, which is smaller than what this DataLoader is going to create. Please be aware that excessive worker creation might get DataLoader running slow or even freeze, lower the worker number to avoid potential slowness/freeze if necessary.\n",
            "  warnings.warn(\n",
            "\u001b[34m\u001b[1mwandb\u001b[0m: \u001b[33mWARNING\u001b[0m The `run_name` is currently set to the same value as `TrainingArguments.output_dir`. If this was not intended, please specify a different run name by setting the `TrainingArguments.run_name` parameter.\n"
          ]
        },
        {
          "data": {
            "text/html": [
              "\n",
              "    <div>\n",
              "      \n",
              "      <progress value='1995' max='2000' style='width:300px; height:20px; vertical-align: middle;'></progress>\n",
              "      [1995/2000 26:48 < 00:04, 1.24 it/s, Epoch 1.07/2]\n",
              "    </div>\n",
              "    <table border=\"1\" class=\"dataframe\">\n",
              "  <thead>\n",
              " <tr style=\"text-align: left;\">\n",
              "      <th>Step</th>\n",
              "      <th>Training Loss</th>\n",
              "      <th>Validation Loss</th>\n",
              "      <th>Accuracy</th>\n",
              "      <th>Precision</th>\n",
              "      <th>Recall</th>\n",
              "      <th>F1</th>\n",
              "    </tr>\n",
              "  </thead>\n",
              "  <tbody>\n",
              "    <tr>\n",
              "      <td>400</td>\n",
              "      <td>0.259600</td>\n",
              "      <td>0.267410</td>\n",
              "      <td>0.921875</td>\n",
              "      <td>0.921510</td>\n",
              "      <td>0.921875</td>\n",
              "      <td>0.921524</td>\n",
              "    </tr>\n",
              "    <tr>\n",
              "      <td>800</td>\n",
              "      <td>0.216600</td>\n",
              "      <td>0.203550</td>\n",
              "      <td>0.923438</td>\n",
              "      <td>0.923392</td>\n",
              "      <td>0.923438</td>\n",
              "      <td>0.923402</td>\n",
              "    </tr>\n",
              "    <tr>\n",
              "      <td>1200</td>\n",
              "      <td>0.198000</td>\n",
              "      <td>0.202869</td>\n",
              "      <td>0.932813</td>\n",
              "      <td>0.932856</td>\n",
              "      <td>0.932813</td>\n",
              "      <td>0.932527</td>\n",
              "    </tr>\n",
              "    <tr>\n",
              "      <td>1600</td>\n",
              "      <td>0.175300</td>\n",
              "      <td>0.184811</td>\n",
              "      <td>0.931250</td>\n",
              "      <td>0.931057</td>\n",
              "      <td>0.931250</td>\n",
              "      <td>0.931051</td>\n",
              "    </tr>\n",
              "  </tbody>\n",
              "</table><p>"
            ],
            "text/plain": [
              "<IPython.core.display.HTML object>"
            ]
          },
          "metadata": {},
          "output_type": "display_data"
        },
        {
          "metadata": {
            "tags": null
          },
          "name": "stderr",
          "output_type": "stream",
          "text": [
            "/usr/local/lib/python3.11/dist-packages/torch/utils/data/dataloader.py:624: UserWarning: This DataLoader will create 4 worker processes in total. Our suggested max number of worker in current system is 2, which is smaller than what this DataLoader is going to create. Please be aware that excessive worker creation might get DataLoader running slow or even freeze, lower the worker number to avoid potential slowness/freeze if necessary.\n",
            "  warnings.warn(\n",
            "/usr/local/lib/python3.11/dist-packages/torch/utils/data/dataloader.py:624: UserWarning: This DataLoader will create 4 worker processes in total. Our suggested max number of worker in current system is 2, which is smaller than what this DataLoader is going to create. Please be aware that excessive worker creation might get DataLoader running slow or even freeze, lower the worker number to avoid potential slowness/freeze if necessary.\n",
            "  warnings.warn(\n",
            "/usr/local/lib/python3.11/dist-packages/torch/utils/data/dataloader.py:624: UserWarning: This DataLoader will create 4 worker processes in total. Our suggested max number of worker in current system is 2, which is smaller than what this DataLoader is going to create. Please be aware that excessive worker creation might get DataLoader running slow or even freeze, lower the worker number to avoid potential slowness/freeze if necessary.\n",
            "  warnings.warn(\n",
            "/usr/local/lib/python3.11/dist-packages/torch/utils/data/dataloader.py:624: UserWarning: This DataLoader will create 4 worker processes in total. Our suggested max number of worker in current system is 2, which is smaller than what this DataLoader is going to create. Please be aware that excessive worker creation might get DataLoader running slow or even freeze, lower the worker number to avoid potential slowness/freeze if necessary.\n",
            "  warnings.warn(\n"
          ]
        },
        {
          "output_type": "display_data",
          "data": {
            "text/plain": [
              "<IPython.core.display.HTML object>"
            ],
            "text/html": [
              "\n",
              "    <div>\n",
              "      \n",
              "      <progress value='2000' max='2000' style='width:300px; height:20px; vertical-align: middle;'></progress>\n",
              "      [2000/2000 26:57, Epoch 1/2]\n",
              "    </div>\n",
              "    <table border=\"1\" class=\"dataframe\">\n",
              "  <thead>\n",
              " <tr style=\"text-align: left;\">\n",
              "      <th>Step</th>\n",
              "      <th>Training Loss</th>\n",
              "      <th>Validation Loss</th>\n",
              "      <th>Accuracy</th>\n",
              "      <th>Precision</th>\n",
              "      <th>Recall</th>\n",
              "      <th>F1</th>\n",
              "    </tr>\n",
              "  </thead>\n",
              "  <tbody>\n",
              "    <tr>\n",
              "      <td>400</td>\n",
              "      <td>0.259600</td>\n",
              "      <td>0.267410</td>\n",
              "      <td>0.921875</td>\n",
              "      <td>0.921510</td>\n",
              "      <td>0.921875</td>\n",
              "      <td>0.921524</td>\n",
              "    </tr>\n",
              "    <tr>\n",
              "      <td>800</td>\n",
              "      <td>0.216600</td>\n",
              "      <td>0.203550</td>\n",
              "      <td>0.923438</td>\n",
              "      <td>0.923392</td>\n",
              "      <td>0.923438</td>\n",
              "      <td>0.923402</td>\n",
              "    </tr>\n",
              "    <tr>\n",
              "      <td>1200</td>\n",
              "      <td>0.198000</td>\n",
              "      <td>0.202869</td>\n",
              "      <td>0.932813</td>\n",
              "      <td>0.932856</td>\n",
              "      <td>0.932813</td>\n",
              "      <td>0.932527</td>\n",
              "    </tr>\n",
              "    <tr>\n",
              "      <td>1600</td>\n",
              "      <td>0.175300</td>\n",
              "      <td>0.184811</td>\n",
              "      <td>0.931250</td>\n",
              "      <td>0.931057</td>\n",
              "      <td>0.931250</td>\n",
              "      <td>0.931051</td>\n",
              "    </tr>\n",
              "    <tr>\n",
              "      <td>2000</td>\n",
              "      <td>0.174200</td>\n",
              "      <td>0.183403</td>\n",
              "      <td>0.932813</td>\n",
              "      <td>0.932560</td>\n",
              "      <td>0.932813</td>\n",
              "      <td>0.932600</td>\n",
              "    </tr>\n",
              "  </tbody>\n",
              "</table><p>"
            ]
          },
          "metadata": {}
        },
        {
          "output_type": "stream",
          "name": "stdout",
          "text": [
            "TrainOutput(global_step=2000, training_loss=0.2507305064201355, metrics={'train_runtime': 1618.8248, 'train_samples_per_second': 79.07, 'train_steps_per_second': 1.235, 'total_flos': 2.258345883631411e+16, 'train_loss': 0.2507305064201355, 'epoch': 1.0723860589812333})\n"
          ]
        }
      ],
      "execution_count": 32
    },
    {
      "id": "5183be7e-514f-4e64-a6f4-314a827e6be5",
      "cell_type": "markdown",
      "source": [
        "## Evaluate Finetuned Model\n"
      ],
      "metadata": {
        "id": "5183be7e-514f-4e64-a6f4-314a827e6be5"
      }
    },
    {
      "id": "038198cf-0953-47e7-bd47-b073d05f8378",
      "cell_type": "markdown",
      "source": [
        "### Performing Inference on Custom Input\n",
        "Uncomment following functions for running inference on custom inputs"
      ],
      "metadata": {
        "id": "038198cf-0953-47e7-bd47-b073d05f8378"
      }
    },
    {
      "id": "Xlfphcl7bvFS",
      "cell_type": "code",
      "source": [
        "def classify(model, tokenizer, text):\n",
        "  device = torch.device(\"cuda\" if torch.cuda.is_available() else \"cpu\")\n",
        "  inputs = tokenizer(text, truncation = True, padding = True, return_tensors = \"pt\").to(device)\n",
        "  output = model(**inputs)\n",
        "\n",
        "  prediction = output.logits.argmax(dim = -1).item()\n",
        "\n",
        "  print(f\"\\n Class: {prediction}, Label: {id2label[prediction]}, Text: {text}\")\n",
        "  return id2label[prediction]"
      ],
      "metadata": {
        "id": "Xlfphcl7bvFS",
        "trusted": true
      },
      "outputs": [],
      "execution_count": 33
    },
    {
      "id": "fc52bb94-5e13-4943-9225-a6d7fd053579",
      "cell_type": "code",
      "source": [
        "classify(final_trainer.model, tokenizer, \"Kederis proclaims innocence Olympic champion Kostas Kederis today left hospital ahead of his date with IOC inquisitors claiming his ...\")\n",
        "classify(final_trainer.model, tokenizer, \"Wall St. Bears Claw Back Into the Black (Reuters) Reuters - Short-sellers, Wall Street's dwindling\\band of ultra-cynics, are seeing green again.\")"
      ],
      "metadata": {
        "id": "fc52bb94-5e13-4943-9225-a6d7fd053579",
        "trusted": true,
        "colab": {
          "base_uri": "https://localhost:8080/",
          "height": 128
        },
        "outputId": "897104c8-6983-4d3a-a1eb-9f91b290f3fb"
      },
      "outputs": [
        {
          "output_type": "stream",
          "name": "stdout",
          "text": [
            "\n",
            " Class: 1, Label: Sports, Text: Kederis proclaims innocence Olympic champion Kostas Kederis today left hospital ahead of his date with IOC inquisitors claiming his ...\n",
            "\n",
            " Class: 2, Label: Business, Text: Wall St. Bears Claw Back Into the Black (Reuters) Reuters - Short-sellers, Wall Street's dwindling\band of ultra-cynics, are seeing green again.\n"
          ]
        },
        {
          "output_type": "execute_result",
          "data": {
            "text/plain": [
              "'Business'"
            ],
            "application/vnd.google.colaboratory.intrinsic+json": {
              "type": "string"
            }
          },
          "metadata": {},
          "execution_count": 34
        }
      ],
      "execution_count": 34
    },
    {
      "id": "68a3e276-bf8c-4403-8a48-5ef19f2beccf",
      "cell_type": "markdown",
      "source": [
        "### Run Inference on eval_dataset"
      ],
      "metadata": {
        "id": "68a3e276-bf8c-4403-8a48-5ef19f2beccf"
      }
    },
    {
      "id": "ebbc20a2-a1c0-4cb7-b842-f52e4de61ed5",
      "cell_type": "code",
      "source": [
        "from torch.utils.data import DataLoader\n",
        "import evaluate\n",
        "from tqdm import tqdm\n",
        "\n",
        "def evaluate_model(inference_model, dataset, labelled=True, batch_size=8, data_collator=None):\n",
        "    \"\"\"\n",
        "    Evaluate a PEFT model on a dataset.\n",
        "\n",
        "    Args:\n",
        "        inference_model: The model to evaluate.\n",
        "        dataset: The dataset (Hugging Face Dataset) to run inference on.\n",
        "        labelled (bool): If True, the dataset includes labels and metrics will be computed.\n",
        "                         If False, only predictions will be returned.\n",
        "        batch_size (int): Batch size for inference.\n",
        "        data_collator: Function to collate batches. If None, the default collate_fn is used.\n",
        "\n",
        "    Returns:\n",
        "        If labelled is True, returns a tuple (metrics, predictions)\n",
        "        If labelled is False, returns the predictions.\n",
        "    \"\"\"\n",
        "    # Create the DataLoader\n",
        "    eval_dataloader = DataLoader(dataset, batch_size=batch_size, collate_fn=data_collator)\n",
        "    device = torch.device(\"cuda\" if torch.cuda.is_available() else \"cpu\")\n",
        "\n",
        "    inference_model.to(device)\n",
        "    inference_model.eval()\n",
        "\n",
        "    all_predictions = []\n",
        "    if labelled:\n",
        "        metric = evaluate.load('accuracy')\n",
        "\n",
        "    # Loop over the DataLoader\n",
        "    for batch in tqdm(eval_dataloader):\n",
        "        # Move each tensor in the batch to the device\n",
        "        batch = {k: v.to(device) for k, v in batch.items()}\n",
        "        with torch.no_grad():\n",
        "            outputs = inference_model(**batch)\n",
        "        predictions = outputs.logits.argmax(dim=-1)\n",
        "        all_predictions.append(predictions.cpu())\n",
        "\n",
        "        if labelled:\n",
        "            # Expecting that labels are provided under the \"labels\" key.\n",
        "            references = batch[\"labels\"]\n",
        "            metric.add_batch(\n",
        "                predictions=predictions.cpu().numpy(),\n",
        "                references=references.cpu().numpy()\n",
        "            )\n",
        "\n",
        "    # Concatenate predictions from all batches\n",
        "    all_predictions = torch.cat(all_predictions, dim=0)\n",
        "\n",
        "    if labelled:\n",
        "        eval_metric = metric.compute()\n",
        "        print(\"Evaluation Metric:\", eval_metric)\n",
        "        return eval_metric, all_predictions\n",
        "    else:\n",
        "        return all_predictions"
      ],
      "metadata": {
        "id": "ebbc20a2-a1c0-4cb7-b842-f52e4de61ed5",
        "trusted": true
      },
      "outputs": [],
      "execution_count": 35
    },
    {
      "id": "809635a6-a2c7-4d09-8d60-ababd1815003",
      "cell_type": "code",
      "source": [
        "# Check evaluation accuracy\n",
        "_, _ = evaluate_model(final_trainer.model, test_set, True, 8, datacollator)"
      ],
      "metadata": {
        "id": "809635a6-a2c7-4d09-8d60-ababd1815003",
        "trusted": true,
        "colab": {
          "base_uri": "https://localhost:8080/",
          "height": 85,
          "referenced_widgets": [
            "aca36fc2ed0740afb06b2d32ad283206",
            "3f0dcd5c898541888b611b111a805fd7",
            "410498a05d64417e8512275c65b29be9",
            "5aefd5b4c919485383a47f9c01fefe51",
            "e24a0b5ca76a47809477caeec39ed81b",
            "f6dc8d07bed24ae19aac955dbcc83dbb",
            "1b7d85f4da0447579c451ea8e167b1c2",
            "92415134e6d445e2839e6008a6fa6e58",
            "6ef11b1d8ec4404f857f417696852cf3",
            "fe2599676b3241a384dda948cc2cc4a9",
            "f583a29968fd4431b1e5dbd3c9d48a20"
          ]
        },
        "outputId": "e03b3a91-6111-49a0-8ea0-66a3ffe7cee7"
      },
      "outputs": [
        {
          "output_type": "display_data",
          "data": {
            "text/plain": [
              "Downloading builder script:   0%|          | 0.00/4.20k [00:00<?, ?B/s]"
            ],
            "application/vnd.jupyter.widget-view+json": {
              "version_major": 2,
              "version_minor": 0,
              "model_id": "aca36fc2ed0740afb06b2d32ad283206"
            }
          },
          "metadata": {}
        },
        {
          "output_type": "stream",
          "name": "stderr",
          "text": [
            "100%|██████████| 80/80 [00:03<00:00, 23.95it/s]"
          ]
        },
        {
          "output_type": "stream",
          "name": "stdout",
          "text": [
            "Evaluation Metric: {'accuracy': 0.9328125}\n"
          ]
        },
        {
          "output_type": "stream",
          "name": "stderr",
          "text": [
            "\n"
          ]
        }
      ],
      "execution_count": 36
    },
    {
      "id": "75f39087-f2bb-49d3-9fe1-0d812fb30203",
      "cell_type": "markdown",
      "source": [
        "### Run Inference on unlabelled dataset"
      ],
      "metadata": {
        "id": "75f39087-f2bb-49d3-9fe1-0d812fb30203"
      }
    },
    {
      "id": "2af62541-2c33-4f16-bb1c-cc969c715cd7",
      "cell_type": "code",
      "source": [
        "#Load your unlabelled data\n",
        "unlabelled_dataset = pd.read_pickle(\"test_unlabelled.pkl\")\n",
        "test_dataset = unlabelled_dataset.map(preprocess, batched=True, remove_columns=[\"text\"])\n",
        "test_dataset = test_dataset.with_format(\"torch\")  # Ensure no shuffle\n",
        "unlabelled_dataset"
      ],
      "metadata": {
        "id": "2af62541-2c33-4f16-bb1c-cc969c715cd7",
        "trusted": true,
        "colab": {
          "base_uri": "https://localhost:8080/",
          "height": 122,
          "referenced_widgets": [
            "03abc77243dd4fc09c5cd9b2dcd8f522",
            "d3d3ee3c3ff84b1e8af2ecc080f56837",
            "2ec09d6c8b63423d8121514f85159fc3",
            "095cbabdcd92413382f2729483c5d4ca",
            "55181ab1710d4ad4a038776378d80311",
            "98c2f9cb1c574470b1bb5d32ec40fa7c",
            "5533b60c479c4938b6069b0f5b7b9de6",
            "8efddf0b20624d0cb75f84bc3fe0c921",
            "e282b0990b9a430c809e1cb5fe76b300",
            "dcfd800dd9994a11aebf82580920ec86",
            "826e0d6937d64ce5b9de5657e5cb60f0"
          ]
        },
        "outputId": "720e263c-6b9f-4090-b7e5-b9f5ab6898b8"
      },
      "outputs": [
        {
          "output_type": "display_data",
          "data": {
            "text/plain": [
              "Map:   0%|          | 0/8000 [00:00<?, ? examples/s]"
            ],
            "application/vnd.jupyter.widget-view+json": {
              "version_major": 2,
              "version_minor": 0,
              "model_id": "03abc77243dd4fc09c5cd9b2dcd8f522"
            }
          },
          "metadata": {}
        },
        {
          "output_type": "execute_result",
          "data": {
            "text/plain": [
              "Dataset({\n",
              "    features: ['text'],\n",
              "    num_rows: 8000\n",
              "})"
            ]
          },
          "metadata": {},
          "execution_count": 37
        }
      ],
      "execution_count": 37
    },
    {
      "id": "e60991d3-38b1-4657-8854-408ce66f6b84",
      "cell_type": "code",
      "source": [
        "# Run inference and save predictions\n",
        "preds = evaluate_model(final_trainer.model, test_dataset, False, 8, datacollator)\n",
        "df_output = pd.DataFrame({\n",
        "    'ID': range(len(preds)),\n",
        "    'Label': preds.numpy()  # or preds.tolist()\n",
        "})\n",
        "df_output.to_csv(os.path.join(output_dir,\"inference_output_trial9.csv\"), index=False)\n",
        "print(\"Inference complete. Predictions saved to inference_output_trial9.csv\")"
      ],
      "metadata": {
        "id": "e60991d3-38b1-4657-8854-408ce66f6b84",
        "trusted": true,
        "colab": {
          "base_uri": "https://localhost:8080/"
        },
        "outputId": "21a6baa0-c587-42bb-e13e-8f59258ccdb2"
      },
      "outputs": [
        {
          "output_type": "stream",
          "name": "stderr",
          "text": [
            "100%|██████████| 1000/1000 [00:41<00:00, 24.18it/s]"
          ]
        },
        {
          "output_type": "stream",
          "name": "stdout",
          "text": [
            "Inference complete. Predictions saved to inference_output_trial9.csv\n"
          ]
        },
        {
          "output_type": "stream",
          "name": "stderr",
          "text": [
            "\n"
          ]
        }
      ],
      "execution_count": 39
    }
  ]
}